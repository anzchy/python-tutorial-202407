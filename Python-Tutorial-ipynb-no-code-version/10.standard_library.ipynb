{
    "cells": [
        {
            "cell_type": "markdown",
            "id": "71fff096",
            "metadata": {},
            "source": [
                "$$\n",
                "\\def\\CC{\\bf C}\n",
                "\\def\\QQ{\\bf Q}\n",
                "\\def\\RR{\\bf R}\n",
                "\\def\\ZZ{\\bf Z}\n",
                "\\def\\NN{\\bf N}\n",
                "$$\n",
                "# Brief Tour of the Standard Library\n",
                "\n",
                "## Operating System Interface\n",
                "\n",
                "The `os` module provides dozens of functions for interacting with the\n",
                "operating system:"
            ]
        },
        {
            "cell_type": "code",
            "execution_count": null,
            "id": "8c93be64",
            "metadata": {},
            "outputs": [],
            "source": []
        },
        {
            "cell_type": "code",
            "execution_count": null,
            "id": "e3d95282",
            "metadata": {},
            "outputs": [],
            "source": []
        },
        {
            "cell_type": "markdown",
            "id": "93bd17e4",
            "metadata": {},
            "source": [
                "Be sure to use the `import os` style instead of `from os import *`. This\n",
                "will keep `os.open` from shadowing the built-in `open` function which\n",
                "operates much differently.\n",
                "\n",
                "pair: built-in function; help\n",
                "\n",
                "The built-in `dir` and `help` functions are useful as interactive aids\n",
                "for working with large modules like `os` :"
            ]
        },
        {
            "cell_type": "code",
            "execution_count": null,
            "id": "d3022a32",
            "metadata": {},
            "outputs": [],
            "source": []
        },
        {
            "cell_type": "code",
            "execution_count": null,
            "id": "53041e75",
            "metadata": {},
            "outputs": [],
            "source": []
        },
        {
            "cell_type": "markdown",
            "id": "339bb689",
            "metadata": {},
            "source": [
                "For daily file and directory management tasks, the `shutil` module\n",
                "provides a higher level interface that is easier to use:"
            ]
        },
        {
            "cell_type": "code",
            "execution_count": null,
            "id": "93e743bc",
            "metadata": {},
            "outputs": [],
            "source": []
        },
        {
            "cell_type": "code",
            "execution_count": null,
            "id": "41902acd",
            "metadata": {},
            "outputs": [],
            "source": []
        },
        {
            "cell_type": "markdown",
            "id": "acd9bbd1",
            "metadata": {},
            "source": [
                "## File Wildcards\n",
                "\n",
                "The `glob` module provides a function for making file lists from\n",
                "directory wildcard searches:"
            ]
        },
        {
            "cell_type": "code",
            "execution_count": null,
            "id": "41cb47ff",
            "metadata": {},
            "outputs": [],
            "source": []
        },
        {
            "cell_type": "markdown",
            "id": "8c4eb2a4",
            "metadata": {},
            "source": [
                "## Command Line Arguments\n",
                "\n",
                "Common utility scripts often need to process command line arguments.\n",
                "These arguments are stored in the `sys` module's *argv* attribute as a\n",
                "list. For instance, let's take the following `demo.py` file:"
            ]
        },
        {
            "cell_type": "code",
            "execution_count": null,
            "id": "cabddc2f",
            "metadata": {},
            "outputs": [],
            "source": []
        },
        {
            "cell_type": "markdown",
            "id": "29955adf",
            "metadata": {},
            "source": [
                "Here is the output from running `python demo.py one two three` at the\n",
                "command line:"
            ]
        },
        {
            "cell_type": "code",
            "execution_count": null,
            "id": "12074485",
            "metadata": {},
            "outputs": [],
            "source": []
        },
        {
            "cell_type": "markdown",
            "id": "f520f66d",
            "metadata": {},
            "source": [
                "The `argparse` module provides a more sophisticated mechanism to process\n",
                "command line arguments. The following script extracts one or more\n",
                "filenames and an optional number of lines to be displayed:"
            ]
        },
        {
            "cell_type": "code",
            "execution_count": null,
            "id": "3d7d139c",
            "metadata": {},
            "outputs": [],
            "source": []
        },
        {
            "cell_type": "markdown",
            "id": "3c0d35f5",
            "metadata": {},
            "source": [
                "When run at the command line with\n",
                "`python top.py --lines=5 alpha.txt beta.txt`, the script sets\n",
                "`args.lines` to `5` and `args.filenames` to `['alpha.txt', 'beta.txt']`.\n",
                "\n",
                "## Error Output Redirection and Program Termination\n",
                "\n",
                "The `sys` module also has attributes for *stdin*, *stdout*, and\n",
                "*stderr*. The latter is useful for emitting warnings and error messages\n",
                "to make them visible even when *stdout* has been redirected:"
            ]
        },
        {
            "cell_type": "code",
            "execution_count": null,
            "id": "c73ec1db",
            "metadata": {},
            "outputs": [],
            "source": []
        },
        {
            "cell_type": "markdown",
            "id": "91b13fd2",
            "metadata": {},
            "source": [
                "The most direct way to terminate a script is to use `sys.exit()`.\n",
                "\n",
                "## String Pattern Matching\n",
                "\n",
                "The `re` module provides regular expression tools for advanced string\n",
                "processing. For complex matching and manipulation, regular expressions\n",
                "offer succinct, optimized solutions:"
            ]
        },
        {
            "cell_type": "code",
            "execution_count": null,
            "id": "8fe25d79",
            "metadata": {},
            "outputs": [],
            "source": []
        },
        {
            "cell_type": "code",
            "execution_count": null,
            "id": "af541726",
            "metadata": {},
            "outputs": [],
            "source": []
        },
        {
            "cell_type": "markdown",
            "id": "b9cd6a70",
            "metadata": {},
            "source": [
                "When only simple capabilities are needed, string methods are preferred\n",
                "because they are easier to read and debug:"
            ]
        },
        {
            "cell_type": "code",
            "execution_count": null,
            "id": "636f7df8",
            "metadata": {},
            "outputs": [],
            "source": []
        },
        {
            "cell_type": "markdown",
            "id": "9cadeaa6",
            "metadata": {},
            "source": [
                "## Mathematics\n",
                "\n",
                "The `math` module gives access to the underlying C library functions for\n",
                "floating-point math:"
            ]
        },
        {
            "cell_type": "code",
            "execution_count": null,
            "id": "842b2df6",
            "metadata": {},
            "outputs": [],
            "source": []
        },
        {
            "cell_type": "code",
            "execution_count": null,
            "id": "36b9be33",
            "metadata": {},
            "outputs": [],
            "source": []
        },
        {
            "cell_type": "markdown",
            "id": "cf8b0c54",
            "metadata": {},
            "source": [
                "The `random` module provides tools for making random selections:"
            ]
        },
        {
            "cell_type": "code",
            "execution_count": null,
            "id": "5bc7c8a3",
            "metadata": {},
            "outputs": [],
            "source": []
        },
        {
            "cell_type": "code",
            "execution_count": null,
            "id": "966418e5",
            "metadata": {},
            "outputs": [],
            "source": []
        },
        {
            "cell_type": "code",
            "execution_count": null,
            "id": "6d109453",
            "metadata": {},
            "outputs": [],
            "source": []
        },
        {
            "cell_type": "code",
            "execution_count": null,
            "id": "e28a7a9e",
            "metadata": {},
            "outputs": [],
            "source": []
        },
        {
            "cell_type": "markdown",
            "id": "d9436c5d",
            "metadata": {},
            "source": [
                "The `statistics` module calculates basic statistical properties (the\n",
                "mean, median, variance, etc.) of numeric data:"
            ]
        },
        {
            "cell_type": "code",
            "execution_count": null,
            "id": "2f50724a",
            "metadata": {},
            "outputs": [],
            "source": []
        },
        {
            "cell_type": "code",
            "execution_count": null,
            "id": "a0008d13",
            "metadata": {},
            "outputs": [],
            "source": []
        },
        {
            "cell_type": "code",
            "execution_count": null,
            "id": "ce17b86b",
            "metadata": {},
            "outputs": [],
            "source": []
        },
        {
            "cell_type": "markdown",
            "id": "276bd28d",
            "metadata": {},
            "source": [
                "The SciPy project \\<<https://scipy.org>\\> has many other modules for\n",
                "numerical computations.\n",
                "\n",
                "## Internet Access\n",
                "\n",
                "There are a number of modules for accessing the internet and processing\n",
                "internet protocols. Two of the simplest are `urllib.request` for\n",
                "retrieving data from URLs and `smtplib` for sending mail:"
            ]
        },
        {
            "cell_type": "code",
            "execution_count": null,
            "id": "0dcd4fbd",
            "metadata": {},
            "outputs": [],
            "source": []
        },
        {
            "cell_type": "code",
            "execution_count": null,
            "id": "236e48be",
            "metadata": {},
            "outputs": [],
            "source": []
        },
        {
            "cell_type": "markdown",
            "id": "1e9e6f69",
            "metadata": {},
            "source": [
                "(Note that the second example needs a mailserver running on localhost.)\n",
                "\n",
                "## Dates and Times\n",
                "\n",
                "The `datetime` module supplies classes for manipulating dates and times\n",
                "in both simple and complex ways. While date and time arithmetic is\n",
                "supported, the focus of the implementation is on efficient member\n",
                "extraction for output formatting and manipulation. The module also\n",
                "supports objects that are timezone aware. :"
            ]
        },
        {
            "cell_type": "code",
            "execution_count": null,
            "id": "fde27447",
            "metadata": {},
            "outputs": [],
            "source": []
        },
        {
            "cell_type": "code",
            "execution_count": null,
            "id": "0228c4a9",
            "metadata": {},
            "outputs": [],
            "source": []
        },
        {
            "cell_type": "code",
            "execution_count": null,
            "id": "e8429d38",
            "metadata": {},
            "outputs": [],
            "source": []
        },
        {
            "cell_type": "markdown",
            "id": "40ce39c7",
            "metadata": {},
            "source": [
                "## Data Compression\n",
                "\n",
                "Common data archiving and compression formats are directly supported by\n",
                "modules including: `zlib`, `gzip`, `bz2`, `lzma`, `zipfile` and\n",
                "`tarfile`. :"
            ]
        },
        {
            "cell_type": "code",
            "execution_count": null,
            "id": "a3d6ddc1",
            "metadata": {},
            "outputs": [],
            "source": []
        },
        {
            "cell_type": "code",
            "execution_count": null,
            "id": "11e61f4f",
            "metadata": {},
            "outputs": [],
            "source": []
        },
        {
            "cell_type": "code",
            "execution_count": null,
            "id": "183d15ab",
            "metadata": {},
            "outputs": [],
            "source": []
        },
        {
            "cell_type": "code",
            "execution_count": null,
            "id": "f4f24f21",
            "metadata": {},
            "outputs": [],
            "source": []
        },
        {
            "cell_type": "markdown",
            "id": "669ddef4",
            "metadata": {},
            "source": [
                "## Performance Measurement\n",
                "\n",
                "Some Python users develop a deep interest in knowing the relative\n",
                "performance of different approaches to the same problem. Python provides\n",
                "a measurement tool that answers those questions immediately.\n",
                "\n",
                "For example, it may be tempting to use the tuple packing and unpacking\n",
                "feature instead of the traditional approach to swapping arguments. The\n",
                "`timeit` module quickly demonstrates a modest performance advantage:"
            ]
        },
        {
            "cell_type": "code",
            "execution_count": null,
            "id": "3ad8c980",
            "metadata": {},
            "outputs": [],
            "source": []
        },
        {
            "cell_type": "code",
            "execution_count": null,
            "id": "19ac651e",
            "metadata": {},
            "outputs": [],
            "source": []
        },
        {
            "cell_type": "markdown",
            "id": "7af025d4",
            "metadata": {},
            "source": [
                "In contrast to `timeit`'s fine level of granularity, the `profile` and\n",
                "`pstats` modules provide tools for identifying time critical sections in\n",
                "larger blocks of code.\n",
                "\n",
                "## Quality Control\n",
                "\n",
                "One approach for developing high quality software is to write tests for\n",
                "each function as it is developed and to run those tests frequently\n",
                "during the development process.\n",
                "\n",
                "The `doctest` module provides a tool for scanning a module and\n",
                "validating tests embedded in a program's docstrings. Test construction\n",
                "is as simple as cutting-and-pasting a typical call along with its\n",
                "results into the docstring. This improves the documentation by providing\n",
                "the user with an example and it allows the doctest module to make sure\n",
                "the code remains true to the documentation:"
            ]
        },
        {
            "cell_type": "code",
            "execution_count": null,
            "id": "3d2670c7",
            "metadata": {},
            "outputs": [],
            "source": []
        },
        {
            "cell_type": "markdown",
            "id": "ae647984",
            "metadata": {},
            "source": [
                "The `unittest` module is not as effortless as the `doctest` module, but\n",
                "it allows a more comprehensive set of tests to be maintained in a\n",
                "separate file:"
            ]
        },
        {
            "cell_type": "code",
            "execution_count": null,
            "id": "a3859bc6",
            "metadata": {},
            "outputs": [],
            "source": []
        },
        {
            "cell_type": "markdown",
            "id": "e31ac100",
            "metadata": {},
            "source": [
                "## Batteries Included\n",
                "\n",
                "Python has a \"batteries included\" philosophy. This is best seen through\n",
                "the sophisticated and robust capabilities of its larger packages. For\n",
                "example:\n",
                "\n",
                "-   The `xmlrpc.client` and `xmlrpc.server` modules make implementing\n",
                "    remote procedure calls into an almost trivial task. Despite the\n",
                "    modules' names, no direct knowledge or handling of XML is needed.\n",
                "-   The `email` package is a library for managing email messages,\n",
                "    including MIME and other `2822`-based message documents. Unlike\n",
                "    `smtplib` and `poplib` which actually send and receive messages, the\n",
                "    email package has a complete toolset for building or decoding\n",
                "    complex message structures (including attachments) and for\n",
                "    implementing internet encoding and header protocols.\n",
                "-   The `json` package provides robust support for parsing this popular\n",
                "    data interchange format. The `csv` module supports direct reading\n",
                "    and writing of files in Comma-Separated Value format, commonly\n",
                "    supported by databases and spreadsheets. XML processing is supported\n",
                "    by the `xml.etree.ElementTree`, `xml.dom` and `xml.sax` packages.\n",
                "    Together, these modules and packages greatly simplify data\n",
                "    interchange between Python applications and other tools.\n",
                "-   The `sqlite3` module is a wrapper for the SQLite database library,\n",
                "    providing a persistent database that can be updated and accessed\n",
                "    using slightly nonstandard SQL syntax.\n",
                "-   Internationalization is supported by a number of modules including\n",
                "    `gettext`, `locale`, and the `codecs` package."
            ]
        }
    ],
    "metadata": {},
    "nbformat": 4,
    "nbformat_minor": 5
}