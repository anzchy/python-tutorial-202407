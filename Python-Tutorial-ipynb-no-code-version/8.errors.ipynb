{
    "cells": [
        {
            "cell_type": "markdown",
            "id": "8ffad16b",
            "metadata": {},
            "source": [
                "$$\n",
                "\\def\\CC{\\bf C}\n",
                "\\def\\QQ{\\bf Q}\n",
                "\\def\\RR{\\bf R}\n",
                "\\def\\ZZ{\\bf Z}\n",
                "\\def\\NN{\\bf N}\n",
                "$$\n",
                "# Errors and Exceptions\n",
                "\n",
                "Until now error messages haven't been more than mentioned, but if you\n",
                "have tried out the examples you have probably seen some. There are (at\n",
                "least) two distinguishable kinds of errors: *syntax errors* and\n",
                "*exceptions*.\n",
                "\n",
                "## Syntax Errors\n",
                "\n",
                "Syntax errors, also known as parsing errors, are perhaps the most common\n",
                "kind of complaint you get while you are still learning Python:"
            ]
        },
        {
            "cell_type": "code",
            "execution_count": null,
            "id": "711ff715",
            "metadata": {},
            "outputs": [],
            "source": []
        },
        {
            "cell_type": "markdown",
            "id": "6f25663c",
            "metadata": {},
            "source": [
                "The parser repeats the offending line and displays little 'arrow's\n",
                "pointing at the token in the line where the error was detected. The\n",
                "error may be caused by the absence of a token *before* the indicated\n",
                "token. In the example, the error is detected at the function `print`,\n",
                "since a colon (`':'`) is missing before it. File name and line number\n",
                "are printed so you know where to look in case the input came from a\n",
                "script.\n",
                "\n",
                "## Exceptions\n",
                "\n",
                "Even if a statement or expression is syntactically correct, it may cause\n",
                "an error when an attempt is made to execute it. Errors detected during\n",
                "execution are called *exceptions* and are not unconditionally fatal: you\n",
                "will soon learn how to handle them in Python programs. Most exceptions\n",
                "are not handled by programs, however, and result in error messages as\n",
                "shown here:"
            ]
        },
        {
            "cell_type": "code",
            "execution_count": null,
            "id": "771b770d",
            "metadata": {},
            "outputs": [],
            "source": []
        },
        {
            "cell_type": "code",
            "execution_count": null,
            "id": "3aa7dc04",
            "metadata": {},
            "outputs": [],
            "source": []
        },
        {
            "cell_type": "code",
            "execution_count": null,
            "id": "30ea21f6",
            "metadata": {},
            "outputs": [],
            "source": []
        },
        {
            "cell_type": "markdown",
            "id": "de9d8451",
            "metadata": {},
            "source": [
                "The last line of the error message indicates what happened. Exceptions\n",
                "come in different types, and the type is printed as part of the message:\n",
                "the types in the example are `ZeroDivisionError`, `NameError` and\n",
                "`TypeError`. The string printed as the exception type is the name of the\n",
                "built-in exception that occurred. This is true for all built-in\n",
                "exceptions, but need not be true for user-defined exceptions (although\n",
                "it is a useful convention). Standard exception names are built-in\n",
                "identifiers (not reserved keywords).\n",
                "\n",
                "The rest of the line provides detail based on the type of exception and\n",
                "what caused it.\n",
                "\n",
                "The preceding part of the error message shows the context where the\n",
                "exception occurred, in the form of a stack traceback. In general it\n",
                "contains a stack traceback listing source lines; however, it will not\n",
                "display lines read from standard input.\n",
                "\n",
                "[bltin-exceptions](bltin-exceptions.ipynb) lists the built-in exceptions\n",
                "and their meanings.\n",
                "\n",
                "## Handling Exceptions\n",
                "\n",
                "It is possible to write programs that handle selected exceptions. Look\n",
                "at the following example, which asks the user for input until a valid\n",
                "integer has been entered, but allows the user to interrupt the program\n",
                "(using `Control-C` or whatever the operating system supports); note that\n",
                "a user-generated interruption is signalled by raising the\n",
                "`KeyboardInterrupt` exception. :"
            ]
        },
        {
            "cell_type": "code",
            "execution_count": null,
            "id": "5563c551",
            "metadata": {},
            "outputs": [],
            "source": []
        },
        {
            "cell_type": "markdown",
            "id": "5c289bd1",
            "metadata": {},
            "source": [
                "The `try` statement works as follows.\n",
                "\n",
                "-   First, the *try clause* (the statement(s) between the `try` and\n",
                "    `except` keywords) is executed.\n",
                "-   If no exception occurs, the *except clause* is skipped and execution\n",
                "    of the `try` statement is finished.\n",
                "-   If an exception occurs during execution of the `try` clause, the\n",
                "    rest of the clause is skipped. Then, if its type matches the\n",
                "    exception named after the `except` keyword, the *except clause* is\n",
                "    executed, and then execution continues after the try/except block.\n",
                "-   If an exception occurs which does not match the exception named in\n",
                "    the *except clause*, it is passed on to outer `try` statements; if\n",
                "    no handler is found, it is an *unhandled exception* and execution\n",
                "    stops with an error message.\n",
                "\n",
                "A `try` statement may have more than one *except clause*, to specify\n",
                "handlers for different exceptions. At most one handler will be executed.\n",
                "Handlers only handle exceptions that occur in the corresponding *try\n",
                "clause*, not in other handlers of the same `!try` statement. An *except\n",
                "clause* may name multiple exceptions as a parenthesized tuple, for\n",
                "example:\n",
                "\n",
                "A class in an `except` clause matches exceptions which are instances of\n",
                "the class itself or one of its derived classes (but not the other way\n",
                "around --- an *except clause* listing a derived class does not match\n",
                "instances of its base classes). For example, the following code will\n",
                "print B, C, D in that order:"
            ]
        },
        {
            "cell_type": "code",
            "execution_count": null,
            "id": "fa32d95e",
            "metadata": {},
            "outputs": [],
            "source": []
        },
        {
            "cell_type": "markdown",
            "id": "a27f542e",
            "metadata": {},
            "source": [
                "Note that if the *except clauses* were reversed (with `except B` first),\n",
                "it would have printed B, B, B --- the first matching *except clause* is\n",
                "triggered.\n",
                "\n",
                "When an exception occurs, it may have associated values, also known as\n",
                "the exception's *arguments*. The presence and types of the arguments\n",
                "depend on the exception type.\n",
                "\n",
                "The *except clause* may specify a variable after the exception name. The\n",
                "variable is bound to the exception instance which typically has an\n",
                "`args` attribute that stores the arguments. For convenience, builtin\n",
                "exception types define `~object.__str__` to print all the arguments\n",
                "without explicitly accessing `.args`. :"
            ]
        },
        {
            "cell_type": "code",
            "execution_count": null,
            "id": "150c7cc5",
            "metadata": {},
            "outputs": [],
            "source": []
        },
        {
            "cell_type": "markdown",
            "id": "73be322c",
            "metadata": {},
            "source": [
                "The exception's `~object.__str__` output is printed as the last part\n",
                "('detail') of the message for unhandled exceptions.\n",
                "\n",
                "`BaseException` is the common base class of all exceptions. One of its\n",
                "subclasses, `Exception`, is the base class of all the non-fatal\n",
                "exceptions. Exceptions which are not subclasses of `Exception` are not\n",
                "typically handled, because they are used to indicate that the program\n",
                "should terminate. They include `SystemExit` which is raised by\n",
                "`sys.exit` and `KeyboardInterrupt` which is raised when a user wishes to\n",
                "interrupt the program.\n",
                "\n",
                "`Exception` can be used as a wildcard that catches (almost) everything.\n",
                "However, it is good practice to be as specific as possible with the\n",
                "types of exceptions that we intend to handle, and to allow any\n",
                "unexpected exceptions to propagate on.\n",
                "\n",
                "The most common pattern for handling `Exception` is to print or log the\n",
                "exception and then re-raise it (allowing a caller to handle the\n",
                "exception as well):"
            ]
        },
        {
            "cell_type": "code",
            "execution_count": null,
            "id": "670b6ebf",
            "metadata": {},
            "outputs": [],
            "source": []
        },
        {
            "cell_type": "markdown",
            "id": "9c9bb2e2",
            "metadata": {},
            "source": [
                "The `try` ... `except` statement has an optional *else clause*, which,\n",
                "when present, must follow all *except clauses*. It is useful for code\n",
                "that must be executed if the *try clause* does not raise an exception.\n",
                "For example:"
            ]
        },
        {
            "cell_type": "code",
            "execution_count": null,
            "id": "422e78c9",
            "metadata": {},
            "outputs": [],
            "source": []
        },
        {
            "cell_type": "markdown",
            "id": "7210ca88",
            "metadata": {},
            "source": [
                "The use of the `!else` clause is better than adding additional code to\n",
                "the `try` clause because it avoids accidentally catching an exception\n",
                "that wasn't raised by the code being protected by the `!try` ...\n",
                "`!except` statement.\n",
                "\n",
                "Exception handlers do not handle only exceptions that occur immediately\n",
                "in the *try clause*, but also those that occur inside functions that are\n",
                "called (even indirectly) in the *try clause*. For example:"
            ]
        },
        {
            "cell_type": "code",
            "execution_count": null,
            "id": "e69480c7",
            "metadata": {},
            "outputs": [],
            "source": []
        },
        {
            "cell_type": "markdown",
            "id": "c3a02f9d",
            "metadata": {},
            "source": [
                "## Raising Exceptions\n",
                "\n",
                "The `raise` statement allows the programmer to force a specified\n",
                "exception to occur. For example:"
            ]
        },
        {
            "cell_type": "code",
            "execution_count": null,
            "id": "2cb4f077",
            "metadata": {},
            "outputs": [],
            "source": []
        },
        {
            "cell_type": "markdown",
            "id": "2ab703e2",
            "metadata": {},
            "source": [
                "The sole argument to `raise` indicates the exception to be raised. This\n",
                "must be either an exception instance or an exception class (a class that\n",
                "derives from `BaseException`, such as `Exception` or one of its\n",
                "subclasses). If an exception class is passed, it will be implicitly\n",
                "instantiated by calling its constructor with no arguments:"
            ]
        },
        {
            "cell_type": "code",
            "execution_count": null,
            "id": "1a6d22a8",
            "metadata": {},
            "outputs": [],
            "source": []
        },
        {
            "cell_type": "markdown",
            "id": "25d6c5e6",
            "metadata": {},
            "source": [
                "If you need to determine whether an exception was raised but don't\n",
                "intend to handle it, a simpler form of the `raise` statement allows you\n",
                "to re-raise the exception:"
            ]
        },
        {
            "cell_type": "code",
            "execution_count": null,
            "id": "cd385a24",
            "metadata": {},
            "outputs": [],
            "source": []
        },
        {
            "cell_type": "markdown",
            "id": "4461480a",
            "metadata": {},
            "source": [
                "## Exception Chaining\n",
                "\n",
                "If an unhandled exception occurs inside an `except` section, it will\n",
                "have the exception being handled attached to it and included in the\n",
                "error message:"
            ]
        },
        {
            "cell_type": "code",
            "execution_count": null,
            "id": "c6ccdb34",
            "metadata": {},
            "outputs": [],
            "source": []
        },
        {
            "cell_type": "markdown",
            "id": "985a1d21",
            "metadata": {},
            "source": [
                "To indicate that an exception is a direct consequence of another, the\n",
                "`raise` statement allows an optional `from<raise>` clause:"
            ]
        },
        {
            "cell_type": "code",
            "execution_count": null,
            "id": "31e5cd1d",
            "metadata": {},
            "outputs": [],
            "source": []
        },
        {
            "cell_type": "markdown",
            "id": "90d59ac3",
            "metadata": {},
            "source": [
                "This can be useful when you are transforming exceptions. For example:"
            ]
        },
        {
            "cell_type": "code",
            "execution_count": null,
            "id": "a3755d5b",
            "metadata": {},
            "outputs": [],
            "source": []
        },
        {
            "cell_type": "markdown",
            "id": "864983d9",
            "metadata": {},
            "source": [
                "It also allows disabling automatic exception chaining using the\n",
                "`from None` idiom:"
            ]
        },
        {
            "cell_type": "code",
            "execution_count": null,
            "id": "d01fa85c",
            "metadata": {},
            "outputs": [],
            "source": []
        },
        {
            "cell_type": "markdown",
            "id": "b1361d6c",
            "metadata": {},
            "source": [
                "For more information about chaining mechanics, see\n",
                "[bltin-exceptions](bltin-exceptions.ipynb).\n",
                "\n",
                "## User-defined Exceptions\n",
                "\n",
                "Programs may name their own exceptions by creating a new exception class\n",
                "(see [tut-classes](tut-classes.ipynb) for more about Python classes).\n",
                "Exceptions should typically be derived from the `Exception` class,\n",
                "either directly or indirectly.\n",
                "\n",
                "Exception classes can be defined which do anything any other class can\n",
                "do, but are usually kept simple, often only offering a number of\n",
                "attributes that allow information about the error to be extracted by\n",
                "handlers for the exception.\n",
                "\n",
                "Most exceptions are defined with names that end in \"Error\", similar to\n",
                "the naming of the standard exceptions.\n",
                "\n",
                "Many standard modules define their own exceptions to report errors that\n",
                "may occur in functions they define.\n",
                "\n",
                "## Defining Clean-up Actions\n",
                "\n",
                "The `try` statement has another optional clause which is intended to\n",
                "define clean-up actions that must be executed under all circumstances.\n",
                "For example:"
            ]
        },
        {
            "cell_type": "code",
            "execution_count": null,
            "id": "8f35175f",
            "metadata": {},
            "outputs": [],
            "source": []
        },
        {
            "cell_type": "markdown",
            "id": "f75bdc66",
            "metadata": {},
            "source": [
                "If a `finally` clause is present, the `!finally` clause will execute as\n",
                "the last task before the `try` statement completes. The `!finally`\n",
                "clause runs whether or not the `!try` statement produces an exception.\n",
                "The following points discuss more complex cases when an exception\n",
                "occurs:\n",
                "\n",
                "-   If an exception occurs during execution of the `!try` clause, the\n",
                "    exception may be handled by an `except` clause. If the exception is\n",
                "    not handled by an `!except` clause, the exception is re-raised after\n",
                "    the `!finally` clause has been executed.\n",
                "-   An exception could occur during execution of an `!except` or `!else`\n",
                "    clause. Again, the exception is re-raised after the `!finally`\n",
                "    clause has been executed.\n",
                "-   If the `!finally` clause executes a `break`, `continue` or `return`\n",
                "    statement, exceptions are not re-raised.\n",
                "-   If the `!try` statement reaches a `break`, `continue` or `return`\n",
                "    statement, the `!finally` clause will execute just prior to the\n",
                "    `!break`, `!continue` or `!return` statement's execution.\n",
                "-   If a `!finally` clause includes a `!return` statement, the returned\n",
                "    value will be the one from the `!finally` clause's `!return`\n",
                "    statement, not the value from the `!try` clause's `!return`\n",
                "    statement.\n",
                "\n",
                "For example:"
            ]
        },
        {
            "cell_type": "code",
            "execution_count": null,
            "id": "f45ecaab",
            "metadata": {},
            "outputs": [],
            "source": []
        },
        {
            "cell_type": "markdown",
            "id": "17fe4778",
            "metadata": {},
            "source": [
                "A more complicated example:"
            ]
        },
        {
            "cell_type": "code",
            "execution_count": null,
            "id": "33709078",
            "metadata": {},
            "outputs": [],
            "source": []
        },
        {
            "cell_type": "code",
            "execution_count": null,
            "id": "03180401",
            "metadata": {},
            "outputs": [],
            "source": []
        },
        {
            "cell_type": "code",
            "execution_count": null,
            "id": "e64cee75",
            "metadata": {},
            "outputs": [],
            "source": []
        },
        {
            "cell_type": "markdown",
            "id": "521b6a2a",
            "metadata": {},
            "source": [
                "As you can see, the `finally` clause is executed in any event. The\n",
                "`TypeError` raised by dividing two strings is not handled by the\n",
                "`except` clause and therefore re-raised after the `!finally` clause has\n",
                "been executed.\n",
                "\n",
                "In real world applications, the `finally` clause is useful for releasing\n",
                "external resources (such as files or network connections), regardless of\n",
                "whether the use of the resource was successful.\n",
                "\n",
                "## Predefined Clean-up Actions\n",
                "\n",
                "Some objects define standard clean-up actions to be undertaken when the\n",
                "object is no longer needed, regardless of whether or not the operation\n",
                "using the object succeeded or failed. Look at the following example,\n",
                "which tries to open a file and print its contents to the screen. :"
            ]
        },
        {
            "cell_type": "code",
            "execution_count": null,
            "id": "fcb88527",
            "metadata": {},
            "outputs": [],
            "source": []
        },
        {
            "cell_type": "markdown",
            "id": "36dae5ae",
            "metadata": {},
            "source": [
                "The problem with this code is that it leaves the file open for an\n",
                "indeterminate amount of time after this part of the code has finished\n",
                "executing. This is not an issue in simple scripts, but can be a problem\n",
                "for larger applications. The `with` statement allows objects like files\n",
                "to be used in a way that ensures they are always cleaned up promptly and\n",
                "correctly. :"
            ]
        },
        {
            "cell_type": "code",
            "execution_count": null,
            "id": "e3e856f6",
            "metadata": {},
            "outputs": [],
            "source": []
        },
        {
            "cell_type": "markdown",
            "id": "1f1bf549",
            "metadata": {},
            "source": [
                "After the statement is executed, the file *f* is always closed, even if\n",
                "a problem was encountered while processing the lines. Objects which,\n",
                "like files, provide predefined clean-up actions will indicate this in\n",
                "their documentation.\n",
                "\n",
                "## Raising and Handling Multiple Unrelated Exceptions\n",
                "\n",
                "There are situations where it is necessary to report several exceptions\n",
                "that have occurred. This is often the case in concurrency frameworks,\n",
                "when several tasks may have failed in parallel, but there are also other\n",
                "use cases where it is desirable to continue execution and collect\n",
                "multiple errors rather than raise the first exception.\n",
                "\n",
                "The builtin `ExceptionGroup` wraps a list of exception instances so that\n",
                "they can be raised together. It is an exception itself, so it can be\n",
                "caught like any other exception. :"
            ]
        },
        {
            "cell_type": "code",
            "execution_count": null,
            "id": "d21a75c6",
            "metadata": {},
            "outputs": [],
            "source": []
        },
        {
            "cell_type": "code",
            "execution_count": null,
            "id": "4dd1bc13",
            "metadata": {},
            "outputs": [],
            "source": []
        },
        {
            "cell_type": "markdown",
            "id": "d75141ed",
            "metadata": {},
            "source": [
                "By using `except*` instead of `except`, we can selectively handle only\n",
                "the exceptions in the group that match a certain type. In the following\n",
                "example, which shows a nested exception group, each `except*` clause\n",
                "extracts from the group exceptions of a certain type while letting all\n",
                "other exceptions propagate to other clauses and eventually to be\n",
                "reraised. :"
            ]
        },
        {
            "cell_type": "code",
            "execution_count": null,
            "id": "1cdf2704",
            "metadata": {},
            "outputs": [],
            "source": []
        },
        {
            "cell_type": "markdown",
            "id": "38f49ae9",
            "metadata": {},
            "source": [
                "Note that the exceptions nested in an exception group must be instances,\n",
                "not types. This is because in practice the exceptions would typically be\n",
                "ones that have already been raised and caught by the program, along the\n",
                "following pattern:"
            ]
        },
        {
            "cell_type": "code",
            "execution_count": null,
            "id": "dc89d78e",
            "metadata": {},
            "outputs": [],
            "source": []
        },
        {
            "cell_type": "markdown",
            "id": "45650237",
            "metadata": {},
            "source": [
                "## Enriching Exceptions with Notes\n",
                "\n",
                "When an exception is created in order to be raised, it is usually\n",
                "initialized with information that describes the error that has occurred.\n",
                "There are cases where it is useful to add information after the\n",
                "exception was caught. For this purpose, exceptions have a method\n",
                "`add_note(note)` that accepts a string and adds it to the exception's\n",
                "notes list. The standard traceback rendering includes all notes, in the\n",
                "order they were added, after the exception. :"
            ]
        },
        {
            "cell_type": "code",
            "execution_count": null,
            "id": "c67e3f44",
            "metadata": {},
            "outputs": [],
            "source": []
        },
        {
            "cell_type": "markdown",
            "id": "4c243bd5",
            "metadata": {},
            "source": [
                "For example, when collecting exceptions into an exception group, we may\n",
                "want to add context information for the individual errors. In the\n",
                "following each exception in the group has a note indicating when this\n",
                "error has occurred. :"
            ]
        },
        {
            "cell_type": "code",
            "execution_count": null,
            "id": "f89ba0a7",
            "metadata": {},
            "outputs": [],
            "source": []
        }
    ],
    "metadata": {},
    "nbformat": 4,
    "nbformat_minor": 5
}