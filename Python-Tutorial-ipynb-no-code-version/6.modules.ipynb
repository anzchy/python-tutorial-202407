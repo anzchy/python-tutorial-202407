{
    "cells": [
        {
            "cell_type": "markdown",
            "id": "4f0cd1f8",
            "metadata": {},
            "source": [
                "$$\n",
                "\\def\\CC{\\bf C}\n",
                "\\def\\QQ{\\bf Q}\n",
                "\\def\\RR{\\bf R}\n",
                "\\def\\ZZ{\\bf Z}\n",
                "\\def\\NN{\\bf N}\n",
                "$$\n",
                "# Modules\n",
                "\n",
                "If you quit from the Python interpreter and enter it again, the\n",
                "definitions you have made (functions and variables) are lost. Therefore,\n",
                "if you want to write a somewhat longer program, you are better off using\n",
                "a text editor to prepare the input for the interpreter and running it\n",
                "with that file as input instead. This is known as creating a *script*.\n",
                "As your program gets longer, you may want to split it into several files\n",
                "for easier maintenance. You may also want to use a handy function that\n",
                "you've written in several programs without copying its definition into\n",
                "each program.\n",
                "\n",
                "To support this, Python has a way to put definitions in a file and use\n",
                "them in a script or in an interactive instance of the interpreter. Such\n",
                "a file is called a *module*; definitions from a module can be *imported*\n",
                "into other modules or into the *main* module (the collection of\n",
                "variables that you have access to in a script executed at the top level\n",
                "and in calculator mode).\n",
                "\n",
                "A module is a file containing Python definitions and statements. The\n",
                "file name is the module name with the suffix `.py` appended. Within a\n",
                "module, the module's name (as a string) is available as the value of the\n",
                "global variable `__name__`. For instance, use your favorite text editor\n",
                "to create a file called `fibo.py` in the current directory with the\n",
                "following contents:"
            ]
        },
        {
            "cell_type": "code",
            "execution_count": null,
            "id": "326fea96",
            "metadata": {},
            "outputs": [],
            "source": []
        },
        {
            "cell_type": "markdown",
            "id": "60addb68",
            "metadata": {},
            "source": [
                "Now enter the Python interpreter and import this module with the\n",
                "following command:"
            ]
        },
        {
            "cell_type": "code",
            "execution_count": null,
            "id": "cdab394d",
            "metadata": {},
            "outputs": [],
            "source": []
        },
        {
            "cell_type": "markdown",
            "id": "c693413b",
            "metadata": {},
            "source": [
                "This does not add the names of the functions defined in `fibo` directly\n",
                "to the current `namespace` (see [tut-scopes](tut-scopes.ipynb) for more\n",
                "details); it only adds the module name `fibo` there. Using the module\n",
                "name you can access the functions:"
            ]
        },
        {
            "cell_type": "code",
            "execution_count": null,
            "id": "93ee9fef",
            "metadata": {},
            "outputs": [],
            "source": []
        },
        {
            "cell_type": "code",
            "execution_count": null,
            "id": "47dd5772",
            "metadata": {},
            "outputs": [],
            "source": []
        },
        {
            "cell_type": "code",
            "execution_count": null,
            "id": "fb892dcf",
            "metadata": {},
            "outputs": [],
            "source": []
        },
        {
            "cell_type": "markdown",
            "id": "6be51d86",
            "metadata": {},
            "source": [
                "If you intend to use a function often you can assign it to a local name:"
            ]
        },
        {
            "cell_type": "code",
            "execution_count": null,
            "id": "ef189cd1",
            "metadata": {},
            "outputs": [],
            "source": []
        },
        {
            "cell_type": "markdown",
            "id": "817c0550",
            "metadata": {},
            "source": [
                "## More on Modules\n",
                "\n",
                "A module can contain executable statements as well as function\n",
                "definitions. These statements are intended to initialize the module.\n",
                "They are executed only the *first* time the module name is encountered\n",
                "in an import statement.[1] (They are also run if the file is executed as\n",
                "a script.)\n",
                "\n",
                "Each module has its own private namespace, which is used as the global\n",
                "namespace by all functions defined in the module. Thus, the author of a\n",
                "module can use global variables in the module without worrying about\n",
                "accidental clashes with a user's global variables. On the other hand, if\n",
                "you know what you are doing you can touch a module's global variables\n",
                "with the same notation used to refer to its functions,\n",
                "`modname.itemname`.\n",
                "\n",
                "Modules can import other modules. It is customary but not required to\n",
                "place all `import` statements at the beginning of a module (or script,\n",
                "for that matter). The imported module names, if placed at the top level\n",
                "of a module (outside any functions or classes), are added to the\n",
                "module's global namespace.\n",
                "\n",
                "There is a variant of the `import` statement that imports names from a\n",
                "module directly into the importing module's namespace. For example:"
            ]
        },
        {
            "cell_type": "code",
            "execution_count": null,
            "id": "02356b21",
            "metadata": {},
            "outputs": [],
            "source": []
        },
        {
            "cell_type": "markdown",
            "id": "7ec758d6",
            "metadata": {},
            "source": [
                "This does not introduce the module name from which the imports are taken\n",
                "in the local namespace (so in the example, `fibo` is not defined).\n",
                "\n",
                "There is even a variant to import all names that a module defines:"
            ]
        },
        {
            "cell_type": "code",
            "execution_count": null,
            "id": "79b6c9e9",
            "metadata": {},
            "outputs": [],
            "source": []
        },
        {
            "cell_type": "markdown",
            "id": "0b497a53",
            "metadata": {},
            "source": [
                "This imports all names except those beginning with an underscore (`_`).\n",
                "In most cases Python programmers do not use this facility since it\n",
                "introduces an unknown set of names into the interpreter, possibly hiding\n",
                "some things you have already defined.\n",
                "\n",
                "Note that in general the practice of importing `*` from a module or\n",
                "package is frowned upon, since it often causes poorly readable code.\n",
                "However, it is okay to use it to save typing in interactive sessions.\n",
                "\n",
                "If the module name is followed by `!as`, then the name following `!as`\n",
                "is bound directly to the imported module."
            ]
        },
        {
            "cell_type": "code",
            "execution_count": null,
            "id": "720753ad",
            "metadata": {},
            "outputs": [],
            "source": []
        },
        {
            "cell_type": "markdown",
            "id": "92463158",
            "metadata": {},
            "source": [
                "This is effectively importing the module in the same way that\n",
                "`import fibo` will do, with the only difference of it being available as\n",
                "`fib`.\n",
                "\n",
                "It can also be used when utilising `from` with similar effects:"
            ]
        },
        {
            "cell_type": "code",
            "execution_count": null,
            "id": "4264fd5a",
            "metadata": {},
            "outputs": [],
            "source": []
        },
        {
            "cell_type": "markdown",
            "id": "a94448e5",
            "metadata": {},
            "source": [
                "Note\n",
                "\n",
                "For efficiency reasons, each module is only imported once per\n",
                "interpreter session. Therefore, if you change your modules, you must\n",
                "restart the interpreter -- or, if it's just one module you want to test\n",
                "interactively, use `importlib.reload`, e.g.\n",
                "`import importlib; importlib.reload(modulename)`.\n",
                "\n",
                "### Executing modules as scripts\n",
                "\n",
                "When you run a Python module with :"
            ]
        },
        {
            "cell_type": "code",
            "execution_count": null,
            "id": "74564688",
            "metadata": {},
            "outputs": [],
            "source": []
        },
        {
            "cell_type": "markdown",
            "id": "dacf205a",
            "metadata": {},
            "source": [
                "the code in the module will be executed, just as if you imported it, but\n",
                "with the `__name__` set to `\"__main__\"`. That means that by adding this\n",
                "code at the end of your module:"
            ]
        },
        {
            "cell_type": "code",
            "execution_count": null,
            "id": "b65992d0",
            "metadata": {},
            "outputs": [],
            "source": []
        },
        {
            "cell_type": "markdown",
            "id": "d03deadc",
            "metadata": {},
            "source": [
                "you can make the file usable as a script as well as an importable\n",
                "module, because the code that parses the command line only runs if the\n",
                "module is executed as the \"main\" file:"
            ]
        },
        {
            "cell_type": "code",
            "execution_count": null,
            "id": "22e17742",
            "metadata": {},
            "outputs": [],
            "source": []
        },
        {
            "cell_type": "markdown",
            "id": "1511412e",
            "metadata": {},
            "source": [
                "If the module is imported, the code is not run:"
            ]
        },
        {
            "cell_type": "code",
            "execution_count": null,
            "id": "93524331",
            "metadata": {},
            "outputs": [],
            "source": []
        },
        {
            "cell_type": "markdown",
            "id": "b0a132b0",
            "metadata": {},
            "source": [
                "This is often used either to provide a convenient user interface to a\n",
                "module, or for testing purposes (running the module as a script executes\n",
                "a test suite).\n",
                "\n",
                "### The Module Search Path\n",
                "\n",
                "triple: module; search; path\n",
                "\n",
                "When a module named `!spam` is imported, the interpreter first searches\n",
                "for a built-in module with that name. These module names are listed in\n",
                "`sys.builtin_module_names`. If not found, it then searches for a file\n",
                "named `spam.py` in a list of directories given by the variable\n",
                "`sys.path`. `sys.path` is initialized from these locations:\n",
                "\n",
                "-   The directory containing the input script (or the current directory\n",
                "    when no file is specified).\n",
                "-   `PYTHONPATH` (a list of directory names, with the same syntax as the\n",
                "    shell variable `PATH`).\n",
                "-   The installation-dependent default (by convention including a\n",
                "    `site-packages` directory, handled by the `site` module).\n",
                "\n",
                "More details are at [sys-path-init](sys-path-init.ipynb).\n",
                "\n",
                "Note\n",
                "\n",
                "On file systems which support symlinks, the directory containing the\n",
                "input script is calculated after the symlink is followed. In other words\n",
                "the directory containing the symlink is **not** added to the module\n",
                "search path.\n",
                "\n",
                "After initialization, Python programs can modify `sys.path`. The\n",
                "directory containing the script being run is placed at the beginning of\n",
                "the search path, ahead of the standard library path. This means that\n",
                "scripts in that directory will be loaded instead of modules of the same\n",
                "name in the library directory. This is an error unless the replacement\n",
                "is intended. See section\n",
                "[tut-standardmodules](tut-standardmodules.ipynb) for more information.\n",
                "\n",
                "### \"Compiled\" Python files\n",
                "\n",
                "To speed up loading modules, Python caches the compiled version of each\n",
                "module in the `__pycache__` directory under the name\n",
                "`module.{version}.pyc`, where the version encodes the format of the\n",
                "compiled file; it generally contains the Python version number. For\n",
                "example, in CPython release 3.3 the compiled version of spam.py would be\n",
                "cached as `__pycache__/spam.cpython-33.pyc`. This naming convention\n",
                "allows compiled modules from different releases and different versions\n",
                "of Python to coexist.\n",
                "\n",
                "Python checks the modification date of the source against the compiled\n",
                "version to see if it's out of date and needs to be recompiled. This is a\n",
                "completely automatic process. Also, the compiled modules are\n",
                "platform-independent, so the same library can be shared among systems\n",
                "with different architectures.\n",
                "\n",
                "Python does not check the cache in two circumstances. First, it always\n",
                "recompiles and does not store the result for the module that's loaded\n",
                "directly from the command line. Second, it does not check the cache if\n",
                "there is no source module. To support a non-source (compiled only)\n",
                "distribution, the compiled module must be in the source directory, and\n",
                "there must not be a source module.\n",
                "\n",
                "Some tips for experts:\n",
                "\n",
                "-   You can use the `-O` or `-OO` switches on the Python command to\n",
                "    reduce the size of a compiled module. The `-O` switch removes assert\n",
                "    statements, the `-OO` switch removes both assert statements and\n",
                "    \\_\\_doc\\_\\_ strings. Since some programs may rely on having these\n",
                "    available, you should only use this option if you know what you're\n",
                "    doing. \"Optimized\" modules have an `opt-` tag and are usually\n",
                "    smaller. Future releases may change the effects of optimization.\n",
                "-   A program doesn't run any faster when it is read from a `.pyc` file\n",
                "    than when it is read from a `.py` file; the only thing that's faster\n",
                "    about `.pyc` files is the speed with which they are loaded.\n",
                "-   The module `compileall` can create .pyc files for all modules in a\n",
                "    directory.\n",
                "-   There is more detail on this process, including a flow chart of the\n",
                "    decisions, in `3147`.\n",
                "\n",
                "## Standard Modules\n",
                "\n",
                "pair: module; sys\n",
                "\n",
                "Python comes with a library of standard modules, described in a separate\n",
                "document, the Python Library Reference (\"Library Reference\" hereafter).\n",
                "Some modules are built into the interpreter; these provide access to\n",
                "operations that are not part of the core of the language but are\n",
                "nevertheless built in, either for efficiency or to provide access to\n",
                "operating system primitives such as system calls. The set of such\n",
                "modules is a configuration option which also depends on the underlying\n",
                "platform. For example, the `winreg` module is only provided on Windows\n",
                "systems. One particular module deserves some attention: `sys`, which is\n",
                "built into every Python interpreter. The variables `sys.ps1` and\n",
                "`sys.ps2` define the strings used as primary and secondary prompts:"
            ]
        },
        {
            "cell_type": "code",
            "execution_count": null,
            "id": "e1860aec",
            "metadata": {},
            "outputs": [],
            "source": []
        },
        {
            "cell_type": "code",
            "execution_count": null,
            "id": "1e8952d8",
            "metadata": {},
            "outputs": [],
            "source": []
        },
        {
            "cell_type": "code",
            "execution_count": null,
            "id": "bfa08dd0",
            "metadata": {},
            "outputs": [],
            "source": []
        },
        {
            "cell_type": "markdown",
            "id": "f8cdb08c",
            "metadata": {},
            "source": [
                "These two variables are only defined if the interpreter is in\n",
                "interactive mode.\n",
                "\n",
                "The variable `sys.path` is a list of strings that determines the\n",
                "interpreter's search path for modules. It is initialized to a default\n",
                "path taken from the environment variable `PYTHONPATH`, or from a\n",
                "built-in default if `PYTHONPATH` is not set. You can modify it using\n",
                "standard list operations:"
            ]
        },
        {
            "cell_type": "code",
            "execution_count": null,
            "id": "442c8793",
            "metadata": {},
            "outputs": [],
            "source": []
        },
        {
            "cell_type": "markdown",
            "id": "43bb18ef",
            "metadata": {},
            "source": [
                "## The `dir` Function\n",
                "\n",
                "The built-in function `dir` is used to find out which names a module\n",
                "defines. It returns a sorted list of strings:"
            ]
        },
        {
            "cell_type": "code",
            "execution_count": null,
            "id": "91ad4fde",
            "metadata": {},
            "outputs": [],
            "source": []
        },
        {
            "cell_type": "code",
            "execution_count": null,
            "id": "3b04defe",
            "metadata": {},
            "outputs": [],
            "source": []
        },
        {
            "cell_type": "markdown",
            "id": "f8545fdf",
            "metadata": {},
            "source": [
                "Without arguments, `dir` lists the names you have defined currently:"
            ]
        },
        {
            "cell_type": "code",
            "execution_count": null,
            "id": "ac8192b1",
            "metadata": {},
            "outputs": [],
            "source": []
        },
        {
            "cell_type": "markdown",
            "id": "26d566fd",
            "metadata": {},
            "source": [
                "Note that it lists all types of names: variables, modules, functions,\n",
                "etc.\n",
                "\n",
                "pair: module; builtins\n",
                "\n",
                "`dir` does not list the names of built-in functions and variables. If\n",
                "you want a list of those, they are defined in the standard module\n",
                "`builtins` :"
            ]
        },
        {
            "cell_type": "code",
            "execution_count": null,
            "id": "5df0473a",
            "metadata": {},
            "outputs": [],
            "source": []
        },
        {
            "cell_type": "markdown",
            "id": "ce7a4987",
            "metadata": {},
            "source": [
                "## Packages\n",
                "\n",
                "Packages are a way of structuring Python's module namespace by using\n",
                "\"dotted module names\". For example, the module name `!A.B` designates a\n",
                "submodule named `B` in a package named `A`. Just like the use of modules\n",
                "saves the authors of different modules from having to worry about each\n",
                "other's global variable names, the use of dotted module names saves the\n",
                "authors of multi-module packages like NumPy or Pillow from having to\n",
                "worry about each other's module names.\n",
                "\n",
                "Suppose you want to design a collection of modules (a \"package\") for the\n",
                "uniform handling of sound files and sound data. There are many different\n",
                "sound file formats (usually recognized by their extension, for example:\n",
                "`.wav`, `.aiff`, `.au`), so you may need to create and maintain a\n",
                "growing collection of modules for the conversion between the various\n",
                "file formats. There are also many different operations you might want to\n",
                "perform on sound data (such as mixing, adding echo, applying an\n",
                "equalizer function, creating an artificial stereo effect), so in\n",
                "addition you will be writing a never-ending stream of modules to perform\n",
                "these operations. Here's a possible structure for your package\n",
                "(expressed in terms of a hierarchical filesystem):"
            ]
        },
        {
            "cell_type": "code",
            "execution_count": null,
            "id": "f6c0cc1c",
            "metadata": {},
            "outputs": [],
            "source": []
        },
        {
            "cell_type": "markdown",
            "id": "99b6f0ab",
            "metadata": {},
            "source": [
                "When importing the package, Python searches through the directories on\n",
                "`sys.path` looking for the package subdirectory.\n",
                "\n",
                "The `__init__.py` files are required to make Python treat directories\n",
                "containing the file as packages (unless using a `namespace package`, a\n",
                "relatively advanced feature). This prevents directories with a common\n",
                "name, such as `string`, from unintentionally hiding valid modules that\n",
                "occur later on the module search path. In the simplest case,\n",
                "`__init__.py` can just be an empty file, but it can also execute\n",
                "initialization code for the package or set the `__all__` variable,\n",
                "described later.\n",
                "\n",
                "Users of the package can import individual modules from the package, for\n",
                "example:"
            ]
        },
        {
            "cell_type": "code",
            "execution_count": null,
            "id": "2df0e928",
            "metadata": {},
            "outputs": [],
            "source": []
        },
        {
            "cell_type": "markdown",
            "id": "a24f0671",
            "metadata": {},
            "source": [
                "This loads the submodule `!sound.effects.echo`. It must be referenced\n",
                "with its full name. :"
            ]
        },
        {
            "cell_type": "code",
            "execution_count": null,
            "id": "beafabcb",
            "metadata": {},
            "outputs": [],
            "source": []
        },
        {
            "cell_type": "markdown",
            "id": "45e49d67",
            "metadata": {},
            "source": [
                "An alternative way of importing the submodule is:"
            ]
        },
        {
            "cell_type": "code",
            "execution_count": null,
            "id": "3a43b459",
            "metadata": {},
            "outputs": [],
            "source": []
        },
        {
            "cell_type": "markdown",
            "id": "be52f06c",
            "metadata": {},
            "source": [
                "This also loads the submodule `!echo`, and makes it available without\n",
                "its package prefix, so it can be used as follows:"
            ]
        },
        {
            "cell_type": "code",
            "execution_count": null,
            "id": "b6fd5493",
            "metadata": {},
            "outputs": [],
            "source": []
        },
        {
            "cell_type": "markdown",
            "id": "e5a980bd",
            "metadata": {},
            "source": [
                "Yet another variation is to import the desired function or variable\n",
                "directly:"
            ]
        },
        {
            "cell_type": "code",
            "execution_count": null,
            "id": "c97fd477",
            "metadata": {},
            "outputs": [],
            "source": []
        },
        {
            "cell_type": "markdown",
            "id": "df8abc83",
            "metadata": {},
            "source": [
                "Again, this loads the submodule `!echo`, but this makes its function\n",
                "`!echofilter` directly available:"
            ]
        },
        {
            "cell_type": "code",
            "execution_count": null,
            "id": "84564cf5",
            "metadata": {},
            "outputs": [],
            "source": []
        },
        {
            "cell_type": "markdown",
            "id": "198be6ce",
            "metadata": {},
            "source": [
                "Note that when using `from package import item`, the item can be either\n",
                "a submodule (or subpackage) of the package, or some other name defined\n",
                "in the package, like a function, class or variable. The `import`\n",
                "statement first tests whether the item is defined in the package; if\n",
                "not, it assumes it is a module and attempts to load it. If it fails to\n",
                "find it, an `ImportError` exception is raised.\n",
                "\n",
                "Contrarily, when using syntax like `import item.subitem.subsubitem`,\n",
                "each item except for the last must be a package; the last item can be a\n",
                "module or a package but can't be a class or function or variable defined\n",
                "in the previous item.\n",
                "\n",
                "### Importing \\* From a Package\n",
                "\n",
                "single: \\_\\_all\\_\\_\n",
                "\n",
                "Now what happens when the user writes `from sound.effects import *`?\n",
                "Ideally, one would hope that this somehow goes out to the filesystem,\n",
                "finds which submodules are present in the package, and imports them all.\n",
                "This could take a long time and importing sub-modules might have\n",
                "unwanted side-effects that should only happen when the sub-module is\n",
                "explicitly imported.\n",
                "\n",
                "The only solution is for the package author to provide an explicit index\n",
                "of the package. The `import` statement uses the following convention: if\n",
                "a package's `__init__.py` code defines a list named `__all__`, it is\n",
                "taken to be the list of module names that should be imported when\n",
                "`from package import *` is encountered. It is up to the package author\n",
                "to keep this list up-to-date when a new version of the package is\n",
                "released. Package authors may also decide not to support it, if they\n",
                "don't see a use for importing \\* from their package. For example, the\n",
                "file `sound/effects/__init__.py` could contain the following code:"
            ]
        },
        {
            "cell_type": "code",
            "execution_count": null,
            "id": "085da41f",
            "metadata": {},
            "outputs": [],
            "source": []
        },
        {
            "cell_type": "markdown",
            "id": "2b5bcfe6",
            "metadata": {},
            "source": [
                "This would mean that `from sound.effects import *` would import the\n",
                "three named submodules of the `!sound.effects` package.\n",
                "\n",
                "Be aware that submodules might become shadowed by locally defined names.\n",
                "For example, if you added a `reverse` function to the\n",
                "`sound/effects/__init__.py` file, the `from sound.effects import *`\n",
                "would only import the two submodules `echo` and `surround`, but *not*\n",
                "the `reverse` submodule, because it is shadowed by the locally defined\n",
                "`reverse` function:"
            ]
        },
        {
            "cell_type": "code",
            "execution_count": null,
            "id": "23f0f620",
            "metadata": {},
            "outputs": [],
            "source": []
        },
        {
            "cell_type": "markdown",
            "id": "bfc9d61f",
            "metadata": {},
            "source": [
                "If `__all__` is not defined, the statement `from sound.effects import *`\n",
                "does *not* import all submodules from the package `!sound.effects` into\n",
                "the current namespace; it only ensures that the package `!sound.effects`\n",
                "has been imported (possibly running any initialization code in\n",
                "`__init__.py`) and then imports whatever names are defined in the\n",
                "package. This includes any names defined (and submodules explicitly\n",
                "loaded) by `__init__.py`. It also includes any submodules of the package\n",
                "that were explicitly loaded by previous `import` statements. Consider\n",
                "this code:"
            ]
        },
        {
            "cell_type": "code",
            "execution_count": null,
            "id": "3280f112",
            "metadata": {},
            "outputs": [],
            "source": []
        },
        {
            "cell_type": "markdown",
            "id": "6e8d71e7",
            "metadata": {},
            "source": [
                "In this example, the `!echo` and `!surround` modules are imported in the\n",
                "current namespace because they are defined in the `!sound.effects`\n",
                "package when the `from...import` statement is executed. (This also works\n",
                "when `__all__` is defined.)\n",
                "\n",
                "Although certain modules are designed to export only names that follow\n",
                "certain patterns when you use `import *`, it is still considered bad\n",
                "practice in production code.\n",
                "\n",
                "Remember, there is nothing wrong with using\n",
                "`from package import specific_submodule`! In fact, this is the\n",
                "recommended notation unless the importing module needs to use submodules\n",
                "with the same name from different packages.\n",
                "\n",
                "### Intra-package References\n",
                "\n",
                "When packages are structured into subpackages (as with the `!sound`\n",
                "package in the example), you can use absolute imports to refer to\n",
                "submodules of siblings packages. For example, if the module\n",
                "`!sound.filters.vocoder` needs to use the `!echo` module in the\n",
                "`!sound.effects` package, it can use `from sound.effects import echo`.\n",
                "\n",
                "You can also write relative imports, with the `from module import name`\n",
                "form of import statement. These imports use leading dots to indicate the\n",
                "current and parent packages involved in the relative import. From the\n",
                "`!surround` module for example, you might use:"
            ]
        },
        {
            "cell_type": "code",
            "execution_count": null,
            "id": "a90b751d",
            "metadata": {},
            "outputs": [],
            "source": []
        },
        {
            "cell_type": "markdown",
            "id": "d041eba3",
            "metadata": {},
            "source": [
                "Note that relative imports are based on the name of the current module.\n",
                "Since the name of the main module is always `\"__main__\"`, modules\n",
                "intended for use as the main module of a Python application must always\n",
                "use absolute imports.\n",
                "\n",
                "### Packages in Multiple Directories\n",
                "\n",
                "Packages support one more special attribute, `__path__`. This is\n",
                "initialized to be a list containing the name of the directory holding\n",
                "the package's `__init__.py` before the code in that file is executed.\n",
                "This variable can be modified; doing so affects future searches for\n",
                "modules and subpackages contained in the package.\n",
                "\n",
                "While this feature is not often needed, it can be used to extend the set\n",
                "of modules found in a package.\n",
                "\n",
                "**Footnotes**\n",
                "\n",
                "[1] In fact function definitions are also 'statements' that are\n",
                "'executed'; the execution of a module-level function definition adds the\n",
                "function name to the module's global namespace."
            ]
        }
    ],
    "metadata": {},
    "nbformat": 4,
    "nbformat_minor": 5
}