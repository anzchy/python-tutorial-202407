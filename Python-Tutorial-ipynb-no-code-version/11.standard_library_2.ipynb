{
    "cells": [
        {
            "cell_type": "markdown",
            "id": "e6d39e36",
            "metadata": {},
            "source": [
                "$$\n",
                "\\def\\CC{\\bf C}\n",
                "\\def\\QQ{\\bf Q}\n",
                "\\def\\RR{\\bf R}\n",
                "\\def\\ZZ{\\bf Z}\n",
                "\\def\\NN{\\bf N}\n",
                "$$\n",
                "# Brief Tour of the Standard Library --- Part II\n",
                "\n",
                "This second tour covers more advanced modules that support professional\n",
                "programming needs. These modules rarely occur in small scripts.\n",
                "\n",
                "## Output Formatting\n",
                "\n",
                "The `reprlib` module provides a version of `repr` customized for\n",
                "abbreviated displays of large or deeply nested containers:"
            ]
        },
        {
            "cell_type": "code",
            "execution_count": null,
            "id": "05468791",
            "metadata": {},
            "outputs": [],
            "source": []
        },
        {
            "cell_type": "markdown",
            "id": "8cb23ca6",
            "metadata": {},
            "source": [
                "The `pprint` module offers more sophisticated control over printing both\n",
                "built-in and user defined objects in a way that is readable by the\n",
                "interpreter. When the result is longer than one line, the \"pretty\n",
                "printer\" adds line breaks and indentation to more clearly reveal data\n",
                "structure:"
            ]
        },
        {
            "cell_type": "code",
            "execution_count": null,
            "id": "6a04641a",
            "metadata": {},
            "outputs": [],
            "source": []
        },
        {
            "cell_type": "markdown",
            "id": "520ed769",
            "metadata": {},
            "source": [
                "The `textwrap` module formats paragraphs of text to fit a given screen\n",
                "width:"
            ]
        },
        {
            "cell_type": "code",
            "execution_count": null,
            "id": "83c69bce",
            "metadata": {},
            "outputs": [],
            "source": []
        },
        {
            "cell_type": "markdown",
            "id": "b5ef9802",
            "metadata": {},
            "source": [
                "The `locale` module accesses a database of culture specific data\n",
                "formats. The grouping attribute of locale's format function provides a\n",
                "direct way of formatting numbers with group separators:"
            ]
        },
        {
            "cell_type": "code",
            "execution_count": null,
            "id": "6423ab57",
            "metadata": {},
            "outputs": [],
            "source": []
        },
        {
            "cell_type": "code",
            "execution_count": null,
            "id": "83288d33",
            "metadata": {},
            "outputs": [],
            "source": []
        },
        {
            "cell_type": "code",
            "execution_count": null,
            "id": "6dd68968",
            "metadata": {},
            "outputs": [],
            "source": []
        },
        {
            "cell_type": "markdown",
            "id": "fc95b196",
            "metadata": {},
            "source": [
                "## Templating\n",
                "\n",
                "The `string` module includes a versatile `~string.Template` class with a\n",
                "simplified syntax suitable for editing by end-users. This allows users\n",
                "to customize their applications without having to alter the application.\n",
                "\n",
                "The format uses placeholder names formed by `$` with valid Python\n",
                "identifiers (alphanumeric characters and underscores). Surrounding the\n",
                "placeholder with braces allows it to be followed by more alphanumeric\n",
                "letters with no intervening spaces. Writing `$$` creates a single\n",
                "escaped `$` :"
            ]
        },
        {
            "cell_type": "code",
            "execution_count": null,
            "id": "b92a0df5",
            "metadata": {},
            "outputs": [],
            "source": []
        },
        {
            "cell_type": "markdown",
            "id": "6f47e229",
            "metadata": {},
            "source": [
                "The `~string.Template.substitute` method raises a `KeyError` when a\n",
                "placeholder is not supplied in a dictionary or a keyword argument. For\n",
                "mail-merge style applications, user supplied data may be incomplete and\n",
                "the `~string.Template.safe_substitute` method may be more appropriate\n",
                "---it will leave placeholders unchanged if data is missing:"
            ]
        },
        {
            "cell_type": "code",
            "execution_count": null,
            "id": "512bc1e9",
            "metadata": {},
            "outputs": [],
            "source": []
        },
        {
            "cell_type": "code",
            "execution_count": null,
            "id": "9cd337f6",
            "metadata": {},
            "outputs": [],
            "source": []
        },
        {
            "cell_type": "markdown",
            "id": "7ef55352",
            "metadata": {},
            "source": [
                "Template subclasses can specify a custom delimiter. For example, a batch\n",
                "renaming utility for a photo browser may elect to use percent signs for\n",
                "placeholders such as the current date, image sequence number, or file\n",
                "format:"
            ]
        },
        {
            "cell_type": "code",
            "execution_count": null,
            "id": "411d6b9a",
            "metadata": {},
            "outputs": [],
            "source": []
        },
        {
            "cell_type": "code",
            "execution_count": null,
            "id": "8ed5e714",
            "metadata": {},
            "outputs": [],
            "source": []
        },
        {
            "cell_type": "code",
            "execution_count": null,
            "id": "9b1edef3",
            "metadata": {},
            "outputs": [],
            "source": []
        },
        {
            "cell_type": "markdown",
            "id": "b2decd38",
            "metadata": {},
            "source": [
                "Another application for templating is separating program logic from the\n",
                "details of multiple output formats. This makes it possible to substitute\n",
                "custom templates for XML files, plain text reports, and HTML web\n",
                "reports.\n",
                "\n",
                "## Working with Binary Data Record Layouts\n",
                "\n",
                "The `struct` module provides `~struct.pack` and `~struct.unpack`\n",
                "functions for working with variable length binary record formats. The\n",
                "following example shows how to loop through header information in a ZIP\n",
                "file without using the `zipfile` module. Pack codes `\"H\"` and `\"I\"`\n",
                "represent two and four byte unsigned numbers respectively. The `\"<\"`\n",
                "indicates that they are standard size and in little-endian byte order:"
            ]
        },
        {
            "cell_type": "code",
            "execution_count": null,
            "id": "c2689dac",
            "metadata": {},
            "outputs": [],
            "source": []
        },
        {
            "cell_type": "markdown",
            "id": "936f132a",
            "metadata": {},
            "source": [
                "## Multi-threading\n",
                "\n",
                "Threading is a technique for decoupling tasks which are not sequentially\n",
                "dependent. Threads can be used to improve the responsiveness of\n",
                "applications that accept user input while other tasks run in the\n",
                "background. A related use case is running I/O in parallel with\n",
                "computations in another thread.\n",
                "\n",
                "The following code shows how the high level `threading` module can run\n",
                "tasks in background while the main program continues to run:"
            ]
        },
        {
            "cell_type": "code",
            "execution_count": null,
            "id": "b7b824ef",
            "metadata": {},
            "outputs": [],
            "source": []
        },
        {
            "cell_type": "markdown",
            "id": "6fb72590",
            "metadata": {},
            "source": [
                "The principal challenge of multi-threaded applications is coordinating\n",
                "threads that share data or other resources. To that end, the threading\n",
                "module provides a number of synchronization primitives including locks,\n",
                "events, condition variables, and semaphores.\n",
                "\n",
                "While those tools are powerful, minor design errors can result in\n",
                "problems that are difficult to reproduce. So, the preferred approach to\n",
                "task coordination is to concentrate all access to a resource in a single\n",
                "thread and then use the `queue` module to feed that thread with requests\n",
                "from other threads. Applications using `~queue.Queue` objects for\n",
                "inter-thread communication and coordination are easier to design, more\n",
                "readable, and more reliable.\n",
                "\n",
                "## Logging\n",
                "\n",
                "The `logging` module offers a full featured and flexible logging system.\n",
                "At its simplest, log messages are sent to a file or to `sys.stderr` :"
            ]
        },
        {
            "cell_type": "code",
            "execution_count": null,
            "id": "5df00fd6",
            "metadata": {},
            "outputs": [],
            "source": []
        },
        {
            "cell_type": "markdown",
            "id": "e0b27d85",
            "metadata": {},
            "source": [
                "This produces the following output:"
            ]
        },
        {
            "cell_type": "code",
            "execution_count": null,
            "id": "0a23fa04",
            "metadata": {},
            "outputs": [],
            "source": []
        },
        {
            "cell_type": "markdown",
            "id": "f3e005b8",
            "metadata": {},
            "source": [
                "By default, informational and debugging messages are suppressed and the\n",
                "output is sent to standard error. Other output options include routing\n",
                "messages through email, datagrams, sockets, or to an HTTP Server. New\n",
                "filters can select different routing based on message priority:\n",
                "`~logging.DEBUG`, `~logging.INFO`, `~logging.WARNING`, `~logging.ERROR`,\n",
                "and `~logging.CRITICAL`.\n",
                "\n",
                "The logging system can be configured directly from Python or can be\n",
                "loaded from a user editable configuration file for customized logging\n",
                "without altering the application.\n",
                "\n",
                "## Weak References\n",
                "\n",
                "Python does automatic memory management (reference counting for most\n",
                "objects and `garbage collection` to eliminate cycles). The memory is\n",
                "freed shortly after the last reference to it has been eliminated.\n",
                "\n",
                "This approach works fine for most applications but occasionally there is\n",
                "a need to track objects only as long as they are being used by something\n",
                "else. Unfortunately, just tracking them creates a reference that makes\n",
                "them permanent. The `weakref` module provides tools for tracking objects\n",
                "without creating a reference. When the object is no longer needed, it is\n",
                "automatically removed from a weakref table and a callback is triggered\n",
                "for weakref objects. Typical applications include caching objects that\n",
                "are expensive to create:"
            ]
        },
        {
            "cell_type": "code",
            "execution_count": null,
            "id": "2c306878",
            "metadata": {},
            "outputs": [],
            "source": []
        },
        {
            "cell_type": "code",
            "execution_count": null,
            "id": "05d240f3",
            "metadata": {},
            "outputs": [],
            "source": []
        },
        {
            "cell_type": "code",
            "execution_count": null,
            "id": "4f206636",
            "metadata": {},
            "outputs": [],
            "source": []
        },
        {
            "cell_type": "markdown",
            "id": "64e0ca93",
            "metadata": {},
            "source": [
                "## Tools for Working with Lists\n",
                "\n",
                "Many data structure needs can be met with the built-in list type.\n",
                "However, sometimes there is a need for alternative implementations with\n",
                "different performance trade-offs.\n",
                "\n",
                "The `array` module provides an `~array.array` object that is like a list\n",
                "that stores only homogeneous data and stores it more compactly. The\n",
                "following example shows an array of numbers stored as two byte unsigned\n",
                "binary numbers (typecode `\"H\"`) rather than the usual 16 bytes per entry\n",
                "for regular lists of Python int objects:"
            ]
        },
        {
            "cell_type": "code",
            "execution_count": null,
            "id": "e035741f",
            "metadata": {},
            "outputs": [],
            "source": []
        },
        {
            "cell_type": "code",
            "execution_count": null,
            "id": "c7fce58d",
            "metadata": {},
            "outputs": [],
            "source": []
        },
        {
            "cell_type": "markdown",
            "id": "e5172367",
            "metadata": {},
            "source": [
                "The `collections` module provides a `~collections.deque` object that is\n",
                "like a list with faster appends and pops from the left side but slower\n",
                "lookups in the middle. These objects are well suited for implementing\n",
                "queues and breadth first tree searches:"
            ]
        },
        {
            "cell_type": "code",
            "execution_count": null,
            "id": "712f1073",
            "metadata": {},
            "outputs": [],
            "source": []
        },
        {
            "cell_type": "code",
            "execution_count": null,
            "id": "946da59f",
            "metadata": {},
            "outputs": [],
            "source": []
        },
        {
            "cell_type": "markdown",
            "id": "4d41c2ec",
            "metadata": {},
            "source": [
                "In addition to alternative list implementations, the library also offers\n",
                "other tools such as the `bisect` module with functions for manipulating\n",
                "sorted lists:"
            ]
        },
        {
            "cell_type": "code",
            "execution_count": null,
            "id": "8e2c0e69",
            "metadata": {},
            "outputs": [],
            "source": []
        },
        {
            "cell_type": "markdown",
            "id": "e892d4fe",
            "metadata": {},
            "source": [
                "The `heapq` module provides functions for implementing heaps based on\n",
                "regular lists. The lowest valued entry is always kept at position zero.\n",
                "This is useful for applications which repeatedly access the smallest\n",
                "element but do not want to run a full list sort:"
            ]
        },
        {
            "cell_type": "code",
            "execution_count": null,
            "id": "79e9e8c5",
            "metadata": {},
            "outputs": [],
            "source": []
        },
        {
            "cell_type": "markdown",
            "id": "bbab25d1",
            "metadata": {},
            "source": [
                "## Decimal Floating-Point Arithmetic\n",
                "\n",
                "The `decimal` module offers a `~decimal.Decimal` datatype for decimal\n",
                "floating-point arithmetic. Compared to the built-in `float`\n",
                "implementation of binary floating point, the class is especially helpful\n",
                "for\n",
                "\n",
                "-   financial applications and other uses which require exact decimal\n",
                "    representation,\n",
                "-   control over precision,\n",
                "-   control over rounding to meet legal or regulatory requirements,\n",
                "-   tracking of significant decimal places, or\n",
                "-   applications where the user expects the results to match\n",
                "    calculations done by hand.\n",
                "\n",
                "For example, calculating a 5% tax on a 70 cent phone charge gives\n",
                "different results in decimal floating point and binary floating point.\n",
                "The difference becomes significant if the results are rounded to the\n",
                "nearest cent:"
            ]
        },
        {
            "cell_type": "code",
            "execution_count": null,
            "id": "ec7ff64c",
            "metadata": {},
            "outputs": [],
            "source": []
        },
        {
            "cell_type": "code",
            "execution_count": null,
            "id": "6cc2c230",
            "metadata": {},
            "outputs": [],
            "source": []
        },
        {
            "cell_type": "markdown",
            "id": "172897e1",
            "metadata": {},
            "source": [
                "The `~decimal.Decimal` result keeps a trailing zero, automatically\n",
                "inferring four place significance from multiplicands with two place\n",
                "significance. Decimal reproduces mathematics as done by hand and avoids\n",
                "issues that can arise when binary floating point cannot exactly\n",
                "represent decimal quantities.\n",
                "\n",
                "Exact representation enables the `~decimal.Decimal` class to perform\n",
                "modulo calculations and equality tests that are unsuitable for binary\n",
                "floating point:"
            ]
        },
        {
            "cell_type": "code",
            "execution_count": null,
            "id": "22885af1",
            "metadata": {},
            "outputs": [],
            "source": []
        },
        {
            "cell_type": "code",
            "execution_count": null,
            "id": "16d72b8c",
            "metadata": {},
            "outputs": [],
            "source": []
        },
        {
            "cell_type": "code",
            "execution_count": null,
            "id": "0a079b72",
            "metadata": {},
            "outputs": [],
            "source": []
        },
        {
            "cell_type": "code",
            "execution_count": null,
            "id": "4429e98d",
            "metadata": {},
            "outputs": [],
            "source": []
        },
        {
            "cell_type": "markdown",
            "id": "b8c7ddc7",
            "metadata": {},
            "source": [
                "The `decimal` module provides arithmetic with as much precision as\n",
                "needed:"
            ]
        },
        {
            "cell_type": "code",
            "execution_count": null,
            "id": "18f702ba",
            "metadata": {},
            "outputs": [],
            "source": []
        }
    ],
    "metadata": {},
    "nbformat": 4,
    "nbformat_minor": 5
}