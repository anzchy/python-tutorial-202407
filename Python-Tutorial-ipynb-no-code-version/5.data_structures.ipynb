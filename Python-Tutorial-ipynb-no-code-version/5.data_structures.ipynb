{
    "cells": [
        {
            "cell_type": "markdown",
            "id": "9e341888",
            "metadata": {},
            "source": [
                "$$\n",
                "\\def\\CC{\\bf C}\n",
                "\\def\\QQ{\\bf Q}\n",
                "\\def\\RR{\\bf R}\n",
                "\\def\\ZZ{\\bf Z}\n",
                "\\def\\NN{\\bf N}\n",
                "$$\n",
                "# Data Structures\n",
                "\n",
                "This chapter describes some things you've learned about already in more\n",
                "detail, and adds some new things as well.\n",
                "\n",
                "## More on Lists\n",
                "\n",
                "The list data type has some more methods. Here are all of the methods of\n",
                "list objects:\n",
                "\n",
                "list.append(x)\n",
                "\n",
                "Add an item to the end of the list. Equivalent to `a[len(a):] = [x]`.\n",
                "\n",
                "list.extend(iterable)\n",
                "\n",
                "Extend the list by appending all the items from the iterable. Equivalent\n",
                "to `a[len(a):] = iterable`.\n",
                "\n",
                "list.insert(i, x)\n",
                "\n",
                "Insert an item at a given position. The first argument is the index of\n",
                "the element before which to insert, so `a.insert(0, x)` inserts at the\n",
                "front of the list, and `a.insert(len(a), x)` is equivalent to\n",
                "`a.append(x)`.\n",
                "\n",
                "list.remove(x)\n",
                "\n",
                "Remove the first item from the list whose value is equal to *x*. It\n",
                "raises a `ValueError` if there is no such item.\n",
                "\n",
                "list.pop(\\[i\\])\n",
                "\n",
                "Remove the item at the given position in the list, and return it. If no\n",
                "index is specified, `a.pop()` removes and returns the last item in the\n",
                "list. It raises an `IndexError` if the list is empty or the index is\n",
                "outside the list range.\n",
                "\n",
                "list.clear()\n",
                "\n",
                "Remove all items from the list. Equivalent to `del a[:]`.\n",
                "\n",
                "list.index(x\\[, start\\[, end\\]\\])\n",
                "\n",
                "Return zero-based index in the list of the first item whose value is\n",
                "equal to *x*. Raises a `ValueError` if there is no such item.\n",
                "\n",
                "The optional arguments *start* and *end* are interpreted as in the slice\n",
                "notation and are used to limit the search to a particular subsequence of\n",
                "the list. The returned index is computed relative to the beginning of\n",
                "the full sequence rather than the *start* argument.\n",
                "\n",
                "list.count(x)\n",
                "\n",
                "Return the number of times *x* appears in the list.\n",
                "\n",
                "list.sort(\\*, key=None, reverse=False)\n",
                "\n",
                "Sort the items of the list in place (the arguments can be used for sort\n",
                "customization, see `sorted` for their explanation).\n",
                "\n",
                "list.reverse()\n",
                "\n",
                "Reverse the elements of the list in place.\n",
                "\n",
                "list.copy()\n",
                "\n",
                "Return a shallow copy of the list. Equivalent to `a[:]`.\n",
                "\n",
                "An example that uses most of the list methods:"
            ]
        },
        {
            "cell_type": "code",
            "execution_count": null,
            "id": "e33e8bfd",
            "metadata": {},
            "outputs": [],
            "source": []
        },
        {
            "cell_type": "code",
            "execution_count": null,
            "id": "0580b1e3",
            "metadata": {},
            "outputs": [],
            "source": []
        },
        {
            "cell_type": "code",
            "execution_count": null,
            "id": "3715f387",
            "metadata": {},
            "outputs": [],
            "source": []
        },
        {
            "cell_type": "code",
            "execution_count": null,
            "id": "be94bcc7",
            "metadata": {},
            "outputs": [],
            "source": []
        },
        {
            "cell_type": "code",
            "execution_count": null,
            "id": "6fcd9ad1",
            "metadata": {},
            "outputs": [],
            "source": []
        },
        {
            "cell_type": "code",
            "execution_count": null,
            "id": "20a313c5",
            "metadata": {},
            "outputs": [],
            "source": []
        },
        {
            "cell_type": "code",
            "execution_count": null,
            "id": "eada487b",
            "metadata": {},
            "outputs": [],
            "source": []
        },
        {
            "cell_type": "code",
            "execution_count": null,
            "id": "f8ca0cbd",
            "metadata": {},
            "outputs": [],
            "source": []
        },
        {
            "cell_type": "markdown",
            "id": "9e31e75c",
            "metadata": {},
            "source": [
                "You might have noticed that methods like `insert`, `remove` or `sort`\n",
                "that only modify the list have no return value printed -- they return\n",
                "the default `None`.[1] This is a design principle for all mutable data\n",
                "structures in Python.\n",
                "\n",
                "Another thing you might notice is that not all data can be sorted or\n",
                "compared. For instance, `[None, 'hello', 10]` doesn't sort because\n",
                "integers can't be compared to strings and `None` can't be compared to\n",
                "other types. Also, there are some types that don't have a defined\n",
                "ordering relation. For example, `3+4j < 5+7j` isn't a valid comparison.\n",
                "\n",
                "### Using Lists as Stacks\n",
                "\n",
                "Ka-Ping Yee \\<<ping@lfw.org>\\>\n",
                "\n",
                "The list methods make it very easy to use a list as a stack, where the\n",
                "last element added is the first element retrieved (\"last-in,\n",
                "first-out\"). To add an item to the top of the stack, use `~list.append`.\n",
                "To retrieve an item from the top of the stack, use `~list.pop` without\n",
                "an explicit index. For example:"
            ]
        },
        {
            "cell_type": "code",
            "execution_count": null,
            "id": "51853c31",
            "metadata": {},
            "outputs": [],
            "source": []
        },
        {
            "cell_type": "code",
            "execution_count": null,
            "id": "8337e6b3",
            "metadata": {},
            "outputs": [],
            "source": []
        },
        {
            "cell_type": "code",
            "execution_count": null,
            "id": "bb97e4f6",
            "metadata": {},
            "outputs": [],
            "source": []
        },
        {
            "cell_type": "code",
            "execution_count": null,
            "id": "f72ed614",
            "metadata": {},
            "outputs": [],
            "source": []
        },
        {
            "cell_type": "code",
            "execution_count": null,
            "id": "f5dadd42",
            "metadata": {},
            "outputs": [],
            "source": []
        },
        {
            "cell_type": "code",
            "execution_count": null,
            "id": "61daeff3",
            "metadata": {},
            "outputs": [],
            "source": []
        },
        {
            "cell_type": "markdown",
            "id": "e9a33af4",
            "metadata": {},
            "source": [
                "### Using Lists as Queues\n",
                "\n",
                "Ka-Ping Yee \\<<ping@lfw.org>\\>\n",
                "\n",
                "It is also possible to use a list as a queue, where the first element\n",
                "added is the first element retrieved (\"first-in, first-out\"); however,\n",
                "lists are not efficient for this purpose. While appends and pops from\n",
                "the end of list are fast, doing inserts or pops from the beginning of a\n",
                "list is slow (because all of the other elements have to be shifted by\n",
                "one).\n",
                "\n",
                "To implement a queue, use `collections.deque` which was designed to have\n",
                "fast appends and pops from both ends. For example:"
            ]
        },
        {
            "cell_type": "code",
            "execution_count": null,
            "id": "afd9f382",
            "metadata": {},
            "outputs": [],
            "source": []
        },
        {
            "cell_type": "code",
            "execution_count": null,
            "id": "36ef7d47",
            "metadata": {},
            "outputs": [],
            "source": []
        },
        {
            "cell_type": "code",
            "execution_count": null,
            "id": "7aff7063",
            "metadata": {},
            "outputs": [],
            "source": []
        },
        {
            "cell_type": "markdown",
            "id": "84e93bdb",
            "metadata": {},
            "source": [
                "### List Comprehensions\n",
                "\n",
                "List comprehensions provide a concise way to create lists. Common\n",
                "applications are to make new lists where each element is the result of\n",
                "some operations applied to each member of another sequence or iterable,\n",
                "or to create a subsequence of those elements that satisfy a certain\n",
                "condition.\n",
                "\n",
                "For example, assume we want to create a list of squares, like:"
            ]
        },
        {
            "cell_type": "code",
            "execution_count": null,
            "id": "f533a84f",
            "metadata": {},
            "outputs": [],
            "source": []
        },
        {
            "cell_type": "markdown",
            "id": "bda37f8b",
            "metadata": {},
            "source": [
                "Note that this creates (or overwrites) a variable named `x` that still\n",
                "exists after the loop completes. We can calculate the list of squares\n",
                "without any side effects using:"
            ]
        },
        {
            "cell_type": "code",
            "execution_count": null,
            "id": "1998b27b",
            "metadata": {},
            "outputs": [],
            "source": []
        },
        {
            "cell_type": "markdown",
            "id": "2263a71a",
            "metadata": {},
            "source": [
                "or, equivalently:"
            ]
        },
        {
            "cell_type": "code",
            "execution_count": null,
            "id": "7e17bb68",
            "metadata": {},
            "outputs": [],
            "source": []
        },
        {
            "cell_type": "markdown",
            "id": "a7c9abb5",
            "metadata": {},
            "source": [
                "which is more concise and readable.\n",
                "\n",
                "A list comprehension consists of brackets containing an expression\n",
                "followed by a `!for` clause, then zero or more `!for` or `!if` clauses.\n",
                "The result will be a new list resulting from evaluating the expression\n",
                "in the context of the `!for` and `!if` clauses which follow it. For\n",
                "example, this listcomp combines the elements of two lists if they are\n",
                "not equal:"
            ]
        },
        {
            "cell_type": "code",
            "execution_count": null,
            "id": "39779f48",
            "metadata": {},
            "outputs": [],
            "source": []
        },
        {
            "cell_type": "markdown",
            "id": "49218e5d",
            "metadata": {},
            "source": [
                "and it's equivalent to:"
            ]
        },
        {
            "cell_type": "code",
            "execution_count": null,
            "id": "7b322b96",
            "metadata": {},
            "outputs": [],
            "source": []
        },
        {
            "cell_type": "markdown",
            "id": "14077a2c",
            "metadata": {},
            "source": [
                "Note how the order of the `for` and `if` statements is the same in both\n",
                "these snippets.\n",
                "\n",
                "If the expression is a tuple (e.g. the `(x, y)` in the previous\n",
                "example), it must be parenthesized. :"
            ]
        },
        {
            "cell_type": "code",
            "execution_count": null,
            "id": "7f500710",
            "metadata": {},
            "outputs": [],
            "source": []
        },
        {
            "cell_type": "code",
            "execution_count": null,
            "id": "70dc2988",
            "metadata": {},
            "outputs": [],
            "source": []
        },
        {
            "cell_type": "code",
            "execution_count": null,
            "id": "9c28c2e2",
            "metadata": {},
            "outputs": [],
            "source": []
        },
        {
            "cell_type": "code",
            "execution_count": null,
            "id": "2a327a36",
            "metadata": {},
            "outputs": [],
            "source": []
        },
        {
            "cell_type": "code",
            "execution_count": null,
            "id": "6d370ff1",
            "metadata": {},
            "outputs": [],
            "source": []
        },
        {
            "cell_type": "code",
            "execution_count": null,
            "id": "8d5c944d",
            "metadata": {},
            "outputs": [],
            "source": []
        },
        {
            "cell_type": "code",
            "execution_count": null,
            "id": "1791f529",
            "metadata": {},
            "outputs": [],
            "source": []
        },
        {
            "cell_type": "markdown",
            "id": "cc6f02bb",
            "metadata": {},
            "source": [
                "List comprehensions can contain complex expressions and nested\n",
                "functions:"
            ]
        },
        {
            "cell_type": "code",
            "execution_count": null,
            "id": "ce588e5a",
            "metadata": {},
            "outputs": [],
            "source": []
        },
        {
            "cell_type": "markdown",
            "id": "c7bbac26",
            "metadata": {},
            "source": [
                "### Nested List Comprehensions\n",
                "\n",
                "The initial expression in a list comprehension can be any arbitrary\n",
                "expression, including another list comprehension.\n",
                "\n",
                "Consider the following example of a 3x4 matrix implemented as a list of\n",
                "3 lists of length 4:"
            ]
        },
        {
            "cell_type": "code",
            "execution_count": null,
            "id": "27b2d319",
            "metadata": {},
            "outputs": [],
            "source": []
        },
        {
            "cell_type": "markdown",
            "id": "99b39b5c",
            "metadata": {},
            "source": [
                "The following list comprehension will transpose rows and columns:"
            ]
        },
        {
            "cell_type": "code",
            "execution_count": null,
            "id": "f411c42f",
            "metadata": {},
            "outputs": [],
            "source": []
        },
        {
            "cell_type": "markdown",
            "id": "8ca1dbb1",
            "metadata": {},
            "source": [
                "As we saw in the previous section, the inner list comprehension is\n",
                "evaluated in the context of the `for` that follows it, so this example\n",
                "is equivalent to:"
            ]
        },
        {
            "cell_type": "code",
            "execution_count": null,
            "id": "28625089",
            "metadata": {},
            "outputs": [],
            "source": []
        },
        {
            "cell_type": "markdown",
            "id": "7654fd1b",
            "metadata": {},
            "source": [
                "which, in turn, is the same as:"
            ]
        },
        {
            "cell_type": "code",
            "execution_count": null,
            "id": "c99add81",
            "metadata": {},
            "outputs": [],
            "source": []
        },
        {
            "cell_type": "markdown",
            "id": "fa27e061",
            "metadata": {},
            "source": [
                "In the real world, you should prefer built-in functions to complex flow\n",
                "statements. The `zip` function would do a great job for this use case:"
            ]
        },
        {
            "cell_type": "code",
            "execution_count": null,
            "id": "78f725d3",
            "metadata": {},
            "outputs": [],
            "source": []
        },
        {
            "cell_type": "markdown",
            "id": "64afa8b6",
            "metadata": {},
            "source": [
                "See [tut-unpacking-arguments](tut-unpacking-arguments.ipynb) for details\n",
                "on the asterisk in this line.\n",
                "\n",
                "## The `!del` statement\n",
                "\n",
                "There is a way to remove an item from a list given its index instead of\n",
                "its value: the `del` statement. This differs from the `~list.pop` method\n",
                "which returns a value. The `!del` statement can also be used to remove\n",
                "slices from a list or clear the entire list (which we did earlier by\n",
                "assignment of an empty list to the slice). For example:"
            ]
        },
        {
            "cell_type": "code",
            "execution_count": null,
            "id": "7fb492b0",
            "metadata": {},
            "outputs": [],
            "source": []
        },
        {
            "cell_type": "code",
            "execution_count": null,
            "id": "c4ca9f20",
            "metadata": {},
            "outputs": [],
            "source": []
        },
        {
            "cell_type": "code",
            "execution_count": null,
            "id": "48b7392c",
            "metadata": {},
            "outputs": [],
            "source": []
        },
        {
            "cell_type": "markdown",
            "id": "19a4d4ff",
            "metadata": {},
            "source": [
                "`del` can also be used to delete entire variables:"
            ]
        },
        {
            "cell_type": "code",
            "execution_count": null,
            "id": "0f2507b2",
            "metadata": {},
            "outputs": [],
            "source": []
        },
        {
            "cell_type": "markdown",
            "id": "d61f8fcd",
            "metadata": {},
            "source": [
                "Referencing the name `a` hereafter is an error (at least until another\n",
                "value is assigned to it). We'll find other uses for `del` later.\n",
                "\n",
                "## Tuples and Sequences\n",
                "\n",
                "We saw that lists and strings have many common properties, such as\n",
                "indexing and slicing operations. They are two examples of *sequence*\n",
                "data types (see [typesseq](typesseq.ipynb)). Since Python is an evolving\n",
                "language, other sequence data types may be added. There is also another\n",
                "standard sequence data type: the *tuple*.\n",
                "\n",
                "A tuple consists of a number of values separated by commas, for\n",
                "instance:"
            ]
        },
        {
            "cell_type": "code",
            "execution_count": null,
            "id": "0e6fbf34",
            "metadata": {},
            "outputs": [],
            "source": []
        },
        {
            "cell_type": "code",
            "execution_count": null,
            "id": "6c85f9a8",
            "metadata": {},
            "outputs": [],
            "source": []
        },
        {
            "cell_type": "code",
            "execution_count": null,
            "id": "92163401",
            "metadata": {},
            "outputs": [],
            "source": []
        },
        {
            "cell_type": "code",
            "execution_count": null,
            "id": "9aa6b7a8",
            "metadata": {},
            "outputs": [],
            "source": []
        },
        {
            "cell_type": "code",
            "execution_count": null,
            "id": "65672737",
            "metadata": {},
            "outputs": [],
            "source": []
        },
        {
            "cell_type": "markdown",
            "id": "56263b87",
            "metadata": {},
            "source": [
                "As you see, on output tuples are always enclosed in parentheses, so that\n",
                "nested tuples are interpreted correctly; they may be input with or\n",
                "without surrounding parentheses, although often parentheses are\n",
                "necessary anyway (if the tuple is part of a larger expression). It is\n",
                "not possible to assign to the individual items of a tuple, however it is\n",
                "possible to create tuples which contain mutable objects, such as lists.\n",
                "\n",
                "Though tuples may seem similar to lists, they are often used in\n",
                "different situations and for different purposes. Tuples are `immutable`,\n",
                "and usually contain a heterogeneous sequence of elements that are\n",
                "accessed via unpacking (see later in this section) or indexing (or even\n",
                "by attribute in the case of `namedtuples <collections.namedtuple>`).\n",
                "Lists are `mutable`, and their elements are usually homogeneous and are\n",
                "accessed by iterating over the list.\n",
                "\n",
                "A special problem is the construction of tuples containing 0 or 1 items:\n",
                "the syntax has some extra quirks to accommodate these. Empty tuples are\n",
                "constructed by an empty pair of parentheses; a tuple with one item is\n",
                "constructed by following a value with a comma (it is not sufficient to\n",
                "enclose a single value in parentheses). Ugly, but effective. For\n",
                "example:"
            ]
        },
        {
            "cell_type": "code",
            "execution_count": null,
            "id": "f74a8722",
            "metadata": {},
            "outputs": [],
            "source": []
        },
        {
            "cell_type": "code",
            "execution_count": null,
            "id": "143086a7",
            "metadata": {},
            "outputs": [],
            "source": []
        },
        {
            "cell_type": "code",
            "execution_count": null,
            "id": "849a62ad",
            "metadata": {},
            "outputs": [],
            "source": []
        },
        {
            "cell_type": "markdown",
            "id": "f8d55dc2",
            "metadata": {},
            "source": [
                "The statement `t = 12345, 54321, 'hello!'` is an example of *tuple\n",
                "packing*: the values `12345`, `54321` and `'hello!'` are packed together\n",
                "in a tuple. The reverse operation is also possible:"
            ]
        },
        {
            "cell_type": "code",
            "execution_count": null,
            "id": "b8f0c9ed",
            "metadata": {},
            "outputs": [],
            "source": []
        },
        {
            "cell_type": "markdown",
            "id": "1d617e3e",
            "metadata": {},
            "source": [
                "This is called, appropriately enough, *sequence unpacking* and works for\n",
                "any sequence on the right-hand side. Sequence unpacking requires that\n",
                "there are as many variables on the left side of the equals sign as there\n",
                "are elements in the sequence. Note that multiple assignment is really\n",
                "just a combination of tuple packing and sequence unpacking.\n",
                "\n",
                "## Sets\n",
                "\n",
                "Python also includes a data type for *sets*. A set is an unordered\n",
                "collection with no duplicate elements. Basic uses include membership\n",
                "testing and eliminating duplicate entries. Set objects also support\n",
                "mathematical operations like union, intersection, difference, and\n",
                "symmetric difference.\n",
                "\n",
                "Curly braces or the `set` function can be used to create sets. Note: to\n",
                "create an empty set you have to use `set()`, not `{}`; the latter\n",
                "creates an empty dictionary, a data structure that we discuss in the\n",
                "next section.\n",
                "\n",
                "Here is a brief demonstration:"
            ]
        },
        {
            "cell_type": "code",
            "execution_count": null,
            "id": "94d1ebe5",
            "metadata": {},
            "outputs": [],
            "source": []
        },
        {
            "cell_type": "code",
            "execution_count": null,
            "id": "122ea784",
            "metadata": {},
            "outputs": [],
            "source": []
        },
        {
            "cell_type": "code",
            "execution_count": null,
            "id": "736e998e",
            "metadata": {},
            "outputs": [],
            "source": []
        },
        {
            "cell_type": "code",
            "execution_count": null,
            "id": "9687b9c9",
            "metadata": {},
            "outputs": [],
            "source": []
        },
        {
            "cell_type": "code",
            "execution_count": null,
            "id": "63b03d66",
            "metadata": {},
            "outputs": [],
            "source": []
        },
        {
            "cell_type": "code",
            "execution_count": null,
            "id": "3999b424",
            "metadata": {},
            "outputs": [],
            "source": []
        },
        {
            "cell_type": "code",
            "execution_count": null,
            "id": "22fbff12",
            "metadata": {},
            "outputs": [],
            "source": []
        },
        {
            "cell_type": "code",
            "execution_count": null,
            "id": "80a13044",
            "metadata": {},
            "outputs": [],
            "source": []
        },
        {
            "cell_type": "markdown",
            "id": "e878bf1c",
            "metadata": {},
            "source": [
                "Similarly to [list comprehensions](tut-listcomps.ipynb), set\n",
                "comprehensions are also supported:"
            ]
        },
        {
            "cell_type": "code",
            "execution_count": null,
            "id": "6b17ef93",
            "metadata": {},
            "outputs": [],
            "source": []
        },
        {
            "cell_type": "markdown",
            "id": "0fcd1dea",
            "metadata": {},
            "source": [
                "## Dictionaries\n",
                "\n",
                "Another useful data type built into Python is the *dictionary* (see\n",
                "[typesmapping](typesmapping.ipynb)). Dictionaries are sometimes found in\n",
                "other languages as \"associative memories\" or \"associative arrays\".\n",
                "Unlike sequences, which are indexed by a range of numbers, dictionaries\n",
                "are indexed by *keys*, which can be any immutable type; strings and\n",
                "numbers can always be keys. Tuples can be used as keys if they contain\n",
                "only strings, numbers, or tuples; if a tuple contains any mutable object\n",
                "either directly or indirectly, it cannot be used as a key. You can't use\n",
                "lists as keys, since lists can be modified in place using index\n",
                "assignments, slice assignments, or methods like `~list.append` and\n",
                "`~list.extend`.\n",
                "\n",
                "It is best to think of a dictionary as a set of *key: value* pairs, with\n",
                "the requirement that the keys are unique (within one dictionary). A pair\n",
                "of braces creates an empty dictionary: `{}`. Placing a comma-separated\n",
                "list of key:value pairs within the braces adds initial key:value pairs\n",
                "to the dictionary; this is also the way dictionaries are written on\n",
                "output.\n",
                "\n",
                "The main operations on a dictionary are storing a value with some key\n",
                "and extracting the value given the key. It is also possible to delete a\n",
                "key:value pair with `del`. If you store using a key that is already in\n",
                "use, the old value associated with that key is forgotten. It is an error\n",
                "to extract a value using a non-existent key.\n",
                "\n",
                "Performing `list(d)` on a dictionary returns a list of all the keys used\n",
                "in the dictionary, in insertion order (if you want it sorted, just use\n",
                "`sorted(d)` instead). To check whether a single key is in the\n",
                "dictionary, use the `in` keyword.\n",
                "\n",
                "Here is a small example using a dictionary:"
            ]
        },
        {
            "cell_type": "code",
            "execution_count": null,
            "id": "5e1ef779",
            "metadata": {},
            "outputs": [],
            "source": []
        },
        {
            "cell_type": "code",
            "execution_count": null,
            "id": "29b1bb8e",
            "metadata": {},
            "outputs": [],
            "source": []
        },
        {
            "cell_type": "code",
            "execution_count": null,
            "id": "22040f97",
            "metadata": {},
            "outputs": [],
            "source": []
        },
        {
            "cell_type": "code",
            "execution_count": null,
            "id": "faf5274b",
            "metadata": {},
            "outputs": [],
            "source": []
        },
        {
            "cell_type": "code",
            "execution_count": null,
            "id": "90101f29",
            "metadata": {},
            "outputs": [],
            "source": []
        },
        {
            "cell_type": "code",
            "execution_count": null,
            "id": "6c99685c",
            "metadata": {},
            "outputs": [],
            "source": []
        },
        {
            "cell_type": "code",
            "execution_count": null,
            "id": "867528f8",
            "metadata": {},
            "outputs": [],
            "source": []
        },
        {
            "cell_type": "markdown",
            "id": "b52b36f8",
            "metadata": {},
            "source": [
                "The `dict` constructor builds dictionaries directly from sequences of\n",
                "key-value pairs:"
            ]
        },
        {
            "cell_type": "code",
            "execution_count": null,
            "id": "9e9fd887",
            "metadata": {},
            "outputs": [],
            "source": []
        },
        {
            "cell_type": "markdown",
            "id": "b098f9a5",
            "metadata": {},
            "source": [
                "In addition, dict comprehensions can be used to create dictionaries from\n",
                "arbitrary key and value expressions:"
            ]
        },
        {
            "cell_type": "code",
            "execution_count": null,
            "id": "adb9d47c",
            "metadata": {},
            "outputs": [],
            "source": []
        },
        {
            "cell_type": "markdown",
            "id": "b5c3c547",
            "metadata": {},
            "source": [
                "When the keys are simple strings, it is sometimes easier to specify\n",
                "pairs using keyword arguments:"
            ]
        },
        {
            "cell_type": "code",
            "execution_count": null,
            "id": "7a78a615",
            "metadata": {},
            "outputs": [],
            "source": []
        },
        {
            "cell_type": "markdown",
            "id": "46f30426",
            "metadata": {},
            "source": [
                "## Looping Techniques\n",
                "\n",
                "When looping through dictionaries, the key and corresponding value can\n",
                "be retrieved at the same time using the `~dict.items` method. :"
            ]
        },
        {
            "cell_type": "code",
            "execution_count": null,
            "id": "e450ec3b",
            "metadata": {},
            "outputs": [],
            "source": []
        },
        {
            "cell_type": "markdown",
            "id": "970022d6",
            "metadata": {},
            "source": [
                "When looping through a sequence, the position index and corresponding\n",
                "value can be retrieved at the same time using the `enumerate` function.\n",
                ":"
            ]
        },
        {
            "cell_type": "code",
            "execution_count": null,
            "id": "5eac1cd8",
            "metadata": {},
            "outputs": [],
            "source": []
        },
        {
            "cell_type": "markdown",
            "id": "5e0db9e8",
            "metadata": {},
            "source": [
                "To loop over two or more sequences at the same time, the entries can be\n",
                "paired with the `zip` function. :"
            ]
        },
        {
            "cell_type": "code",
            "execution_count": null,
            "id": "11aaf1ba",
            "metadata": {},
            "outputs": [],
            "source": []
        },
        {
            "cell_type": "markdown",
            "id": "503e9adb",
            "metadata": {},
            "source": [
                "To loop over a sequence in reverse, first specify the sequence in a\n",
                "forward direction and then call the `reversed` function. :"
            ]
        },
        {
            "cell_type": "code",
            "execution_count": null,
            "id": "dc4d980c",
            "metadata": {},
            "outputs": [],
            "source": []
        },
        {
            "cell_type": "markdown",
            "id": "807f9b31",
            "metadata": {},
            "source": [
                "To loop over a sequence in sorted order, use the `sorted` function which\n",
                "returns a new sorted list while leaving the source unaltered. :"
            ]
        },
        {
            "cell_type": "code",
            "execution_count": null,
            "id": "1f933631",
            "metadata": {},
            "outputs": [],
            "source": []
        },
        {
            "cell_type": "markdown",
            "id": "eb8308b5",
            "metadata": {},
            "source": [
                "Using `set` on a sequence eliminates duplicate elements. The use of\n",
                "`sorted` in combination with `set` over a sequence is an idiomatic way\n",
                "to loop over unique elements of the sequence in sorted order. :"
            ]
        },
        {
            "cell_type": "code",
            "execution_count": null,
            "id": "c9a136ff",
            "metadata": {},
            "outputs": [],
            "source": []
        },
        {
            "cell_type": "markdown",
            "id": "fc3f6bb0",
            "metadata": {},
            "source": [
                "It is sometimes tempting to change a list while you are looping over it;\n",
                "however, it is often simpler and safer to create a new list instead. :"
            ]
        },
        {
            "cell_type": "code",
            "execution_count": null,
            "id": "6df719e3",
            "metadata": {},
            "outputs": [],
            "source": []
        },
        {
            "cell_type": "markdown",
            "id": "583cf4f1",
            "metadata": {},
            "source": [
                "## More on Conditions\n",
                "\n",
                "The conditions used in `while` and `if` statements can contain any\n",
                "operators, not just comparisons.\n",
                "\n",
                "The comparison operators `in` and `not in` are membership tests that\n",
                "determine whether a value is in (or not in) a container. The operators\n",
                "`is` and `is not` compare whether two objects are really the same\n",
                "object. All comparison operators have the same priority, which is lower\n",
                "than that of all numerical operators.\n",
                "\n",
                "Comparisons can be chained. For example, `a < b == c` tests whether `a`\n",
                "is less than `b` and moreover `b` equals `c`.\n",
                "\n",
                "Comparisons may be combined using the Boolean operators `and` and `or`,\n",
                "and the outcome of a comparison (or of any other Boolean expression) may\n",
                "be negated with `not`. These have lower priorities than comparison\n",
                "operators; between them, `not` has the highest priority and `or` the\n",
                "lowest, so that `A and not B or C` is equivalent to\n",
                "`(A and (not B)) or C`. As always, parentheses can be used to express\n",
                "the desired composition.\n",
                "\n",
                "The Boolean operators `and` and `or` are so-called *short-circuit*\n",
                "operators: their arguments are evaluated from left to right, and\n",
                "evaluation stops as soon as the outcome is determined. For example, if\n",
                "`A` and `C` are true but `B` is false, `A and B and C` does not evaluate\n",
                "the expression `C`. When used as a general value and not as a Boolean,\n",
                "the return value of a short-circuit operator is the last evaluated\n",
                "argument.\n",
                "\n",
                "It is possible to assign the result of a comparison or other Boolean\n",
                "expression to a variable. For example, :"
            ]
        },
        {
            "cell_type": "code",
            "execution_count": null,
            "id": "5603aa1e",
            "metadata": {},
            "outputs": [],
            "source": []
        },
        {
            "cell_type": "markdown",
            "id": "85f96755",
            "metadata": {},
            "source": [
                "Note that in Python, unlike C, assignment inside expressions must be\n",
                "done explicitly with the [walrus\n",
                "operator](why-can-t-i-use-an-assignment-in-an-expression.ipynb) `:=`.\n",
                "This avoids a common class of problems encountered in C programs: typing\n",
                "`=` in an expression when `==` was intended.\n",
                "\n",
                "## Comparing Sequences and Other Types\n",
                "\n",
                "Sequence objects typically may be compared to other objects with the\n",
                "same sequence type. The comparison uses *lexicographical* ordering:\n",
                "first the first two items are compared, and if they differ this\n",
                "determines the outcome of the comparison; if they are equal, the next\n",
                "two items are compared, and so on, until either sequence is exhausted.\n",
                "If two items to be compared are themselves sequences of the same type,\n",
                "the lexicographical comparison is carried out recursively. If all items\n",
                "of two sequences compare equal, the sequences are considered equal. If\n",
                "one sequence is an initial sub-sequence of the other, the shorter\n",
                "sequence is the smaller (lesser) one. Lexicographical ordering for\n",
                "strings uses the Unicode code point number to order individual\n",
                "characters. Some examples of comparisons between sequences of the same\n",
                "type:"
            ]
        },
        {
            "cell_type": "code",
            "execution_count": null,
            "id": "92729a65",
            "metadata": {},
            "outputs": [],
            "source": []
        },
        {
            "cell_type": "markdown",
            "id": "b238840e",
            "metadata": {},
            "source": [
                "Note that comparing objects of different types with `<` or `>` is legal\n",
                "provided that the objects have appropriate comparison methods. For\n",
                "example, mixed numeric types are compared according to their numeric\n",
                "value, so 0 equals 0.0, etc. Otherwise, rather than providing an\n",
                "arbitrary ordering, the interpreter will raise a `TypeError` exception.\n",
                "\n",
                "**Footnotes**\n",
                "\n",
                "[1] Other languages may return the mutated object, which allows method\n",
                "chaining, such as `d->insert(\"a\")->remove(\"b\")->sort();`."
            ]
        }
    ],
    "metadata": {},
    "nbformat": 4,
    "nbformat_minor": 5
}