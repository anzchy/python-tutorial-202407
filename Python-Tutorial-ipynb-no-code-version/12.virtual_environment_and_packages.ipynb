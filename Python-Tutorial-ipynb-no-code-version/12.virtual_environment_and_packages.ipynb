{
    "cells": [
        {
            "cell_type": "markdown",
            "id": "4bdfa5cc",
            "metadata": {},
            "source": [
                "$$\n",
                "\\def\\CC{\\bf C}\n",
                "\\def\\QQ{\\bf Q}\n",
                "\\def\\RR{\\bf R}\n",
                "\\def\\ZZ{\\bf Z}\n",
                "\\def\\NN{\\bf N}\n",
                "$$\n",
                "# Virtual Environments and Packages\n",
                "\n",
                "## Introduction\n",
                "\n",
                "Python applications will often use packages and modules that don't come\n",
                "as part of the standard library. Applications will sometimes need a\n",
                "specific version of a library, because the application may require that\n",
                "a particular bug has been fixed or the application may be written using\n",
                "an obsolete version of the library's interface.\n",
                "\n",
                "This means it may not be possible for one Python installation to meet\n",
                "the requirements of every application. If application A needs version\n",
                "1.0 of a particular module but application B needs version 2.0, then the\n",
                "requirements are in conflict and installing either version 1.0 or 2.0\n",
                "will leave one application unable to run.\n",
                "\n",
                "The solution for this problem is to create a `virtual environment`, a\n",
                "self-contained directory tree that contains a Python installation for a\n",
                "particular version of Python, plus a number of additional packages.\n",
                "\n",
                "Different applications can then use different virtual environments. To\n",
                "resolve the earlier example of conflicting requirements, application A\n",
                "can have its own virtual environment with version 1.0 installed while\n",
                "application B has another virtual environment with version 2.0. If\n",
                "application B requires a library be upgraded to version 3.0, this will\n",
                "not affect application A's environment.\n",
                "\n",
                "## Creating Virtual Environments\n",
                "\n",
                "The module used to create and manage virtual environments is called\n",
                "`venv`. `venv` will install the Python version from which the command\n",
                "was run (as reported by the `--version` option). For instance, executing\n",
                "the command with `python3.12` will install version 3.12.\n",
                "\n",
                "To create a virtual environment, decide upon a directory where you want\n",
                "to place it, and run the `venv` module as a script with the directory\n",
                "path:"
            ]
        },
        {
            "cell_type": "code",
            "execution_count": null,
            "id": "2c943229",
            "metadata": {},
            "outputs": [],
            "source": []
        },
        {
            "cell_type": "markdown",
            "id": "6477d3f3",
            "metadata": {},
            "source": [
                "This will create the `tutorial-env` directory if it doesn't exist, and\n",
                "also create directories inside it containing a copy of the Python\n",
                "interpreter and various supporting files.\n",
                "\n",
                "A common directory location for a virtual environment is `.venv`. This\n",
                "name keeps the directory typically hidden in your shell and thus out of\n",
                "the way while giving it a name that explains why the directory exists.\n",
                "It also prevents clashing with `.env` environment variable definition\n",
                "files that some tooling supports.\n",
                "\n",
                "Once you've created a virtual environment, you may activate it.\n",
                "\n",
                "On Windows, run:"
            ]
        },
        {
            "cell_type": "code",
            "execution_count": null,
            "id": "0df9e4ea",
            "metadata": {},
            "outputs": [],
            "source": []
        },
        {
            "cell_type": "markdown",
            "id": "733e45db",
            "metadata": {},
            "source": [
                "On Unix or MacOS, run:"
            ]
        },
        {
            "cell_type": "code",
            "execution_count": null,
            "id": "9f1a746c",
            "metadata": {},
            "outputs": [],
            "source": []
        },
        {
            "cell_type": "markdown",
            "id": "bcf15d98",
            "metadata": {},
            "source": [
                "(This script is written for the bash shell. If you use the `csh` or\n",
                "`fish` shells, there are alternate `activate.csh` and `activate.fish`\n",
                "scripts you should use instead.)\n",
                "\n",
                "Activating the virtual environment will change your shell's prompt to\n",
                "show what virtual environment you're using, and modify the environment\n",
                "so that running `python` will get you that particular version and\n",
                "installation of Python. For example:"
            ]
        },
        {
            "cell_type": "code",
            "execution_count": null,
            "id": "4e807a01",
            "metadata": {},
            "outputs": [],
            "source": []
        },
        {
            "cell_type": "code",
            "execution_count": null,
            "id": "41e3b6cc",
            "metadata": {},
            "outputs": [],
            "source": []
        },
        {
            "cell_type": "markdown",
            "id": "0f371913",
            "metadata": {},
            "source": [
                "To deactivate a virtual environment, type:"
            ]
        },
        {
            "cell_type": "code",
            "execution_count": null,
            "id": "e4109911",
            "metadata": {},
            "outputs": [],
            "source": []
        },
        {
            "cell_type": "markdown",
            "id": "e7bd0ab1",
            "metadata": {},
            "source": [
                "into the terminal.\n",
                "\n",
                "## Managing Packages with pip\n",
                "\n",
                "You can install, upgrade, and remove packages using a program called\n",
                "`pip`. By default `pip` will install packages from the [Python Package\n",
                "Index](https://pypi.org). You can browse the Python Package Index by\n",
                "going to it in your web browser.\n",
                "\n",
                "`pip` has a number of subcommands: \"install\", \"uninstall\", \"freeze\",\n",
                "etc. (Consult the [installing-index](installing-index.ipynb) guide for\n",
                "complete documentation for `pip`.)\n",
                "\n",
                "You can install the latest version of a package by specifying a\n",
                "package's name:"
            ]
        },
        {
            "cell_type": "code",
            "execution_count": null,
            "id": "4df3fd6f",
            "metadata": {},
            "outputs": [],
            "source": []
        },
        {
            "cell_type": "markdown",
            "id": "c9aac936",
            "metadata": {},
            "source": [
                "You can also install a specific version of a package by giving the\n",
                "package name followed by `==` and the version number:"
            ]
        },
        {
            "cell_type": "code",
            "execution_count": null,
            "id": "a2f901c4",
            "metadata": {},
            "outputs": [],
            "source": []
        },
        {
            "cell_type": "markdown",
            "id": "8491928d",
            "metadata": {},
            "source": [
                "If you re-run this command, `pip` will notice that the requested version\n",
                "is already installed and do nothing. You can supply a different version\n",
                "number to get that version, or you can run\n",
                "`python -m pip install --upgrade` to upgrade the package to the latest\n",
                "version:"
            ]
        },
        {
            "cell_type": "code",
            "execution_count": null,
            "id": "e604a5aa",
            "metadata": {},
            "outputs": [],
            "source": []
        },
        {
            "cell_type": "markdown",
            "id": "8abc7a01",
            "metadata": {},
            "source": [
                "`python -m pip uninstall` followed by one or more package names will\n",
                "remove the packages from the virtual environment.\n",
                "\n",
                "`python -m pip show` will display information about a particular\n",
                "package:"
            ]
        },
        {
            "cell_type": "code",
            "execution_count": null,
            "id": "3767e50a",
            "metadata": {},
            "outputs": [],
            "source": []
        },
        {
            "cell_type": "markdown",
            "id": "1511d8f4",
            "metadata": {},
            "source": [
                "`python -m pip list` will display all of the packages installed in the\n",
                "virtual environment:"
            ]
        },
        {
            "cell_type": "code",
            "execution_count": null,
            "id": "7c8a6cab",
            "metadata": {},
            "outputs": [],
            "source": []
        },
        {
            "cell_type": "markdown",
            "id": "2485c7dd",
            "metadata": {},
            "source": [
                "`python -m pip freeze` will produce a similar list of the installed\n",
                "packages, but the output uses the format that `python -m pip install`\n",
                "expects. A common convention is to put this list in a `requirements.txt`\n",
                "file:"
            ]
        },
        {
            "cell_type": "code",
            "execution_count": null,
            "id": "a7e886e1",
            "metadata": {},
            "outputs": [],
            "source": []
        },
        {
            "cell_type": "markdown",
            "id": "25da737a",
            "metadata": {},
            "source": [
                "The `requirements.txt` can then be committed to version control and\n",
                "shipped as part of an application. Users can then install all the\n",
                "necessary packages with `install -r` :"
            ]
        },
        {
            "cell_type": "code",
            "execution_count": null,
            "id": "3ea4ba73",
            "metadata": {},
            "outputs": [],
            "source": []
        },
        {
            "cell_type": "markdown",
            "id": "b3bc234c",
            "metadata": {},
            "source": [
                "`pip` has many more options. Consult the\n",
                "[installing-index](installing-index.ipynb) guide for complete\n",
                "documentation for `pip`. When you've written a package and want to make\n",
                "it available on the Python Package Index, consult the [Python packaging\n",
                "user\n",
                "guide](https://packaging.python.org/en/latest/tutorials/packaging-projects/)."
            ]
        }
    ],
    "metadata": {},
    "nbformat": 4,
    "nbformat_minor": 5
}