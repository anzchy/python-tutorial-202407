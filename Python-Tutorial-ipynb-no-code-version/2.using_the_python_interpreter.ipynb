{
 "cells": [
  {
   "cell_type": "markdown",
   "id": "7c25a7d4",
   "metadata": {},
   "source": [
    "$$\n",
    "\\def\\CC{\\bf C}\n",
    "\\def\\QQ{\\bf Q}\n",
    "\\def\\RR{\\bf R}\n",
    "\\def\\ZZ{\\bf Z}\n",
    "\\def\\NN{\\bf N}\n",
    "$$\n",
    "# Using the Python Interpreter\n",
    "\n",
    "## Invoking the Interpreter\n",
    "\n",
    "The Python interpreter is usually installed as on those machines where\n",
    "it is available; putting `/usr/local/bin` in your Unix shell's search\n",
    "path makes it possible to start it by typing the command:"
   ]
  },
  {
   "cell_type": "code",
   "execution_count": null,
   "id": "f1e98a16",
   "metadata": {},
   "outputs": [],
   "source": []
  },
  {
   "cell_type": "markdown",
   "id": "d7349eb8",
   "metadata": {},
   "source": [
    "to the shell.[1] Since the choice of the directory where the interpreter\n",
    "lives is an installation option, other places are possible; check with\n",
    "your local Python guru or system administrator. (E.g.,\n",
    "`/usr/local/python` is a popular alternative location.)\n",
    "\n",
    "On Windows machines where you have installed Python from the\n",
    "`Microsoft Store\n",
    "<windows-store>`, the command will be available. If you have the\n",
    "`py.exe launcher <launcher>` installed, you can use the `py` command.\n",
    "See [setting-envvars](setting-envvars.ipynb) for other ways to launch\n",
    "Python.\n",
    "\n",
    "Typing an end-of-file character (`Control-D` on Unix, `Control-Z` on\n",
    "Windows) at the primary prompt causes the interpreter to exit with a\n",
    "zero exit status. If that doesn't work, you can exit the interpreter by\n",
    "typing the following command: `quit()`.\n",
    "\n",
    "The interpreter's line-editing features include interactive editing,\n",
    "history substitution and code completion on systems that support the\n",
    "[GNU Readline](https://tiswww.case.edu/php/chet/readline/rltop.html)\n",
    "library. Perhaps the quickest check to see whether command line editing\n",
    "is supported is typing `Control-P` to the first Python prompt you get.\n",
    "If it beeps, you have command line editing; see Appendix\n",
    "[tut-interacting](tut-interacting.ipynb) for an introduction to the\n",
    "keys. If nothing appears to happen, or if `^P` is echoed, command line\n",
    "editing isn't available; you'll only be able to use backspace to remove\n",
    "characters from the current line.\n",
    "\n",
    "The interpreter operates somewhat like the Unix shell: when called with\n",
    "standard input connected to a tty device, it reads and executes commands\n",
    "interactively; when called with a file name argument or with a file as\n",
    "standard input, it reads and executes a *script* from that file.\n",
    "\n",
    "A second way of starting the interpreter is\n",
    "`python -c command [arg] ...`, which executes the statement(s) in\n",
    "*command*, analogous to the shell's `-c` option. Since Python statements\n",
    "often contain spaces or other characters that are special to the shell,\n",
    "it is usually advised to quote *command* in its entirety.\n",
    "\n",
    "Some Python modules are also useful as scripts. These can be invoked\n",
    "using `python -m module [arg] ...`, which executes the source file for\n",
    "*module* as if you had spelled out its full name on the command line.\n",
    "\n",
    "When a script file is used, it is sometimes useful to be able to run the\n",
    "script and enter interactive mode afterwards. This can be done by\n",
    "passing `-i` before the script.\n",
    "\n",
    "All command line options are described in\n",
    "[using-on-general](using-on-general.ipynb).\n",
    "\n",
    "### Argument Passing\n",
    "\n",
    "When known to the interpreter, the script name and additional arguments\n",
    "thereafter are turned into a list of strings and assigned to the `argv`\n",
    "variable in the `sys` module. You can access this list by executing\n",
    "`import sys`. The length of the list is at least one; when no script and\n",
    "no arguments are given, `sys.argv[0]` is an empty string. When the\n",
    "script name is given as `'-'` (meaning standard input), `sys.argv[0]` is\n",
    "set to `'-'`. When `-c` *command* is used, `sys.argv[0]` is set to\n",
    "`'-c'`. When `-m` *module* is used, `sys.argv[0]` is set to the full\n",
    "name of the located module. Options found after `-c` *command* or `-m`\n",
    "*module* are not consumed by the Python interpreter's option processing\n",
    "but left in `sys.argv` for the command or module to handle.\n",
    "\n",
    "### Interactive Mode\n",
    "\n",
    "When commands are read from a tty, the interpreter is said to be in\n",
    "*interactive mode*. In this mode it prompts for the next command with\n",
    "the *primary prompt*, usually three greater-than signs (`>>>`); for\n",
    "continuation lines it prompts with the *secondary prompt*, by default\n",
    "three dots (`...`). The interpreter prints a welcome message stating its\n",
    "version number and a copyright notice before printing the first prompt:"
   ]
  },
  {
   "cell_type": "code",
   "execution_count": null,
   "id": "816d5215",
   "metadata": {},
   "outputs": [],
   "source": []
  },
  {
   "cell_type": "markdown",
   "id": "2040a071",
   "metadata": {},
   "source": [
    "Continuation lines are needed when entering a multi-line construct. As\n",
    "an example, take a look at this `if` statement:"
   ]
  },
  {
   "cell_type": "code",
   "execution_count": null,
   "id": "d94d62cf",
   "metadata": {},
   "outputs": [],
   "source": []
  },
  {
   "cell_type": "markdown",
   "id": "96a3f975",
   "metadata": {},
   "source": [
    "For more on interactive mode, see [tut-interac](tut-interac.ipynb).\n",
    "\n",
    "## The Interpreter and Its Environment\n",
    "\n",
    "### Source Code Encoding\n",
    "\n",
    "By default, Python source files are treated as encoded in UTF-8. In that\n",
    "encoding, characters of most languages in the world can be used\n",
    "simultaneously in string literals, identifiers and comments --- although\n",
    "the standard library only uses ASCII characters for identifiers, a\n",
    "convention that any portable code should follow. To display all these\n",
    "characters properly, your editor must recognize that the file is UTF-8,\n",
    "and it must use a font that supports all the characters in the file.\n",
    "\n",
    "To declare an encoding other than the default one, a special comment\n",
    "line should be added as the *first* line of the file. The syntax is as\n",
    "follows:"
   ]
  },
  {
   "cell_type": "code",
   "execution_count": null,
   "id": "40f7df94",
   "metadata": {},
   "outputs": [],
   "source": []
  },
  {
   "cell_type": "markdown",
   "id": "5af9e82c",
   "metadata": {},
   "source": [
    "where *encoding* is one of the valid `codecs` supported by Python.\n",
    "\n",
    "For example, to declare that Windows-1252 encoding is to be used, the\n",
    "first line of your source code file should be:"
   ]
  },
  {
   "cell_type": "code",
   "execution_count": null,
   "id": "f0c4c66a",
   "metadata": {},
   "outputs": [],
   "source": []
  },
  {
   "cell_type": "markdown",
   "id": "8ca95c3d",
   "metadata": {},
   "source": [
    "One exception to the *first line* rule is when the source code starts\n",
    "with a `UNIX \"shebang\" line <tut-scripts>`. In this case, the encoding\n",
    "declaration should be added as the second line of the file. For example:"
   ]
  },
  {
   "cell_type": "code",
   "execution_count": null,
   "id": "721b49ce",
   "metadata": {},
   "outputs": [],
   "source": []
  },
  {
   "cell_type": "markdown",
   "id": "9346ca74",
   "metadata": {},
   "source": [
    "**Footnotes**\n",
    "\n",
    "[1] On Unix, the Python 3.x interpreter is by default not installed with\n",
    "the executable named `python`, so that it does not conflict with a\n",
    "simultaneously installed Python 2.x executable."
   ]
  }
 ],
 "metadata": {
  "kernelspec": {
   "display_name": "Python 3 (ipykernel)",
   "language": "python",
   "name": "python3"
  },
  "language_info": {
   "codemirror_mode": {
    "name": "ipython",
    "version": 3
   },
   "file_extension": ".py",
   "mimetype": "text/x-python",
   "name": "python",
   "nbconvert_exporter": "python",
   "pygments_lexer": "ipython3",
   "version": "3.12.5"
  }
 },
 "nbformat": 4,
 "nbformat_minor": 5
}
