{
 "cells": [
  {
   "cell_type": "markdown",
   "id": "3dec5176",
   "metadata": {},
   "source": [
    "$$\n",
    "\\def\\CC{\\bf C}\n",
    "\\def\\QQ{\\bf Q}\n",
    "\\def\\RR{\\bf R}\n",
    "\\def\\ZZ{\\bf Z}\n",
    "\\def\\NN{\\bf N}\n",
    "$$\n",
    "# More Control Flow Tools\n",
    "\n",
    "As well as the `while` statement just introduced, Python uses a few more\n",
    "that we will encounter in this chapter.\n",
    "\n",
    "## `!if` Statements\n",
    "\n",
    "Perhaps the most well-known statement type is the `if` statement. For\n",
    "example:"
   ]
  },
  {
   "cell_type": "code",
   "execution_count": null,
   "id": "7e14652b",
   "metadata": {},
   "outputs": [
    {
     "data": {
      "text/plain": [
       "Please enter an integer: 42"
      ]
     },
     "execution_count": 1,
     "metadata": {},
     "output_type": "execute_result"
    }
   ],
   "source": [
    "x = int(input(\"Please enter an integer: \"))"
   ]
  },
  {
   "cell_type": "code",
   "execution_count": null,
   "id": "55377d4b",
   "metadata": {},
   "outputs": [
    {
     "data": {
      "text/plain": [
       "More"
      ]
     },
     "execution_count": 1,
     "metadata": {},
     "output_type": "execute_result"
    }
   ],
   "source": [
    "if x < 0:\n",
    "    x = 0\n",
    "    print('Negative changed to zero')\n",
    "elif x == 0:\n",
    "    print('Zero')\n",
    "elif x == 1:\n",
    "    print('Single')\n",
    "else:\n",
    "    print('More')"
   ]
  },
  {
   "cell_type": "markdown",
   "id": "32daf59b",
   "metadata": {},
   "source": [
    "There can be zero or more `elif` parts, and the `else` part is optional.\n",
    "The keyword '`!elif`' is short for 'else if', and is useful to avoid\n",
    "excessive indentation. An `!if` ... `!elif` ... `!elif` ... sequence is\n",
    "a substitute for the `switch` or `case` statements found in other\n",
    "languages.\n",
    "\n",
    "If you're comparing the same value to several constants, or checking for\n",
    "specific types or attributes, you may also find the `!match` statement\n",
    "useful. For more details see [tut-match](tut-match.ipynb).\n",
    "\n",
    "## `!for` Statements\n",
    "\n",
    "pair: statement; for\n",
    "\n",
    "The `for` statement in Python differs a bit from what you may be used to\n",
    "in C or Pascal. Rather than always iterating over an arithmetic\n",
    "progression of numbers (like in Pascal), or giving the user the ability\n",
    "to define both the iteration step and halting condition (as C), Python's\n",
    "`!for` statement iterates over the items of any sequence (a list or a\n",
    "string), in the order that they appear in the sequence. For example (no\n",
    "pun intended):"
   ]
  },
  {
   "cell_type": "code",
   "execution_count": null,
   "id": "3289296a",
   "metadata": {},
   "outputs": [
    {
     "data": {
      "text/plain": [
       "cat 3\n",
       "window 6\n",
       "defenestrate 12"
      ]
     },
     "execution_count": 1,
     "metadata": {},
     "output_type": "execute_result"
    }
   ],
   "source": [
    "# Measure some strings:\n",
    "words = ['cat', 'window', 'defenestrate']\n",
    "for w in words:\n",
    "    print(w, len(w))"
   ]
  },
  {
   "cell_type": "markdown",
   "id": "aa6a1280",
   "metadata": {},
   "source": [
    "Code that modifies a collection while iterating over that same\n",
    "collection can be tricky to get right. Instead, it is usually more\n",
    "straight-forward to loop over a copy of the collection or to create a\n",
    "new collection:"
   ]
  },
  {
   "cell_type": "code",
   "execution_count": null,
   "id": "815b87e5",
   "metadata": {},
   "outputs": [],
   "source": [
    "# Create a sample collection\n",
    "users = {'Hans': 'active', 'Éléonore': 'inactive', '景太郎': 'active'}\n",
    "\n",
    "# Strategy:  Iterate over a copy\n",
    "for user, status in users.copy().items():\n",
    "    if status == 'inactive':\n",
    "        del users[user]\n",
    "\n",
    "# Strategy:  Create a new collection\n",
    "active_users = {}\n",
    "for user, status in users.items():\n",
    "    if status == 'active':\n",
    "        active_users[user] = status"
   ]
  },
  {
   "cell_type": "markdown",
   "id": "fcc060ef",
   "metadata": {},
   "source": [
    "## The `range` Function\n",
    "\n",
    "If you do need to iterate over a sequence of numbers, the built-in\n",
    "function `range` comes in handy. It generates arithmetic progressions:"
   ]
  },
  {
   "cell_type": "code",
   "execution_count": null,
   "id": "a6e0d091",
   "metadata": {},
   "outputs": [
    {
     "data": {
      "text/plain": [
       "0\n",
       "1\n",
       "2\n",
       "3\n",
       "4"
      ]
     },
     "execution_count": 1,
     "metadata": {},
     "output_type": "execute_result"
    }
   ],
   "source": [
    "for i in range(5):\n",
    "    print(i)"
   ]
  },
  {
   "cell_type": "markdown",
   "id": "a2054d77",
   "metadata": {},
   "source": [
    "The given end point is never part of the generated sequence; `range(10)`\n",
    "generates 10 values, the legal indices for items of a sequence of length\n",
    "10. It is possible to let the range start at another number, or to\n",
    "specify a different increment (even negative; sometimes this is called\n",
    "the 'step'):"
   ]
  },
  {
   "cell_type": "code",
   "execution_count": null,
   "id": "f8db79d2",
   "metadata": {},
   "outputs": [
    {
     "data": {
      "text/plain": [
       "[5, 6, 7, 8, 9]\n"
      ]
     },
     "execution_count": 1,
     "metadata": {},
     "output_type": "execute_result"
    }
   ],
   "source": [
    "list(range(5, 10))"
   ]
  },
  {
   "cell_type": "code",
   "execution_count": null,
   "id": "8244daf3",
   "metadata": {},
   "outputs": [
    {
     "data": {
      "text/plain": [
       "[0, 3, 6, 9]\n"
      ]
     },
     "execution_count": 1,
     "metadata": {},
     "output_type": "execute_result"
    }
   ],
   "source": [
    "list(range(0, 10, 3))"
   ]
  },
  {
   "cell_type": "code",
   "execution_count": null,
   "id": "6e606c58",
   "metadata": {},
   "outputs": [
    {
     "data": {
      "text/plain": [
       "[-10, -40, -70]"
      ]
     },
     "execution_count": 1,
     "metadata": {},
     "output_type": "execute_result"
    }
   ],
   "source": [
    "list(range(-10, -100, -30))"
   ]
  },
  {
   "cell_type": "markdown",
   "id": "72799fa9",
   "metadata": {},
   "source": [
    "To iterate over the indices of a sequence, you can combine `range` and\n",
    "`len` as follows:"
   ]
  },
  {
   "cell_type": "code",
   "execution_count": null,
   "id": "8d8bc088",
   "metadata": {},
   "outputs": [
    {
     "data": {
      "text/plain": [
       "0 Mary\n",
       "1 had\n",
       "2 a\n",
       "3 little\n",
       "4 lamb"
      ]
     },
     "execution_count": 1,
     "metadata": {},
     "output_type": "execute_result"
    }
   ],
   "source": [
    "a = ['Mary', 'had', 'a', 'little', 'lamb']\n",
    "for i in range(len(a)):\n",
    "    print(i, a[i])"
   ]
  },
  {
   "cell_type": "markdown",
   "id": "c4565093",
   "metadata": {},
   "source": [
    "In most such cases, however, it is convenient to use the `enumerate`\n",
    "function, see [tut-loopidioms](tut-loopidioms.ipynb).\n",
    "\n",
    "A strange thing happens if you just print a range:"
   ]
  },
  {
   "cell_type": "code",
   "execution_count": null,
   "id": "5c592b08",
   "metadata": {},
   "outputs": [
    {
     "data": {
      "text/plain": [
       "range(0, 10)"
      ]
     },
     "execution_count": 1,
     "metadata": {},
     "output_type": "execute_result"
    }
   ],
   "source": [
    "range(10)"
   ]
  },
  {
   "cell_type": "markdown",
   "id": "cc5e41ab",
   "metadata": {},
   "source": [
    "In many ways the object returned by `range` behaves as if it is a list,\n",
    "but in fact it isn't. It is an object which returns the successive items\n",
    "of the desired sequence when you iterate over it, but it doesn't really\n",
    "make the list, thus saving space.\n",
    "\n",
    "We say such an object is `iterable`, that is, suitable as a target for\n",
    "functions and constructs that expect something from which they can\n",
    "obtain successive items until the supply is exhausted. We have seen that\n",
    "the `for` statement is such a construct, while an example of a function\n",
    "that takes an iterable is `sum` :"
   ]
  },
  {
   "cell_type": "code",
   "execution_count": null,
   "id": "5383ecbe",
   "metadata": {},
   "outputs": [
    {
     "data": {
      "text/plain": [
       "6"
      ]
     },
     "execution_count": 1,
     "metadata": {},
     "output_type": "execute_result"
    }
   ],
   "source": [
    "sum(range(4))  # 0 + 1 + 2 + 3"
   ]
  },
  {
   "cell_type": "markdown",
   "id": "7ae6a6b3",
   "metadata": {},
   "source": [
    "Later we will see more functions that return iterables and take\n",
    "iterables as arguments. In chapter\n",
    "[tut-structures](tut-structures.ipynb), we will discuss in more detail\n",
    "about `list`.\n",
    "\n",
    "## `!break` and `!continue` Statements, and `!else` Clauses on Loops\n",
    "\n",
    "The `break` statement breaks out of the innermost enclosing `for` or\n",
    "`while` loop.\n",
    "\n",
    "A `!for` or `!while` loop can include an `!else` clause.\n",
    "\n",
    "In a `for` loop, the `!else` clause is executed after the loop reaches\n",
    "its final iteration.\n",
    "\n",
    "In a `while` loop, it's executed after the loop's condition becomes\n",
    "false.\n",
    "\n",
    "In either kind of loop, the `!else` clause is **not** executed if the\n",
    "loop was terminated by a `break`.\n",
    "\n",
    "This is exemplified in the following `!for` loop, which searches for\n",
    "prime numbers:"
   ]
  },
  {
   "cell_type": "code",
   "execution_count": null,
   "id": "6af4a463",
   "metadata": {},
   "outputs": [
    {
     "data": {
      "text/plain": [
       "2 is a prime number\n",
       "3 is a prime number\n",
       "4 equals 2 * 2\n",
       "5 is a prime number\n",
       "6 equals 2 * 3\n",
       "7 is a prime number\n",
       "8 equals 2 * 4\n",
       "9 equals 3 * 3"
      ]
     },
     "execution_count": 1,
     "metadata": {},
     "output_type": "execute_result"
    }
   ],
   "source": [
    "for n in range(2, 10):\n",
    "    for x in range(2, n):\n",
    "        if n % x == 0:\n",
    "            print(n, 'equals', x, '*', n//x)\n",
    "            break\n",
    "    else:\n",
    "        # loop fell through without finding a factor\n",
    "        print(n, 'is a prime number')"
   ]
  },
  {
   "cell_type": "markdown",
   "id": "ee827f47",
   "metadata": {},
   "source": [
    "(Yes, this is the correct code. Look closely: the `else` clause belongs\n",
    "to the `for` loop, **not** the `if` statement.)\n",
    "\n",
    "When used with a loop, the `else` clause has more in common with the\n",
    "`else` clause of a `try` statement than it does with that of `if`\n",
    "statements: a `try` statement's `else` clause runs when no exception\n",
    "occurs, and a loop's `else` clause runs when no `break` occurs. For more\n",
    "on the `!try` statement and exceptions, see\n",
    "[tut-handling](tut-handling.ipynb).\n",
    "\n",
    "The `continue` statement, also borrowed from C, continues with the next\n",
    "iteration of the loop:"
   ]
  },
  {
   "cell_type": "code",
   "execution_count": null,
   "id": "ff0edddc",
   "metadata": {},
   "outputs": [
    {
     "data": {
      "text/plain": [
       "Found an even number 2\n",
       "Found an odd number 3\n",
       "Found an even number 4\n",
       "Found an odd number 5\n",
       "Found an even number 6\n",
       "Found an odd number 7\n",
       "Found an even number 8\n",
       "Found an odd number 9"
      ]
     },
     "execution_count": 1,
     "metadata": {},
     "output_type": "execute_result"
    }
   ],
   "source": [
    "for num in range(2, 10):\n",
    "    if num % 2 == 0:\n",
    "        print(\"Found an even number\", num)\n",
    "        continue\n",
    "    print(\"Found an odd number\", num)"
   ]
  },
  {
   "cell_type": "markdown",
   "id": "bd3e77f1",
   "metadata": {},
   "source": [
    "## `!pass` Statements\n",
    "\n",
    "The `pass` statement does nothing. It can be used when a statement is\n",
    "required syntactically but the program requires no action. For example:"
   ]
  },
  {
   "cell_type": "code",
   "execution_count": null,
   "id": "d8982ec0",
   "metadata": {},
   "outputs": [],
   "source": [
    "while True:\n",
    "    pass  # Busy-wait for keyboard interrupt (Ctrl+C)"
   ]
  },
  {
   "cell_type": "markdown",
   "id": "58bda22a",
   "metadata": {},
   "source": [
    "This is commonly used for creating minimal classes:"
   ]
  },
  {
   "cell_type": "code",
   "execution_count": null,
   "id": "77848748",
   "metadata": {},
   "outputs": [],
   "source": [
    "class MyEmptyClass:\n",
    "    pass"
   ]
  },
  {
   "cell_type": "markdown",
   "id": "e58f7f1e",
   "metadata": {},
   "source": [
    "Another place `pass` can be used is as a place-holder for a function or\n",
    "conditional body when you are working on new code, allowing you to keep\n",
    "thinking at a more abstract level. The `!pass` is silently ignored:"
   ]
  },
  {
   "cell_type": "code",
   "execution_count": null,
   "id": "8494e741",
   "metadata": {},
   "outputs": [],
   "source": [
    "def initlog(*args):\n",
    "    pass   # Remember to implement this!"
   ]
  },
  {
   "cell_type": "markdown",
   "id": "e87f5d69",
   "metadata": {},
   "source": [
    "## `!match` Statements\n",
    "\n",
    "A `match` statement takes an expression and compares its value to\n",
    "successive patterns given as one or more case blocks. This is\n",
    "superficially similar to a switch statement in C, Java or JavaScript\n",
    "(and many other languages), but it's more similar to pattern matching in\n",
    "languages like Rust or Haskell. Only the first pattern that matches gets\n",
    "executed and it can also extract components (sequence elements or object\n",
    "attributes) from the value into variables.\n",
    "\n",
    "The simplest form compares a subject value against one or more literals:"
   ]
  },
  {
   "cell_type": "code",
   "execution_count": null,
   "id": "d8eb81fe",
   "metadata": {},
   "outputs": [],
   "source": [
    "def http_error(status):\n",
    "    match status:\n",
    "        case 400:\n",
    "            return \"Bad request\"\n",
    "        case 404:\n",
    "            return \"Not found\"\n",
    "        case 418:\n",
    "            return \"I'm a teapot\"\n",
    "        case _:\n",
    "            return \"Something's wrong with the internet\""
   ]
  },
  {
   "cell_type": "markdown",
   "id": "c302c4bf",
   "metadata": {},
   "source": [
    "Note the last block: the \"variable name\" `_` acts as a *wildcard* and\n",
    "never fails to match. If no case matches, none of the branches is\n",
    "executed.\n",
    "\n",
    "You can combine several literals in a single pattern using `|` (\"or\"):"
   ]
  },
  {
   "cell_type": "code",
   "execution_count": null,
   "id": "d20c44df",
   "metadata": {},
   "outputs": [],
   "source": [
    "case 401 | 403 | 404:\n",
    "    return \"Not allowed\""
   ]
  },
  {
   "cell_type": "markdown",
   "id": "ad1c2325",
   "metadata": {},
   "source": [
    "Patterns can look like unpacking assignments, and can be used to bind\n",
    "variables:"
   ]
  },
  {
   "cell_type": "code",
   "execution_count": null,
   "id": "f0224325",
   "metadata": {},
   "outputs": [],
   "source": [
    "# point is an (x, y) tuple\n",
    "match point:\n",
    "    case (0, 0):\n",
    "        print(\"Origin\")\n",
    "    case (0, y):\n",
    "        print(f\"Y={y}\")\n",
    "    case (x, 0):\n",
    "        print(f\"X={x}\")\n",
    "    case (x, y):\n",
    "        print(f\"X={x}, Y={y}\")\n",
    "    case _:\n",
    "        raise ValueError(\"Not a point\")"
   ]
  },
  {
   "cell_type": "markdown",
   "id": "0141ce91",
   "metadata": {},
   "source": [
    "Study that one carefully! The first pattern has two literals, and can be\n",
    "thought of as an extension of the literal pattern shown above. But the\n",
    "next two patterns combine a literal and a variable, and the variable\n",
    "*binds* a value from the subject (`point`). The fourth pattern captures\n",
    "two values, which makes it conceptually similar to the unpacking\n",
    "assignment `(x, y) = point`.\n",
    "\n",
    "If you are using classes to structure your data you can use the class\n",
    "name followed by an argument list resembling a constructor, but with the\n",
    "ability to capture attributes into variables:"
   ]
  },
  {
   "cell_type": "code",
   "execution_count": null,
   "id": "26f0cfdd",
   "metadata": {},
   "outputs": [],
   "source": [
    "class Point:\n",
    "    def __init__(self, x, y):\n",
    "        self.x = x\n",
    "        self.y = y\n",
    "\n",
    "def where_is(point):\n",
    "    match point:\n",
    "        case Point(x=0, y=0):\n",
    "            print(\"Origin\")\n",
    "        case Point(x=0, y=y):\n",
    "            print(f\"Y={y}\")\n",
    "        case Point(x=x, y=0):\n",
    "            print(f\"X={x}\")\n",
    "        case Point():\n",
    "            print(\"Somewhere else\")\n",
    "        case _:\n",
    "            print(\"Not a point\")"
   ]
  },
  {
   "cell_type": "markdown",
   "id": "d0a1b074",
   "metadata": {},
   "source": [
    "You can use positional parameters with some builtin classes that provide\n",
    "an ordering for their attributes (e.g. dataclasses). You can also define\n",
    "a specific position for attributes in patterns by setting the\n",
    "`__match_args__` special attribute in your classes. If it's set to (\"x\",\n",
    "\"y\"), the following patterns are all equivalent (and all bind the `y`\n",
    "attribute to the `var` variable):"
   ]
  },
  {
   "cell_type": "code",
   "execution_count": null,
   "id": "63dfb4c2",
   "metadata": {},
   "outputs": [],
   "source": [
    "Point(1, var)\n",
    "Point(1, y=var)\n",
    "Point(x=1, y=var)\n",
    "Point(y=var, x=1)"
   ]
  },
  {
   "cell_type": "markdown",
   "id": "cf497286",
   "metadata": {},
   "source": [
    "A recommended way to read patterns is to look at them as an extended\n",
    "form of what you would put on the left of an assignment, to understand\n",
    "which variables would be set to what. Only the standalone names (like\n",
    "`var` above) are assigned to by a match statement. Dotted names (like\n",
    "`foo.bar`), attribute names (the `x=` and `y=` above) or class names\n",
    "(recognized by the \"(...)\" next to them like `Point` above) are never\n",
    "assigned to.\n",
    "\n",
    "Patterns can be arbitrarily nested. For example, if we have a short list\n",
    "of Points, with `__match_args__` added, we could match it like this:"
   ]
  },
  {
   "cell_type": "code",
   "execution_count": null,
   "id": "c79ccb03",
   "metadata": {},
   "outputs": [],
   "source": [
    "class Point:\n",
    "    __match_args__ = ('x', 'y')\n",
    "    def __init__(self, x, y):\n",
    "        self.x = x\n",
    "        self.y = y\n",
    "\n",
    "match points:\n",
    "    case []:\n",
    "        print(\"No points\")\n",
    "    case [Point(0, 0)]:\n",
    "        print(\"The origin\")\n",
    "    case [Point(x, y)]:\n",
    "        print(f\"Single point {x}, {y}\")\n",
    "    case [Point(0, y1), Point(0, y2)]:\n",
    "        print(f\"Two on the Y axis at {y1}, {y2}\")\n",
    "    case _:\n",
    "        print(\"Something else\")"
   ]
  },
  {
   "cell_type": "markdown",
   "id": "4b6acebf",
   "metadata": {},
   "source": [
    "We can add an `if` clause to a pattern, known as a \"guard\". If the guard\n",
    "is false, `match` goes on to try the next case block. Note that value\n",
    "capture happens before the guard is evaluated:"
   ]
  },
  {
   "cell_type": "code",
   "execution_count": null,
   "id": "6e5f852a",
   "metadata": {},
   "outputs": [],
   "source": [
    "match point:\n",
    "    case Point(x, y) if x == y:\n",
    "        print(f\"Y=X at {x}\")\n",
    "    case Point(x, y):\n",
    "        print(f\"Not on the diagonal\")"
   ]
  },
  {
   "cell_type": "markdown",
   "id": "5a1a5105",
   "metadata": {},
   "source": [
    "Several other key features of this statement:\n",
    "\n",
    "-   Like unpacking assignments, tuple and list patterns have exactly the\n",
    "    same meaning and actually match arbitrary sequences. An important\n",
    "    exception is that they don't match iterators or strings.\n",
    "\n",
    "-   Sequence patterns support extended unpacking: `[x, y, *rest]` and\n",
    "    `(x, y, *rest)` work similar to unpacking assignments. The name\n",
    "    after `*` may also be `_`, so `(x, y, *_)` matches a sequence of at\n",
    "    least two items without binding the remaining items.\n",
    "\n",
    "-   Mapping patterns: `{\"bandwidth\": b, \"latency\": l}` captures the\n",
    "    `\"bandwidth\"` and `\"latency\"` values from a dictionary. Unlike\n",
    "    sequence patterns, extra keys are ignored. An unpacking like\n",
    "    `**rest` is also supported. (But `**_` would be redundant, so it is\n",
    "    not allowed.)\n",
    "\n",
    "-   Subpatterns may be captured using the `as` keyword:"
   ]
  },
  {
   "cell_type": "code",
   "execution_count": null,
   "id": "b73ad590",
   "metadata": {},
   "outputs": [],
   "source": [
    "    case (Point(x1, y1), Point(x2, y2) as p2): ..."
   ]
  },
  {
   "cell_type": "markdown",
   "id": "3be70ff4",
   "metadata": {},
   "source": [
    "\n",
    "    will capture the second element of the input as `p2` (as long as the\n",
    "    input is a sequence of two points)\n"
   ]
  },
  {
   "cell_type": "markdown",
   "id": "5a9061e7",
   "metadata": {},
   "source": [
    "-   Most literals are compared by equality, however the singletons\n",
    "    `True`, `False` and `None` are compared by identity.\n",
    "\n",
    "-   Patterns may use named constants. These must be dotted names to\n",
    "    prevent them from being interpreted as capture variable:"
   ]
  },
  {
   "cell_type": "code",
   "execution_count": null,
   "id": "e736abeb",
   "metadata": {},
   "outputs": [],
   "source": [
    "    from enum import Enum\n",
    "    class Color(Enum):\n",
    "        RED = 'red'\n",
    "        GREEN = 'green'\n",
    "        BLUE = 'blue'\n",
    "\n",
    "    color = Color(input(\"Enter your choice of 'red', 'blue' or 'green': \"))\n",
    "\n",
    "    match color:\n",
    "        case Color.RED:\n",
    "            print(\"I see red!\")\n",
    "        case Color.GREEN:\n",
    "            print(\"Grass is green\")\n",
    "        case Color.BLUE:\n",
    "            print(\"I'm feeling the blues :(\")"
   ]
  },
  {
   "cell_type": "markdown",
   "id": "d34d725e",
   "metadata": {},
   "source": [
    "For a more detailed explanation and additional examples, you can look\n",
    "into `636` which is written in a tutorial format.\n",
    "\n",
    "## Defining Functions\n",
    "\n",
    "We can create a function that writes the Fibonacci series to an\n",
    "arbitrary boundary:"
   ]
  },
  {
   "cell_type": "code",
   "execution_count": null,
   "id": "05e26bd6",
   "metadata": {},
   "outputs": [
    {
     "data": {
      "text/plain": [
       "0 1 1 2 3 5 8 13 21 34 55 89 144 233 377 610 987 1597"
      ]
     },
     "execution_count": 1,
     "metadata": {},
     "output_type": "execute_result"
    }
   ],
   "source": [
    "def fib(n):    # write Fibonacci series up to n\n",
    "    \"\"\"Print a Fibonacci series up to n.\"\"\"\n",
    "    a, b = 0, 1\n",
    "    while a < n:\n",
    "        print(a, end=' ')\n",
    "        a, b = b, a+b\n",
    "    print()\n",
    "\n",
    "# Now call the function we just defined:\n",
    "fib(2000)"
   ]
  },
  {
   "cell_type": "markdown",
   "id": "1c972af3",
   "metadata": {},
   "source": [
    "single: documentation strings single: docstrings single: strings,\n",
    "documentation\n",
    "\n",
    "The keyword `def` introduces a function *definition*. It must be\n",
    "followed by the function name and the parenthesized list of formal\n",
    "parameters. The statements that form the body of the function start at\n",
    "the next line, and must be indented.\n",
    "\n",
    "The first statement of the function body can optionally be a string\n",
    "literal; this string literal is the function's documentation string, or\n",
    "`docstring`. (More about docstrings can be found in the section\n",
    "[tut-docstrings](tut-docstrings.ipynb).) There are tools which use\n",
    "docstrings to automatically produce online or printed documentation, or\n",
    "to let the user interactively browse through code; it's good practice to\n",
    "include docstrings in code that you write, so make a habit of it.\n",
    "\n",
    "The *execution* of a function introduces a new symbol table used for the\n",
    "local variables of the function. More precisely, all variable\n",
    "assignments in a function store the value in the local symbol table;\n",
    "whereas variable references first look in the local symbol table, then\n",
    "in the local symbol tables of enclosing functions, then in the global\n",
    "symbol table, and finally in the table of built-in names. Thus, global\n",
    "variables and variables of enclosing functions cannot be directly\n",
    "assigned a value within a function (unless, for global variables, named\n",
    "in a `global` statement, or, for variables of enclosing functions, named\n",
    "in a `nonlocal` statement), although they may be referenced.\n",
    "\n",
    "The actual parameters (arguments) to a function call are introduced in\n",
    "the local symbol table of the called function when it is called; thus,\n",
    "arguments are passed using *call by value* (where the *value* is always\n",
    "an object *reference*, not the value of the object).[1] When a function\n",
    "calls another function, or calls itself recursively, a new local symbol\n",
    "table is created for that call.\n",
    "\n",
    "A function definition associates the function name with the function\n",
    "object in the current symbol table. The interpreter recognizes the\n",
    "object pointed to by that name as a user-defined function. Other names\n",
    "can also point to that same function object and can also be used to\n",
    "access the function:"
   ]
  },
  {
   "cell_type": "code",
   "execution_count": null,
   "id": "8c11bbec",
   "metadata": {},
   "outputs": [
    {
     "data": {
      "text/plain": [
       "<function fib at 10042ed0>"
      ]
     },
     "execution_count": 1,
     "metadata": {},
     "output_type": "execute_result"
    }
   ],
   "source": [
    "fib"
   ]
  },
  {
   "cell_type": "code",
   "execution_count": null,
   "id": "956a85c5",
   "metadata": {},
   "outputs": [
    {
     "data": {
      "text/plain": [
       "0 1 1 2 3 5 8 13 21 34 55 89"
      ]
     },
     "execution_count": 1,
     "metadata": {},
     "output_type": "execute_result"
    }
   ],
   "source": [
    "f = fib\n",
    "f(100)"
   ]
  },
  {
   "cell_type": "markdown",
   "id": "0ce86967",
   "metadata": {},
   "source": [
    "Coming from other languages, you might object that `fib` is not a\n",
    "function but a procedure since it doesn't return a value. In fact, even\n",
    "functions without a `return` statement do return a value, albeit a\n",
    "rather boring one. This value is called `None` (it's a built-in name).\n",
    "Writing the value `None` is normally suppressed by the interpreter if it\n",
    "would be the only value written. You can see it if you really want to\n",
    "using `print` :"
   ]
  },
  {
   "cell_type": "code",
   "execution_count": null,
   "id": "2c5affa1",
   "metadata": {},
   "outputs": [
    {
     "data": {
      "text/plain": [
       "None"
      ]
     },
     "execution_count": 1,
     "metadata": {},
     "output_type": "execute_result"
    }
   ],
   "source": [
    "fib(0)\n",
    "print(fib(0))"
   ]
  },
  {
   "cell_type": "markdown",
   "id": "e8625abb",
   "metadata": {},
   "source": [
    "It is simple to write a function that returns a list of the numbers of\n",
    "the Fibonacci series, instead of printing it:"
   ]
  },
  {
   "cell_type": "code",
   "execution_count": null,
   "id": "2d3424a0",
   "metadata": {},
   "outputs": [
    {
     "data": {
      "text/plain": [
       "[0, 1, 1, 2, 3, 5, 8, 13, 21, 34, 55, 89]"
      ]
     },
     "execution_count": 1,
     "metadata": {},
     "output_type": "execute_result"
    }
   ],
   "source": [
    "def fib2(n):  # return Fibonacci series up to n\n",
    "    \"\"\"Return a list containing the Fibonacci series up to n.\"\"\"\n",
    "    result = []\n",
    "    a, b = 0, 1\n",
    "    while a < n:\n",
    "        result.append(a)    # see below\n",
    "        a, b = b, a+b\n",
    "    return result\n",
    "\n",
    "f100 = fib2(100)    # call it\n",
    "f100                # write the result"
   ]
  },
  {
   "cell_type": "markdown",
   "id": "f441dc47",
   "metadata": {},
   "source": [
    "This example, as usual, demonstrates some new Python features:\n",
    "\n",
    "-   The `return` statement returns with a value from a function.\n",
    "    `!return` without an expression argument returns `None`. Falling off\n",
    "    the end of a function also returns `None`.\n",
    "-   The statement `result.append(a)` calls a *method* of the list object\n",
    "    `result`. A method is a function that 'belongs' to an object and is\n",
    "    named `obj.methodname`, where `obj` is some object (this may be an\n",
    "    expression), and `methodname` is the name of a method that is\n",
    "    defined by the object's type. Different types define different\n",
    "    methods. Methods of different types may have the same name without\n",
    "    causing ambiguity. (It is possible to define your own object types\n",
    "    and methods, using *classes*, see [tut-classes](tut-classes.ipynb))\n",
    "    The method `!append` shown in the example is defined for list\n",
    "    objects; it adds a new element at the end of the list. In this\n",
    "    example it is equivalent to `result = result + [a]`, but more\n",
    "    efficient.\n",
    "\n",
    "## More on Defining Functions\n",
    "\n",
    "It is also possible to define functions with a variable number of\n",
    "arguments. There are three forms, which can be combined.\n",
    "\n",
    "### Default Argument Values\n",
    "\n",
    "The most useful form is to specify a default value for one or more\n",
    "arguments. This creates a function that can be called with fewer\n",
    "arguments than it is defined to allow. For example:"
   ]
  },
  {
   "cell_type": "code",
   "execution_count": null,
   "id": "6b4b3fed",
   "metadata": {},
   "outputs": [],
   "source": [
    "def ask_ok(prompt, retries=4, reminder='Please try again!'):\n",
    "    while True:\n",
    "        reply = input(prompt)\n",
    "        if reply in {'y', 'ye', 'yes'}:\n",
    "            return True\n",
    "        if reply in {'n', 'no', 'nop', 'nope'}:\n",
    "            return False\n",
    "        retries = retries - 1\n",
    "        if retries < 0:\n",
    "            raise ValueError('invalid user response')\n",
    "        print(reminder)"
   ]
  },
  {
   "cell_type": "markdown",
   "id": "6943f57e",
   "metadata": {},
   "source": [
    "This function can be called in several ways:\n",
    "\n",
    "-   giving only the mandatory argument:\n",
    "    `ask_ok('Do you really want to quit?')`\n",
    "-   giving one of the optional arguments:\n",
    "    `ask_ok('OK to overwrite the file?', 2)`\n",
    "-   or even giving all arguments:\n",
    "    `ask_ok('OK to overwrite the file?', 2, 'Come on, only yes or no!')`\n",
    "\n",
    "This example also introduces the `in` keyword. This tests whether or not\n",
    "a sequence contains a certain value.\n",
    "\n",
    "The default values are evaluated at the point of function definition in\n",
    "the *defining* scope, so that :"
   ]
  },
  {
   "cell_type": "code",
   "execution_count": null,
   "id": "6ebd539b",
   "metadata": {},
   "outputs": [],
   "source": [
    "i = 5\n",
    "\n",
    "def f(arg=i):\n",
    "    print(arg)\n",
    "\n",
    "i = 6\n",
    "f()"
   ]
  },
  {
   "cell_type": "markdown",
   "id": "1a1fa3af",
   "metadata": {},
   "source": [
    "will print `5`.\n",
    "\n",
    "**Important warning:** The default value is evaluated only once. This\n",
    "makes a difference when the default is a mutable object such as a list,\n",
    "dictionary, or instances of most classes. For example, the following\n",
    "function accumulates the arguments passed to it on subsequent calls:"
   ]
  },
  {
   "cell_type": "code",
   "execution_count": null,
   "id": "5e53774b",
   "metadata": {},
   "outputs": [],
   "source": [
    "def f(a, L=[]):\n",
    "    L.append(a)\n",
    "    return L\n",
    "\n",
    "print(f(1))\n",
    "print(f(2))\n",
    "print(f(3))"
   ]
  },
  {
   "cell_type": "markdown",
   "id": "5cc7cdd7",
   "metadata": {},
   "source": [
    "This will print :"
   ]
  },
  {
   "cell_type": "code",
   "execution_count": null,
   "id": "1a851830",
   "metadata": {},
   "outputs": [],
   "source": [
    "[1]\n",
    "[1, 2]\n",
    "[1, 2, 3]"
   ]
  },
  {
   "cell_type": "markdown",
   "id": "c7a5172e",
   "metadata": {},
   "source": [
    "If you don't want the default to be shared between subsequent calls, you\n",
    "can write the function like this instead:"
   ]
  },
  {
   "cell_type": "code",
   "execution_count": null,
   "id": "6ce2198d",
   "metadata": {},
   "outputs": [],
   "source": [
    "def f(a, L=None):\n",
    "    if L is None:\n",
    "        L = []\n",
    "    L.append(a)\n",
    "    return L"
   ]
  },
  {
   "cell_type": "markdown",
   "id": "378362f8",
   "metadata": {},
   "source": [
    "### Keyword Arguments\n",
    "\n",
    "Functions can also be called using\n",
    "`keyword arguments <keyword argument>` of the form `kwarg=value`. For\n",
    "instance, the following function:"
   ]
  },
  {
   "cell_type": "code",
   "execution_count": null,
   "id": "4aee7499",
   "metadata": {},
   "outputs": [],
   "source": [
    "def parrot(voltage, state='a stiff', action='voom', type='Norwegian Blue'):\n",
    "    print(\"-- This parrot wouldn't\", action, end=' ')\n",
    "    print(\"if you put\", voltage, \"volts through it.\")\n",
    "    print(\"-- Lovely plumage, the\", type)\n",
    "    print(\"-- It's\", state, \"!\")"
   ]
  },
  {
   "cell_type": "markdown",
   "id": "2a2f00b2",
   "metadata": {},
   "source": [
    "accepts one required argument (`voltage`) and three optional arguments\n",
    "(`state`, `action`, and `type`). This function can be called in any of\n",
    "the following ways:"
   ]
  },
  {
   "cell_type": "code",
   "execution_count": null,
   "id": "2cdb180d",
   "metadata": {},
   "outputs": [],
   "source": [
    "parrot(1000)                                          # 1 positional argument\n",
    "parrot(voltage=1000)                                  # 1 keyword argument\n",
    "parrot(voltage=1000000, action='VOOOOOM')             # 2 keyword arguments\n",
    "parrot(action='VOOOOOM', voltage=1000000)             # 2 keyword arguments\n",
    "parrot('a million', 'bereft of life', 'jump')         # 3 positional arguments\n",
    "parrot('a thousand', state='pushing up the daisies')  # 1 positional, 1 keyword"
   ]
  },
  {
   "cell_type": "markdown",
   "id": "5b0da9e1",
   "metadata": {},
   "source": [
    "but all the following calls would be invalid:"
   ]
  },
  {
   "cell_type": "code",
   "execution_count": null,
   "id": "26163909",
   "metadata": {},
   "outputs": [],
   "source": [
    "parrot()                     # required argument missing\n",
    "parrot(voltage=5.0, 'dead')  # non-keyword argument after a keyword argument\n",
    "parrot(110, voltage=220)     # duplicate value for the same argument\n",
    "parrot(actor='John Cleese')  # unknown keyword argument"
   ]
  },
  {
   "cell_type": "markdown",
   "id": "69107ec9",
   "metadata": {},
   "source": [
    "In a function call, keyword arguments must follow positional arguments.\n",
    "All the keyword arguments passed must match one of the arguments\n",
    "accepted by the function (e.g. `actor` is not a valid argument for the\n",
    "`parrot` function), and their order is not important. This also includes\n",
    "non-optional arguments (e.g. `parrot(voltage=1000)` is valid too). No\n",
    "argument may receive a value more than once. Here's an example that\n",
    "fails due to this restriction:"
   ]
  },
  {
   "cell_type": "code",
   "execution_count": null,
   "id": "32577174",
   "metadata": {},
   "outputs": [
    {
     "data": {
      "text/plain": [
       "Traceback (most recent call last):\n",
       "  File \"<stdin>\", line 1, in <module>\n",
       "TypeError: function() got multiple values for argument 'a'"
      ]
     },
     "execution_count": 1,
     "metadata": {},
     "output_type": "execute_result"
    }
   ],
   "source": [
    "def function(a):\n",
    "    pass\n",
    "\n",
    "function(0, a=0)"
   ]
  },
  {
   "cell_type": "markdown",
   "id": "49f1102c",
   "metadata": {},
   "source": [
    "When a final formal parameter of the form `**name` is present, it\n",
    "receives a dictionary (see [typesmapping](typesmapping.ipynb))\n",
    "containing all keyword arguments except for those corresponding to a\n",
    "formal parameter. This may be combined with a formal parameter of the\n",
    "form `*name` (described in the next subsection) which receives a\n",
    "[tuple](tut-tuples.ipynb) containing the positional arguments beyond the\n",
    "formal parameter list. (`*name` must occur before `**name`.) For\n",
    "example, if we define a function like this:"
   ]
  },
  {
   "cell_type": "code",
   "execution_count": null,
   "id": "e71c59c6",
   "metadata": {},
   "outputs": [],
   "source": [
    "def cheeseshop(kind, *arguments, **keywords):\n",
    "    print(\"-- Do you have any\", kind, \"?\")\n",
    "    print(\"-- I'm sorry, we're all out of\", kind)\n",
    "    for arg in arguments:\n",
    "        print(arg)\n",
    "    print(\"-\" * 40)\n",
    "    for kw in keywords:\n",
    "        print(kw, \":\", keywords[kw])"
   ]
  },
  {
   "cell_type": "markdown",
   "id": "ef51c340",
   "metadata": {},
   "source": [
    "It could be called like this:"
   ]
  },
  {
   "cell_type": "code",
   "execution_count": null,
   "id": "e2de8db8",
   "metadata": {},
   "outputs": [],
   "source": [
    "cheeseshop(\"Limburger\", \"It's very runny, sir.\",\n",
    "           \"It's really very, VERY runny, sir.\",\n",
    "           shopkeeper=\"Michael Palin\",\n",
    "           client=\"John Cleese\",\n",
    "           sketch=\"Cheese Shop Sketch\")"
   ]
  },
  {
   "cell_type": "markdown",
   "id": "aa101b89",
   "metadata": {},
   "source": [
    "and of course it would print:"
   ]
  },
  {
   "cell_type": "code",
   "execution_count": null,
   "id": "eb269ae5",
   "metadata": {},
   "outputs": [],
   "source": [
    "-- Do you have any Limburger ?\n",
    "-- I'm sorry, we're all out of Limburger\n",
    "It's very runny, sir.\n",
    "It's really very, VERY runny, sir.\n",
    "----------------------------------------\n",
    "shopkeeper : Michael Palin\n",
    "client : John Cleese\n",
    "sketch : Cheese Shop Sketch"
   ]
  },
  {
   "cell_type": "markdown",
   "id": "babff04d",
   "metadata": {},
   "source": [
    "Note that the order in which the keyword arguments are printed is\n",
    "guaranteed to match the order in which they were provided in the\n",
    "function call.\n",
    "\n",
    "### Special parameters\n",
    "\n",
    "By default, arguments may be passed to a Python function either by\n",
    "position or explicitly by keyword. For readability and performance, it\n",
    "makes sense to restrict the way arguments can be passed so that a\n",
    "developer need only look at the function definition to determine if\n",
    "items are passed by position, by position or keyword, or by keyword.\n",
    "\n",
    "A function definition may look like:"
   ]
  },
  {
   "cell_type": "code",
   "execution_count": null,
   "id": "b86867b0",
   "metadata": {},
   "outputs": [],
   "source": [
    "def f(pos1, pos2, /, pos_or_kwd, *, kwd1, kwd2):\n",
    "      -----------    ----------     ----------\n",
    "        |             |                  |\n",
    "        |        Positional or keyword   |\n",
    "        |                                - Keyword only\n",
    "         -- Positional only"
   ]
  },
  {
   "cell_type": "markdown",
   "id": "ec23e5f6",
   "metadata": {},
   "source": [
    "where `/` and `*` are optional. If used, these symbols indicate the kind\n",
    "of parameter by how the arguments may be passed to the function:\n",
    "positional-only, positional-or-keyword, and keyword-only. Keyword\n",
    "parameters are also referred to as named parameters.\n",
    "\n",
    "#### Positional-or-Keyword Arguments\n",
    "\n",
    "If `/` and `*` are not present in the function definition, arguments may\n",
    "be passed to a function by position or by keyword.\n",
    "\n",
    "#### Positional-Only Parameters\n",
    "\n",
    "Looking at this in a bit more detail, it is possible to mark certain\n",
    "parameters as *positional-only*. If *positional-only*, the parameters'\n",
    "order matters, and the parameters cannot be passed by keyword.\n",
    "Positional-only parameters are placed before a `/` (forward-slash). The\n",
    "`/` is used to logically separate the positional-only parameters from\n",
    "the rest of the parameters. If there is no `/` in the function\n",
    "definition, there are no positional-only parameters.\n",
    "\n",
    "Parameters following the `/` may be *positional-or-keyword* or\n",
    "*keyword-only*.\n",
    "\n",
    "#### Keyword-Only Arguments\n",
    "\n",
    "To mark parameters as *keyword-only*, indicating the parameters must be\n",
    "passed by keyword argument, place an `*` in the arguments list just\n",
    "before the first *keyword-only* parameter.\n",
    "\n",
    "#### Function Examples\n",
    "\n",
    "Consider the following example function definitions paying close\n",
    "attention to the markers `/` and `*` :"
   ]
  },
  {
   "cell_type": "code",
   "execution_count": null,
   "id": "255ee63d",
   "metadata": {},
   "outputs": [],
   "source": [
    "def standard_arg(arg):\n",
    "    print(arg)\n",
    "\n",
    "def pos_only_arg(arg, /):\n",
    "    print(arg)\n",
    "\n",
    "def kwd_only_arg(*, arg):\n",
    "    print(arg)\n",
    "\n",
    "def combined_example(pos_only, /, standard, *, kwd_only):\n",
    "    print(pos_only, standard, kwd_only)"
   ]
  },
  {
   "cell_type": "markdown",
   "id": "6647389e",
   "metadata": {},
   "source": [
    "The first function definition, `standard_arg`, the most familiar form,\n",
    "places no restrictions on the calling convention and arguments may be\n",
    "passed by position or keyword:"
   ]
  },
  {
   "cell_type": "code",
   "execution_count": null,
   "id": "3d786a01",
   "metadata": {},
   "outputs": [
    {
     "data": {
      "text/plain": [
       "2\n"
      ]
     },
     "execution_count": 1,
     "metadata": {},
     "output_type": "execute_result"
    }
   ],
   "source": [
    "standard_arg(2)"
   ]
  },
  {
   "cell_type": "code",
   "execution_count": null,
   "id": "7d2a3428",
   "metadata": {},
   "outputs": [
    {
     "data": {
      "text/plain": [
       "2"
      ]
     },
     "execution_count": 1,
     "metadata": {},
     "output_type": "execute_result"
    }
   ],
   "source": [
    "standard_arg(arg=2)"
   ]
  },
  {
   "cell_type": "markdown",
   "id": "d88c739a",
   "metadata": {},
   "source": [
    "The second function `pos_only_arg` is restricted to only use positional\n",
    "parameters as there is a `/` in the function definition:"
   ]
  },
  {
   "cell_type": "code",
   "execution_count": null,
   "id": "b2895b9e",
   "metadata": {},
   "outputs": [
    {
     "data": {
      "text/plain": [
       "1\n"
      ]
     },
     "execution_count": 1,
     "metadata": {},
     "output_type": "execute_result"
    }
   ],
   "source": [
    "pos_only_arg(1)"
   ]
  },
  {
   "cell_type": "code",
   "execution_count": null,
   "id": "e869412d",
   "metadata": {},
   "outputs": [
    {
     "data": {
      "text/plain": [
       "Traceback (most recent call last):\n",
       "  File \"<stdin>\", line 1, in <module>\n",
       "TypeError: pos_only_arg() got some positional-only arguments passed as keyword arguments: 'arg'"
      ]
     },
     "execution_count": 1,
     "metadata": {},
     "output_type": "execute_result"
    }
   ],
   "source": [
    "pos_only_arg(arg=1)"
   ]
  },
  {
   "cell_type": "markdown",
   "id": "127f3ab9",
   "metadata": {},
   "source": [
    "The third function `kwd_only_args` only allows keyword arguments as\n",
    "indicated by a `*` in the function definition:"
   ]
  },
  {
   "cell_type": "code",
   "execution_count": null,
   "id": "aa1cf60a",
   "metadata": {},
   "outputs": [
    {
     "data": {
      "text/plain": [
       "Traceback (most recent call last):\n",
       "  File \"<stdin>\", line 1, in <module>\n",
       "TypeError: kwd_only_arg() takes 0 positional arguments but 1 was given\n"
      ]
     },
     "execution_count": 1,
     "metadata": {},
     "output_type": "execute_result"
    }
   ],
   "source": [
    "kwd_only_arg(3)"
   ]
  },
  {
   "cell_type": "code",
   "execution_count": null,
   "id": "f006a274",
   "metadata": {},
   "outputs": [
    {
     "data": {
      "text/plain": [
       "3"
      ]
     },
     "execution_count": 1,
     "metadata": {},
     "output_type": "execute_result"
    }
   ],
   "source": [
    "kwd_only_arg(arg=3)"
   ]
  },
  {
   "cell_type": "markdown",
   "id": "90c1d98f",
   "metadata": {},
   "source": [
    "And the last uses all three calling conventions in the same function\n",
    "definition:"
   ]
  },
  {
   "cell_type": "code",
   "execution_count": null,
   "id": "b6550d45",
   "metadata": {},
   "outputs": [
    {
     "data": {
      "text/plain": [
       "Traceback (most recent call last):\n",
       "  File \"<stdin>\", line 1, in <module>\n",
       "TypeError: combined_example() takes 2 positional arguments but 3 were given\n"
      ]
     },
     "execution_count": 1,
     "metadata": {},
     "output_type": "execute_result"
    }
   ],
   "source": [
    "combined_example(1, 2, 3)"
   ]
  },
  {
   "cell_type": "code",
   "execution_count": null,
   "id": "ca8c78bc",
   "metadata": {},
   "outputs": [
    {
     "data": {
      "text/plain": [
       "1 2 3\n"
      ]
     },
     "execution_count": 1,
     "metadata": {},
     "output_type": "execute_result"
    }
   ],
   "source": [
    "combined_example(1, 2, kwd_only=3)"
   ]
  },
  {
   "cell_type": "code",
   "execution_count": null,
   "id": "e0fac66f",
   "metadata": {},
   "outputs": [
    {
     "data": {
      "text/plain": [
       "1 2 3\n"
      ]
     },
     "execution_count": 1,
     "metadata": {},
     "output_type": "execute_result"
    }
   ],
   "source": [
    "combined_example(1, standard=2, kwd_only=3)"
   ]
  },
  {
   "cell_type": "code",
   "execution_count": null,
   "id": "b1432ad8",
   "metadata": {},
   "outputs": [
    {
     "data": {
      "text/plain": [
       "Traceback (most recent call last):\n",
       "  File \"<stdin>\", line 1, in <module>\n",
       "TypeError: combined_example() got some positional-only arguments passed as keyword arguments: 'pos_only'"
      ]
     },
     "execution_count": 1,
     "metadata": {},
     "output_type": "execute_result"
    }
   ],
   "source": [
    "combined_example(pos_only=1, standard=2, kwd_only=3)"
   ]
  },
  {
   "cell_type": "markdown",
   "id": "ebecbb06",
   "metadata": {},
   "source": [
    "Finally, consider this function definition which has a potential\n",
    "collision between the positional argument `name` and `**kwds` which has\n",
    "`name` as a key:"
   ]
  },
  {
   "cell_type": "code",
   "execution_count": null,
   "id": "b449c261",
   "metadata": {},
   "outputs": [],
   "source": [
    "def foo(name, **kwds):\n",
    "    return 'name' in kwds"
   ]
  },
  {
   "cell_type": "markdown",
   "id": "f558841a",
   "metadata": {},
   "source": [
    "There is no possible call that will make it return `True` as the keyword\n",
    "`'name'` will always bind to the first parameter. For example:"
   ]
  },
  {
   "cell_type": "code",
   "execution_count": null,
   "id": "2082f0df",
   "metadata": {},
   "outputs": [
    {
     "data": {
      "text/plain": [
       "Traceback (most recent call last):\n",
       "  File \"<stdin>\", line 1, in <module>\n",
       "TypeError: foo() got multiple values for argument 'name'\n",
       ">>>"
      ]
     },
     "execution_count": 1,
     "metadata": {},
     "output_type": "execute_result"
    }
   ],
   "source": [
    "foo(1, **{'name': 2})"
   ]
  },
  {
   "cell_type": "markdown",
   "id": "d06bf6a8",
   "metadata": {},
   "source": [
    "But using `/` (positional only arguments), it is possible since it\n",
    "allows `name` as a positional argument and `'name'` as a key in the\n",
    "keyword arguments:"
   ]
  },
  {
   "cell_type": "code",
   "execution_count": null,
   "id": "6ef0bbe5",
   "metadata": {},
   "outputs": [
    {
     "data": {
      "text/plain": [
       "True"
      ]
     },
     "execution_count": 1,
     "metadata": {},
     "output_type": "execute_result"
    }
   ],
   "source": [
    "def foo(name, /, **kwds):\n",
    "    return 'name' in kwds\n",
    "\n",
    "foo(1, **{'name': 2})"
   ]
  },
  {
   "cell_type": "markdown",
   "id": "06cc7e6d",
   "metadata": {},
   "source": [
    "In other words, the names of positional-only parameters can be used in\n",
    "`**kwds` without ambiguity.\n",
    "\n",
    "#### Recap\n",
    "\n",
    "The use case will determine which parameters to use in the function\n",
    "definition:"
   ]
  },
  {
   "cell_type": "code",
   "execution_count": null,
   "id": "4a001e54",
   "metadata": {},
   "outputs": [],
   "source": [
    "def f(pos1, pos2, /, pos_or_kwd, *, kwd1, kwd2):"
   ]
  },
  {
   "cell_type": "markdown",
   "id": "5b5c0ad2",
   "metadata": {},
   "source": [
    "As guidance:\n",
    "\n",
    "-   Use positional-only if you want the name of the parameters to not be\n",
    "    available to the user. This is useful when parameter names have no\n",
    "    real meaning, if you want to enforce the order of the arguments when\n",
    "    the function is called or if you need to take some positional\n",
    "    parameters and arbitrary keywords.\n",
    "-   Use keyword-only when names have meaning and the function definition\n",
    "    is more understandable by being explicit with names or you want to\n",
    "    prevent users relying on the position of the argument being passed.\n",
    "-   For an API, use positional-only to prevent breaking API changes if\n",
    "    the parameter's name is modified in the future.\n",
    "\n",
    "### Arbitrary Argument Lists\n",
    "\n",
    "single: \\* (asterisk); in function calls\n",
    "\n",
    "Finally, the least frequently used option is to specify that a function\n",
    "can be called with an arbitrary number of arguments. These arguments\n",
    "will be wrapped up in a tuple (see [tut-tuples](tut-tuples.ipynb)).\n",
    "Before the variable number of arguments, zero or more normal arguments\n",
    "may occur. :"
   ]
  },
  {
   "cell_type": "code",
   "execution_count": null,
   "id": "a16c6970",
   "metadata": {},
   "outputs": [],
   "source": [
    "def write_multiple_items(file, separator, *args):\n",
    "    file.write(separator.join(args))"
   ]
  },
  {
   "cell_type": "markdown",
   "id": "632fcb24",
   "metadata": {},
   "source": [
    "Normally, these *variadic* arguments will be last in the list of formal\n",
    "parameters, because they scoop up all remaining input arguments that are\n",
    "passed to the function. Any formal parameters which occur after the\n",
    "`*args` parameter are 'keyword-only' arguments, meaning that they can\n",
    "only be used as keywords rather than positional arguments. :"
   ]
  },
  {
   "cell_type": "code",
   "execution_count": null,
   "id": "ac90ed6d",
   "metadata": {},
   "outputs": [
    {
     "data": {
      "text/plain": [
       "'earth/mars/venus'"
      ]
     },
     "execution_count": 1,
     "metadata": {},
     "output_type": "execute_result"
    }
   ],
   "source": [
    "def concat(*args, sep=\"/\"):\n",
    "    return sep.join(args)\n",
    "\n",
    "concat(\"earth\", \"mars\", \"venus\")"
   ]
  },
  {
   "cell_type": "code",
   "execution_count": null,
   "id": "2a1d794d",
   "metadata": {},
   "outputs": [
    {
     "data": {
      "text/plain": [
       "'earth.mars.venus'"
      ]
     },
     "execution_count": 1,
     "metadata": {},
     "output_type": "execute_result"
    }
   ],
   "source": [
    "concat(\"earth\", \"mars\", \"venus\", sep=\".\")"
   ]
  },
  {
   "cell_type": "markdown",
   "id": "2b1d0505",
   "metadata": {},
   "source": [
    "### Unpacking Argument Lists\n",
    "\n",
    "The reverse situation occurs when the arguments are already in a list or\n",
    "tuple but need to be unpacked for a function call requiring separate\n",
    "positional arguments. For instance, the built-in `range` function\n",
    "expects separate *start* and *stop* arguments. If they are not available\n",
    "separately, write the function call with the `*`-operator to unpack the\n",
    "arguments out of a list or tuple:"
   ]
  },
  {
   "cell_type": "code",
   "execution_count": null,
   "id": "f6b951a6",
   "metadata": {},
   "outputs": [
    {
     "data": {
      "text/plain": [
       "[3, 4, 5]"
      ]
     },
     "execution_count": 1,
     "metadata": {},
     "output_type": "execute_result"
    }
   ],
   "source": [
    "list(range(3, 6))            # normal call with separate arguments"
   ]
  },
  {
   "cell_type": "code",
   "execution_count": null,
   "id": "0737c455",
   "metadata": {},
   "outputs": [
    {
     "data": {
      "text/plain": [
       "[3, 4, 5]"
      ]
     },
     "execution_count": 1,
     "metadata": {},
     "output_type": "execute_result"
    }
   ],
   "source": [
    "args = [3, 6]\n",
    "list(range(*args))            # call with arguments unpacked from a list"
   ]
  },
  {
   "cell_type": "markdown",
   "id": "634b59f8",
   "metadata": {},
   "source": [
    "single: \\*\\*; in function calls\n",
    "\n",
    "In the same fashion, dictionaries can deliver keyword arguments with the\n",
    "`**`-operator:"
   ]
  },
  {
   "cell_type": "code",
   "execution_count": null,
   "id": "b8a27a2b",
   "metadata": {},
   "outputs": [
    {
     "data": {
      "text/plain": [
       "-- This parrot wouldn't VOOM if you put four million volts through it. E's bleedin' demised !"
      ]
     },
     "execution_count": 1,
     "metadata": {},
     "output_type": "execute_result"
    }
   ],
   "source": [
    "def parrot(voltage, state='a stiff', action='voom'):\n",
    "    print(\"-- This parrot wouldn't\", action, end=' ')\n",
    "    print(\"if you put\", voltage, \"volts through it.\", end=' ')\n",
    "    print(\"E's\", state, \"!\")\n",
    "\n",
    "d = {\"voltage\": \"four million\", \"state\": \"bleedin' demised\", \"action\": \"VOOM\"}\n",
    "parrot(**d)"
   ]
  },
  {
   "cell_type": "markdown",
   "id": "c1e7e5b7",
   "metadata": {},
   "source": [
    "### Lambda Expressions\n",
    "\n",
    "Small anonymous functions can be created with the `lambda` keyword. This\n",
    "function returns the sum of its two arguments: `lambda a, b: a+b`.\n",
    "Lambda functions can be used wherever function objects are required.\n",
    "They are syntactically restricted to a single expression. Semantically,\n",
    "they are just syntactic sugar for a normal function definition. Like\n",
    "nested function definitions, lambda functions can reference variables\n",
    "from the containing scope:"
   ]
  },
  {
   "cell_type": "code",
   "execution_count": null,
   "id": "02a4e9fa",
   "metadata": {},
   "outputs": [
    {
     "data": {
      "text/plain": [
       "42"
      ]
     },
     "execution_count": 1,
     "metadata": {},
     "output_type": "execute_result"
    }
   ],
   "source": [
    "def make_incrementor(n):\n",
    "    return lambda x: x + n\n",
    "\n",
    "f = make_incrementor(42)\n",
    "f(0)"
   ]
  },
  {
   "cell_type": "code",
   "execution_count": null,
   "id": "60edf8f8",
   "metadata": {},
   "outputs": [
    {
     "data": {
      "text/plain": [
       "43"
      ]
     },
     "execution_count": 1,
     "metadata": {},
     "output_type": "execute_result"
    }
   ],
   "source": [
    "f(1)"
   ]
  },
  {
   "cell_type": "markdown",
   "id": "b0df3074",
   "metadata": {},
   "source": [
    "The above example uses a lambda expression to return a function. Another\n",
    "use is to pass a small function as an argument:"
   ]
  },
  {
   "cell_type": "code",
   "execution_count": null,
   "id": "5d3925c7",
   "metadata": {},
   "outputs": [
    {
     "data": {
      "text/plain": [
       "[(4, 'four'), (1, 'one'), (3, 'three'), (2, 'two')]"
      ]
     },
     "execution_count": 1,
     "metadata": {},
     "output_type": "execute_result"
    }
   ],
   "source": [
    "pairs = [(1, 'one'), (2, 'two'), (3, 'three'), (4, 'four')]\n",
    "pairs.sort(key=lambda pair: pair[1])\n",
    "pairs"
   ]
  },
  {
   "cell_type": "markdown",
   "id": "57c757b2",
   "metadata": {},
   "source": [
    "### Documentation Strings\n",
    "\n",
    "single: docstrings single: documentation strings single: strings,\n",
    "documentation\n",
    "\n",
    "Here are some conventions about the content and formatting of\n",
    "documentation strings.\n",
    "\n",
    "The first line should always be a short, concise summary of the object's\n",
    "purpose. For brevity, it should not explicitly state the object's name\n",
    "or type, since these are available by other means (except if the name\n",
    "happens to be a verb describing a function's operation). This line\n",
    "should begin with a capital letter and end with a period.\n",
    "\n",
    "If there are more lines in the documentation string, the second line\n",
    "should be blank, visually separating the summary from the rest of the\n",
    "description. The following lines should be one or more paragraphs\n",
    "describing the object's calling conventions, its side effects, etc.\n",
    "\n",
    "The Python parser does not strip indentation from multi-line string\n",
    "literals in Python, so tools that process documentation have to strip\n",
    "indentation if desired. This is done using the following convention. The\n",
    "first non-blank line *after* the first line of the string determines the\n",
    "amount of indentation for the entire documentation string. (We can't use\n",
    "the first line since it is generally adjacent to the string's opening\n",
    "quotes so its indentation is not apparent in the string literal.)\n",
    "Whitespace \"equivalent\" to this indentation is then stripped from the\n",
    "start of all lines of the string. Lines that are indented less should\n",
    "not occur, but if they occur all their leading whitespace should be\n",
    "stripped. Equivalence of whitespace should be tested after expansion of\n",
    "tabs (to 8 spaces, normally).\n",
    "\n",
    "Here is an example of a multi-line docstring:"
   ]
  },
  {
   "cell_type": "code",
   "execution_count": null,
   "id": "c5a736ad",
   "metadata": {},
   "outputs": [
    {
     "data": {
      "text/plain": [
       "Do nothing, but document it.\n",
       "\n",
       "    No, really, it doesn't do anything."
      ]
     },
     "execution_count": 1,
     "metadata": {},
     "output_type": "execute_result"
    }
   ],
   "source": [
    "def my_function():\n",
    "    \"\"\"Do nothing, but document it.\n",
    "\n",
    "    No, really, it doesn't do anything.\n",
    "    \"\"\"\n",
    "    pass\n",
    "\n",
    "print(my_function.__doc__)"
   ]
  },
  {
   "cell_type": "markdown",
   "id": "fe5b5498",
   "metadata": {},
   "source": [
    "### Function Annotations\n",
    "\n",
    "Zachary Ware \\<<zachary.ware@gmail.com>\\>\n",
    "\n",
    "pair: function; annotations single: -\\>; function annotations single: :\n",
    "(colon); function annotations\n",
    "\n",
    "[Function annotations](function.ipynb) are completely optional metadata\n",
    "information about the types used by user-defined functions (see `3107`\n",
    "and `484` for more information).\n",
    "\n",
    "`Annotations <function annotation>` are stored in the `!__annotations__`\n",
    "attribute of the function as a dictionary and have no effect on any\n",
    "other part of the function. Parameter annotations are defined by a colon\n",
    "after the parameter name, followed by an expression evaluating to the\n",
    "value of the annotation. Return annotations are defined by a literal\n",
    "`->`, followed by an expression, between the parameter list and the\n",
    "colon denoting the end of the `def` statement. The following example has\n",
    "a required argument, an optional argument, and the return value\n",
    "annotated:"
   ]
  },
  {
   "cell_type": "code",
   "execution_count": null,
   "id": "4d62f1b6",
   "metadata": {},
   "outputs": [
    {
     "data": {
      "text/plain": [
       "Annotations: {'ham': <class 'str'>, 'return': <class 'str'>, 'eggs': <class 'str'>}\n",
       "Arguments: spam eggs\n",
       "'spam and eggs'"
      ]
     },
     "execution_count": 1,
     "metadata": {},
     "output_type": "execute_result"
    }
   ],
   "source": [
    "def f(ham: str, eggs: str = 'eggs') -> str:\n",
    "    print(\"Annotations:\", f.__annotations__)\n",
    "    print(\"Arguments:\", ham, eggs)\n",
    "    return ham + ' and ' + eggs\n",
    "\n",
    "f('spam')"
   ]
  },
  {
   "cell_type": "markdown",
   "id": "4e241c82",
   "metadata": {},
   "source": [
    "## Intermezzo: Coding Style\n",
    "\n",
    "Georg Brandl \\<<georg@python.org>\\>\n",
    "\n",
    "pair: coding; style\n",
    "\n",
    "Now that you are about to write longer, more complex pieces of Python,\n",
    "it is a good time to talk about *coding style*. Most languages can be\n",
    "written (or more concise, *formatted*) in different styles; some are\n",
    "more readable than others. Making it easy for others to read your code\n",
    "is always a good idea, and adopting a nice coding style helps\n",
    "tremendously for that.\n",
    "\n",
    "For Python, `8` has emerged as the style guide that most projects adhere\n",
    "to; it promotes a very readable and eye-pleasing coding style. Every\n",
    "Python developer should read it at some point; here are the most\n",
    "important points extracted for you:\n",
    "\n",
    "-   Use 4-space indentation, and no tabs."
   ]
  },
  {
   "cell_type": "markdown",
   "id": "de727e30",
   "metadata": {},
   "source": [
    "\n",
    "    4 spaces are a good compromise between small indentation (allows\n",
    "    greater nesting depth) and large indentation (easier to read). Tabs\n",
    "    introduce confusion, and are best left out.\n"
   ]
  },
  {
   "cell_type": "markdown",
   "id": "99f12712",
   "metadata": {},
   "source": [
    "-   Wrap lines so that they don't exceed 79 characters."
   ]
  },
  {
   "cell_type": "markdown",
   "id": "2c66e554",
   "metadata": {},
   "source": [
    "\n",
    "    This helps users with small displays and makes it possible to have\n",
    "    several code files side-by-side on larger displays.\n"
   ]
  },
  {
   "cell_type": "markdown",
   "id": "199fb31f",
   "metadata": {},
   "source": [
    "-   Use blank lines to separate functions and classes, and larger blocks\n",
    "    of code inside functions.\n",
    "\n",
    "-   When possible, put comments on a line of their own.\n",
    "\n",
    "-   Use docstrings.\n",
    "\n",
    "-   Use spaces around operators and after commas, but not directly\n",
    "    inside bracketing constructs: `a = f(1, 2) + g(3, 4)`.\n",
    "\n",
    "-   Name your classes and functions consistently; the convention is to\n",
    "    use `UpperCamelCase` for classes and `lowercase_with_underscores`\n",
    "    for functions and methods. Always use `self` as the name for the\n",
    "    first method argument (see\n",
    "    [tut-firstclasses](tut-firstclasses.ipynb) for more on classes and\n",
    "    methods).\n",
    "\n",
    "-   Don't use fancy encodings if your code is meant to be used in\n",
    "    international environments. Python's default, UTF-8, or even plain\n",
    "    ASCII work best in any case.\n",
    "\n",
    "-   Likewise, don't use non-ASCII characters in identifiers if there is\n",
    "    only the slightest chance people speaking a different language will\n",
    "    read or maintain the code.\n",
    "\n",
    "**Footnotes**\n",
    "\n",
    "[1] Actually, *call by object reference* would be a better description,\n",
    "since if a mutable object is passed, the caller will see any changes the\n",
    "callee makes to it (items inserted into a list)."
   ]
  }
 ],
 "metadata": {
  "kernelspec": {
   "display_name": "Python 3 (ipykernel)",
   "language": "python",
   "name": "python3"
  },
  "language_info": {
   "codemirror_mode": {
    "name": "ipython",
    "version": 3
   },
   "file_extension": ".py",
   "mimetype": "text/x-python",
   "name": "python",
   "nbconvert_exporter": "python",
   "pygments_lexer": "ipython3",
   "version": "3.12.5"
  }
 },
 "nbformat": 4,
 "nbformat_minor": 5
}
