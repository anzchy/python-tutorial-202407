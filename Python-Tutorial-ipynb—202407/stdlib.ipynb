{
 "cells": [
  {
   "cell_type": "markdown",
   "id": "71fff096",
   "metadata": {},
   "source": [
    "$$\n",
    "\\def\\CC{\\bf C}\n",
    "\\def\\QQ{\\bf Q}\n",
    "\\def\\RR{\\bf R}\n",
    "\\def\\ZZ{\\bf Z}\n",
    "\\def\\NN{\\bf N}\n",
    "$$\n",
    "# Brief Tour of the Standard Library\n",
    "\n",
    "## Operating System Interface\n",
    "\n",
    "The `os` module provides dozens of functions for interacting with the\n",
    "operating system:"
   ]
  },
  {
   "cell_type": "code",
   "execution_count": null,
   "id": "8c93be64",
   "metadata": {},
   "outputs": [
    {
     "data": {
      "text/plain": [
       "'C:\\\\Python314'"
      ]
     },
     "execution_count": 1,
     "metadata": {},
     "output_type": "execute_result"
    }
   ],
   "source": [
    "import os\n",
    "os.getcwd()      # Return the current working directory"
   ]
  },
  {
   "cell_type": "code",
   "execution_count": null,
   "id": "e3d95282",
   "metadata": {},
   "outputs": [
    {
     "data": {
      "text/plain": [
       "0"
      ]
     },
     "execution_count": 1,
     "metadata": {},
     "output_type": "execute_result"
    }
   ],
   "source": [
    "os.chdir('/server/accesslogs')   # Change current working directory\n",
    "os.system('mkdir today')   # Run the command mkdir in the system shell"
   ]
  },
  {
   "cell_type": "markdown",
   "id": "93bd17e4",
   "metadata": {},
   "source": [
    "Be sure to use the `import os` style instead of `from os import *`. This\n",
    "will keep `os.open` from shadowing the built-in `open` function which\n",
    "operates much differently.\n",
    "\n",
    "pair: built-in function; help\n",
    "\n",
    "The built-in `dir` and `help` functions are useful as interactive aids\n",
    "for working with large modules like `os` :"
   ]
  },
  {
   "cell_type": "code",
   "execution_count": null,
   "id": "d3022a32",
   "metadata": {},
   "outputs": [
    {
     "data": {
      "text/plain": [
       "<returns a list of all module functions>"
      ]
     },
     "execution_count": 1,
     "metadata": {},
     "output_type": "execute_result"
    }
   ],
   "source": [
    "import os\n",
    "dir(os)"
   ]
  },
  {
   "cell_type": "code",
   "execution_count": null,
   "id": "53041e75",
   "metadata": {},
   "outputs": [
    {
     "data": {
      "text/plain": [
       "<returns an extensive manual page created from the module's docstrings>"
      ]
     },
     "execution_count": 1,
     "metadata": {},
     "output_type": "execute_result"
    }
   ],
   "source": [
    "help(os)"
   ]
  },
  {
   "cell_type": "markdown",
   "id": "339bb689",
   "metadata": {},
   "source": [
    "For daily file and directory management tasks, the `shutil` module\n",
    "provides a higher level interface that is easier to use:"
   ]
  },
  {
   "cell_type": "code",
   "execution_count": null,
   "id": "93e743bc",
   "metadata": {},
   "outputs": [
    {
     "data": {
      "text/plain": [
       "'archive.db'"
      ]
     },
     "execution_count": 1,
     "metadata": {},
     "output_type": "execute_result"
    }
   ],
   "source": [
    "import shutil\n",
    "shutil.copyfile('data.db', 'archive.db')"
   ]
  },
  {
   "cell_type": "code",
   "execution_count": null,
   "id": "41902acd",
   "metadata": {},
   "outputs": [
    {
     "data": {
      "text/plain": [
       "'installdir'"
      ]
     },
     "execution_count": 1,
     "metadata": {},
     "output_type": "execute_result"
    }
   ],
   "source": [
    "shutil.move('/build/executables', 'installdir')"
   ]
  },
  {
   "cell_type": "markdown",
   "id": "acd9bbd1",
   "metadata": {},
   "source": [
    "## File Wildcards\n",
    "\n",
    "The `glob` module provides a function for making file lists from\n",
    "directory wildcard searches:"
   ]
  },
  {
   "cell_type": "code",
   "execution_count": null,
   "id": "41cb47ff",
   "metadata": {},
   "outputs": [
    {
     "data": {
      "text/plain": [
       "['primes.py', 'random.py', 'quote.py']"
      ]
     },
     "execution_count": 1,
     "metadata": {},
     "output_type": "execute_result"
    }
   ],
   "source": [
    "import glob\n",
    "glob.glob('*.py')"
   ]
  },
  {
   "cell_type": "markdown",
   "id": "8c4eb2a4",
   "metadata": {},
   "source": [
    "## Command Line Arguments\n",
    "\n",
    "Common utility scripts often need to process command line arguments.\n",
    "These arguments are stored in the `sys` module's *argv* attribute as a\n",
    "list. For instance, let's take the following `demo.py` file:"
   ]
  },
  {
   "cell_type": "code",
   "execution_count": null,
   "id": "cabddc2f",
   "metadata": {},
   "outputs": [],
   "source": [
    "# File demo.py\n",
    "import sys\n",
    "print(sys.argv)"
   ]
  },
  {
   "cell_type": "markdown",
   "id": "29955adf",
   "metadata": {},
   "source": [
    "Here is the output from running `python demo.py one two three` at the\n",
    "command line:"
   ]
  },
  {
   "cell_type": "code",
   "execution_count": null,
   "id": "12074485",
   "metadata": {},
   "outputs": [],
   "source": [
    "['demo.py', 'one', 'two', 'three']"
   ]
  },
  {
   "cell_type": "markdown",
   "id": "f520f66d",
   "metadata": {},
   "source": [
    "The `argparse` module provides a more sophisticated mechanism to process\n",
    "command line arguments. The following script extracts one or more\n",
    "filenames and an optional number of lines to be displayed:"
   ]
  },
  {
   "cell_type": "code",
   "execution_count": null,
   "id": "3d7d139c",
   "metadata": {},
   "outputs": [],
   "source": [
    "import argparse\n",
    "\n",
    "parser = argparse.ArgumentParser(\n",
    "    prog='top',\n",
    "    description='Show top lines from each file')\n",
    "parser.add_argument('filenames', nargs='+')\n",
    "parser.add_argument('-l', '--lines', type=int, default=10)\n",
    "args = parser.parse_args()\n",
    "print(args)"
   ]
  },
  {
   "cell_type": "markdown",
   "id": "3c0d35f5",
   "metadata": {},
   "source": [
    "When run at the command line with\n",
    "`python top.py --lines=5 alpha.txt beta.txt`, the script sets\n",
    "`args.lines` to `5` and `args.filenames` to `['alpha.txt', 'beta.txt']`.\n",
    "\n",
    "## Error Output Redirection and Program Termination\n",
    "\n",
    "The `sys` module also has attributes for *stdin*, *stdout*, and\n",
    "*stderr*. The latter is useful for emitting warnings and error messages\n",
    "to make them visible even when *stdout* has been redirected:"
   ]
  },
  {
   "cell_type": "code",
   "execution_count": null,
   "id": "c73ec1db",
   "metadata": {},
   "outputs": [
    {
     "data": {
      "text/plain": [
       "Warning, log file not found starting a new one"
      ]
     },
     "execution_count": 1,
     "metadata": {},
     "output_type": "execute_result"
    }
   ],
   "source": [
    "sys.stderr.write('Warning, log file not found starting a new one\\n')"
   ]
  },
  {
   "cell_type": "markdown",
   "id": "91b13fd2",
   "metadata": {},
   "source": [
    "The most direct way to terminate a script is to use `sys.exit()`.\n",
    "\n",
    "## String Pattern Matching\n",
    "\n",
    "The `re` module provides regular expression tools for advanced string\n",
    "processing. For complex matching and manipulation, regular expressions\n",
    "offer succinct, optimized solutions:"
   ]
  },
  {
   "cell_type": "code",
   "execution_count": null,
   "id": "8fe25d79",
   "metadata": {},
   "outputs": [
    {
     "data": {
      "text/plain": [
       "['foot', 'fell', 'fastest']"
      ]
     },
     "execution_count": 1,
     "metadata": {},
     "output_type": "execute_result"
    }
   ],
   "source": [
    "import re\n",
    "re.findall(r'\\bf[a-z]*', 'which foot or hand fell fastest')"
   ]
  },
  {
   "cell_type": "code",
   "execution_count": null,
   "id": "af541726",
   "metadata": {},
   "outputs": [
    {
     "data": {
      "text/plain": [
       "'cat in the hat'"
      ]
     },
     "execution_count": 1,
     "metadata": {},
     "output_type": "execute_result"
    }
   ],
   "source": [
    "re.sub(r'(\\b[a-z]+) \\1', r'\\1', 'cat in the the hat')"
   ]
  },
  {
   "cell_type": "markdown",
   "id": "b9cd6a70",
   "metadata": {},
   "source": [
    "When only simple capabilities are needed, string methods are preferred\n",
    "because they are easier to read and debug:"
   ]
  },
  {
   "cell_type": "code",
   "execution_count": null,
   "id": "636f7df8",
   "metadata": {},
   "outputs": [
    {
     "data": {
      "text/plain": [
       "'tea for two'"
      ]
     },
     "execution_count": 1,
     "metadata": {},
     "output_type": "execute_result"
    }
   ],
   "source": [
    "'tea for too'.replace('too', 'two')"
   ]
  },
  {
   "cell_type": "markdown",
   "id": "9cadeaa6",
   "metadata": {},
   "source": [
    "## Mathematics\n",
    "\n",
    "The `math` module gives access to the underlying C library functions for\n",
    "floating-point math:"
   ]
  },
  {
   "cell_type": "code",
   "execution_count": null,
   "id": "842b2df6",
   "metadata": {},
   "outputs": [
    {
     "data": {
      "text/plain": [
       "0.70710678118654757"
      ]
     },
     "execution_count": 1,
     "metadata": {},
     "output_type": "execute_result"
    }
   ],
   "source": [
    "import math\n",
    "math.cos(math.pi / 4)"
   ]
  },
  {
   "cell_type": "code",
   "execution_count": null,
   "id": "36b9be33",
   "metadata": {},
   "outputs": [
    {
     "data": {
      "text/plain": [
       "10.0"
      ]
     },
     "execution_count": 1,
     "metadata": {},
     "output_type": "execute_result"
    }
   ],
   "source": [
    "math.log(1024, 2)"
   ]
  },
  {
   "cell_type": "markdown",
   "id": "cf8b0c54",
   "metadata": {},
   "source": [
    "The `random` module provides tools for making random selections:"
   ]
  },
  {
   "cell_type": "code",
   "execution_count": null,
   "id": "5bc7c8a3",
   "metadata": {},
   "outputs": [
    {
     "data": {
      "text/plain": [
       "'apple'"
      ]
     },
     "execution_count": 1,
     "metadata": {},
     "output_type": "execute_result"
    }
   ],
   "source": [
    "import random\n",
    "random.choice(['apple', 'pear', 'banana'])"
   ]
  },
  {
   "cell_type": "code",
   "execution_count": null,
   "id": "966418e5",
   "metadata": {},
   "outputs": [
    {
     "data": {
      "text/plain": [
       "[30, 83, 16, 4, 8, 81, 41, 50, 18, 33]"
      ]
     },
     "execution_count": 1,
     "metadata": {},
     "output_type": "execute_result"
    }
   ],
   "source": [
    "random.sample(range(100), 10)   # sampling without replacement"
   ]
  },
  {
   "cell_type": "code",
   "execution_count": null,
   "id": "6d109453",
   "metadata": {},
   "outputs": [
    {
     "data": {
      "text/plain": [
       "0.17970987693706186"
      ]
     },
     "execution_count": 1,
     "metadata": {},
     "output_type": "execute_result"
    }
   ],
   "source": [
    "random.random()    # random float from the interval [0.0, 1.0)"
   ]
  },
  {
   "cell_type": "code",
   "execution_count": null,
   "id": "e28a7a9e",
   "metadata": {},
   "outputs": [
    {
     "data": {
      "text/plain": [
       "4"
      ]
     },
     "execution_count": 1,
     "metadata": {},
     "output_type": "execute_result"
    }
   ],
   "source": [
    "random.randrange(6)    # random integer chosen from range(6)"
   ]
  },
  {
   "cell_type": "markdown",
   "id": "d9436c5d",
   "metadata": {},
   "source": [
    "The `statistics` module calculates basic statistical properties (the\n",
    "mean, median, variance, etc.) of numeric data:"
   ]
  },
  {
   "cell_type": "code",
   "execution_count": null,
   "id": "2f50724a",
   "metadata": {},
   "outputs": [
    {
     "data": {
      "text/plain": [
       "1.6071428571428572"
      ]
     },
     "execution_count": 1,
     "metadata": {},
     "output_type": "execute_result"
    }
   ],
   "source": [
    "import statistics\n",
    "data = [2.75, 1.75, 1.25, 0.25, 0.5, 1.25, 3.5]\n",
    "statistics.mean(data)"
   ]
  },
  {
   "cell_type": "code",
   "execution_count": null,
   "id": "a0008d13",
   "metadata": {},
   "outputs": [
    {
     "data": {
      "text/plain": [
       "1.25"
      ]
     },
     "execution_count": 1,
     "metadata": {},
     "output_type": "execute_result"
    }
   ],
   "source": [
    "statistics.median(data)"
   ]
  },
  {
   "cell_type": "code",
   "execution_count": null,
   "id": "ce17b86b",
   "metadata": {},
   "outputs": [
    {
     "data": {
      "text/plain": [
       "1.3720238095238095"
      ]
     },
     "execution_count": 1,
     "metadata": {},
     "output_type": "execute_result"
    }
   ],
   "source": [
    "statistics.variance(data)"
   ]
  },
  {
   "cell_type": "markdown",
   "id": "276bd28d",
   "metadata": {},
   "source": [
    "The SciPy project \\<<https://scipy.org>\\> has many other modules for\n",
    "numerical computations.\n",
    "\n",
    "## Internet Access\n",
    "\n",
    "There are a number of modules for accessing the internet and processing\n",
    "internet protocols. Two of the simplest are `urllib.request` for\n",
    "retrieving data from URLs and `smtplib` for sending mail:"
   ]
  },
  {
   "cell_type": "code",
   "execution_count": null,
   "id": "0dcd4fbd",
   "metadata": {},
   "outputs": [
    {
     "data": {
      "text/plain": [
       "datetime: 2022-01-01T01:36:47.689215+00:00\n"
      ]
     },
     "execution_count": 1,
     "metadata": {},
     "output_type": "execute_result"
    }
   ],
   "source": [
    "from urllib.request import urlopen\n",
    "with urlopen('http://worldtimeapi.org/api/timezone/etc/UTC.txt') as response:\n",
    "    for line in response:\n",
    "        line = line.decode()             # Convert bytes to a str\n",
    "        if line.startswith('datetime'):\n",
    "            print(line.rstrip())         # Remove trailing newline"
   ]
  },
  {
   "cell_type": "code",
   "execution_count": null,
   "id": "236e48be",
   "metadata": {},
   "outputs": [],
   "source": [
    "import smtplib\n",
    "server = smtplib.SMTP('localhost')\n",
    "server.sendmail('soothsayer@example.org', 'jcaesar@example.org',\n",
    "\"\"\"To: jcaesar@example.org\n",
    "From: soothsayer@example.org\n",
    "\n",
    "Beware the Ides of March.\n",
    "\"\"\")\n",
    "server.quit()"
   ]
  },
  {
   "cell_type": "markdown",
   "id": "1e9e6f69",
   "metadata": {},
   "source": [
    "(Note that the second example needs a mailserver running on localhost.)\n",
    "\n",
    "## Dates and Times\n",
    "\n",
    "The `datetime` module supplies classes for manipulating dates and times\n",
    "in both simple and complex ways. While date and time arithmetic is\n",
    "supported, the focus of the implementation is on efficient member\n",
    "extraction for output formatting and manipulation. The module also\n",
    "supports objects that are timezone aware. :"
   ]
  },
  {
   "cell_type": "code",
   "execution_count": null,
   "id": "fde27447",
   "metadata": {},
   "outputs": [
    {
     "data": {
      "text/plain": [
       "datetime.date(2003, 12, 2)"
      ]
     },
     "execution_count": 1,
     "metadata": {},
     "output_type": "execute_result"
    }
   ],
   "source": [
    "# dates are easily constructed and formatted\n",
    "from datetime import date\n",
    "now = date.today()\n",
    "now"
   ]
  },
  {
   "cell_type": "code",
   "execution_count": null,
   "id": "0228c4a9",
   "metadata": {},
   "outputs": [
    {
     "data": {
      "text/plain": [
       "'12-02-03. 02 Dec 2003 is a Tuesday on the 02 day of December.'\n"
      ]
     },
     "execution_count": 1,
     "metadata": {},
     "output_type": "execute_result"
    }
   ],
   "source": [
    "now.strftime(\"%m-%d-%y. %d %b %Y is a %A on the %d day of %B.\")"
   ]
  },
  {
   "cell_type": "code",
   "execution_count": null,
   "id": "e8429d38",
   "metadata": {},
   "outputs": [
    {
     "data": {
      "text/plain": [
       "14368"
      ]
     },
     "execution_count": 1,
     "metadata": {},
     "output_type": "execute_result"
    }
   ],
   "source": [
    "# dates support calendar arithmetic\n",
    "birthday = date(1964, 7, 31)\n",
    "age = now - birthday\n",
    "age.days"
   ]
  },
  {
   "cell_type": "markdown",
   "id": "40ce39c7",
   "metadata": {},
   "source": [
    "## Data Compression\n",
    "\n",
    "Common data archiving and compression formats are directly supported by\n",
    "modules including: `zlib`, `gzip`, `bz2`, `lzma`, `zipfile` and\n",
    "`tarfile`. :"
   ]
  },
  {
   "cell_type": "code",
   "execution_count": null,
   "id": "a3d6ddc1",
   "metadata": {},
   "outputs": [
    {
     "data": {
      "text/plain": [
       "41"
      ]
     },
     "execution_count": 1,
     "metadata": {},
     "output_type": "execute_result"
    }
   ],
   "source": [
    "import zlib\n",
    "s = b'witch which has which witches wrist watch'\n",
    "len(s)"
   ]
  },
  {
   "cell_type": "code",
   "execution_count": null,
   "id": "11e61f4f",
   "metadata": {},
   "outputs": [
    {
     "data": {
      "text/plain": [
       "37"
      ]
     },
     "execution_count": 1,
     "metadata": {},
     "output_type": "execute_result"
    }
   ],
   "source": [
    "t = zlib.compress(s)\n",
    "len(t)"
   ]
  },
  {
   "cell_type": "code",
   "execution_count": null,
   "id": "183d15ab",
   "metadata": {},
   "outputs": [
    {
     "data": {
      "text/plain": [
       "b'witch which has which witches wrist watch'"
      ]
     },
     "execution_count": 1,
     "metadata": {},
     "output_type": "execute_result"
    }
   ],
   "source": [
    "zlib.decompress(t)"
   ]
  },
  {
   "cell_type": "code",
   "execution_count": null,
   "id": "f4f24f21",
   "metadata": {},
   "outputs": [
    {
     "data": {
      "text/plain": [
       "226805979"
      ]
     },
     "execution_count": 1,
     "metadata": {},
     "output_type": "execute_result"
    }
   ],
   "source": [
    "zlib.crc32(s)"
   ]
  },
  {
   "cell_type": "markdown",
   "id": "669ddef4",
   "metadata": {},
   "source": [
    "## Performance Measurement\n",
    "\n",
    "Some Python users develop a deep interest in knowing the relative\n",
    "performance of different approaches to the same problem. Python provides\n",
    "a measurement tool that answers those questions immediately.\n",
    "\n",
    "For example, it may be tempting to use the tuple packing and unpacking\n",
    "feature instead of the traditional approach to swapping arguments. The\n",
    "`timeit` module quickly demonstrates a modest performance advantage:"
   ]
  },
  {
   "cell_type": "code",
   "execution_count": null,
   "id": "3ad8c980",
   "metadata": {},
   "outputs": [
    {
     "data": {
      "text/plain": [
       "0.57535828626024577"
      ]
     },
     "execution_count": 1,
     "metadata": {},
     "output_type": "execute_result"
    }
   ],
   "source": [
    "from timeit import Timer\n",
    "Timer('t=a; a=b; b=t', 'a=1; b=2').timeit()"
   ]
  },
  {
   "cell_type": "code",
   "execution_count": null,
   "id": "19ac651e",
   "metadata": {},
   "outputs": [
    {
     "data": {
      "text/plain": [
       "0.54962537085770791"
      ]
     },
     "execution_count": 1,
     "metadata": {},
     "output_type": "execute_result"
    }
   ],
   "source": [
    "Timer('a,b = b,a', 'a=1; b=2').timeit()"
   ]
  },
  {
   "cell_type": "markdown",
   "id": "7af025d4",
   "metadata": {},
   "source": [
    "In contrast to `timeit`'s fine level of granularity, the `profile` and\n",
    "`pstats` modules provide tools for identifying time critical sections in\n",
    "larger blocks of code.\n",
    "\n",
    "## Quality Control\n",
    "\n",
    "One approach for developing high quality software is to write tests for\n",
    "each function as it is developed and to run those tests frequently\n",
    "during the development process.\n",
    "\n",
    "The `doctest` module provides a tool for scanning a module and\n",
    "validating tests embedded in a program's docstrings. Test construction\n",
    "is as simple as cutting-and-pasting a typical call along with its\n",
    "results into the docstring. This improves the documentation by providing\n",
    "the user with an example and it allows the doctest module to make sure\n",
    "the code remains true to the documentation:"
   ]
  },
  {
   "cell_type": "code",
   "execution_count": null,
   "id": "3d2670c7",
   "metadata": {},
   "outputs": [],
   "source": [
    "def average(values):\n",
    "    \"\"\"Computes the arithmetic mean of a list of numbers.\n",
    "\n",
    "    >>> print(average([20, 30, 70]))\n",
    "    40.0\n",
    "    \"\"\"\n",
    "    return sum(values) / len(values)\n",
    "\n",
    "import doctest\n",
    "doctest.testmod()   # automatically validate the embedded tests"
   ]
  },
  {
   "cell_type": "markdown",
   "id": "ae647984",
   "metadata": {},
   "source": [
    "The `unittest` module is not as effortless as the `doctest` module, but\n",
    "it allows a more comprehensive set of tests to be maintained in a\n",
    "separate file:"
   ]
  },
  {
   "cell_type": "code",
   "execution_count": null,
   "id": "a3859bc6",
   "metadata": {},
   "outputs": [],
   "source": [
    "import unittest\n",
    "\n",
    "class TestStatisticalFunctions(unittest.TestCase):\n",
    "\n",
    "    def test_average(self):\n",
    "        self.assertEqual(average([20, 30, 70]), 40.0)\n",
    "        self.assertEqual(round(average([1, 5, 7]), 1), 4.3)\n",
    "        with self.assertRaises(ZeroDivisionError):\n",
    "            average([])\n",
    "        with self.assertRaises(TypeError):\n",
    "            average(20, 30, 70)\n",
    "\n",
    "unittest.main()  # Calling from the command line invokes all tests"
   ]
  },
  {
   "cell_type": "markdown",
   "id": "e31ac100",
   "metadata": {},
   "source": [
    "## Batteries Included\n",
    "\n",
    "Python has a \"batteries included\" philosophy. This is best seen through\n",
    "the sophisticated and robust capabilities of its larger packages. For\n",
    "example:\n",
    "\n",
    "-   The `xmlrpc.client` and `xmlrpc.server` modules make implementing\n",
    "    remote procedure calls into an almost trivial task. Despite the\n",
    "    modules' names, no direct knowledge or handling of XML is needed.\n",
    "-   The `email` package is a library for managing email messages,\n",
    "    including MIME and other `2822`-based message documents. Unlike\n",
    "    `smtplib` and `poplib` which actually send and receive messages, the\n",
    "    email package has a complete toolset for building or decoding\n",
    "    complex message structures (including attachments) and for\n",
    "    implementing internet encoding and header protocols.\n",
    "-   The `json` package provides robust support for parsing this popular\n",
    "    data interchange format. The `csv` module supports direct reading\n",
    "    and writing of files in Comma-Separated Value format, commonly\n",
    "    supported by databases and spreadsheets. XML processing is supported\n",
    "    by the `xml.etree.ElementTree`, `xml.dom` and `xml.sax` packages.\n",
    "    Together, these modules and packages greatly simplify data\n",
    "    interchange between Python applications and other tools.\n",
    "-   The `sqlite3` module is a wrapper for the SQLite database library,\n",
    "    providing a persistent database that can be updated and accessed\n",
    "    using slightly nonstandard SQL syntax.\n",
    "-   Internationalization is supported by a number of modules including\n",
    "    `gettext`, `locale`, and the `codecs` package."
   ]
  }
 ],
 "metadata": {},
 "nbformat": 4,
 "nbformat_minor": 5
}
