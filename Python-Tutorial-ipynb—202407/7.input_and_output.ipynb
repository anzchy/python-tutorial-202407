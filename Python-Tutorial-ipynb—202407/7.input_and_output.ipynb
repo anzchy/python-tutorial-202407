{
 "cells": [
  {
   "cell_type": "markdown",
   "id": "bac4405c",
   "metadata": {},
   "source": [
    "$$\n",
    "\\def\\CC{\\bf C}\n",
    "\\def\\QQ{\\bf Q}\n",
    "\\def\\RR{\\bf R}\n",
    "\\def\\ZZ{\\bf Z}\n",
    "\\def\\NN{\\bf N}\n",
    "$$\n",
    "# Input and Output\n",
    "\n",
    "There are several ways to present the output of a program; data can be\n",
    "printed in a human-readable form, or written to a file for future use.\n",
    "This chapter will discuss some of the possibilities.\n",
    "\n",
    "## Fancier Output Formatting\n",
    "\n",
    "So far we've encountered two ways of writing values: *expression\n",
    "statements* and the `print` function. (A third way is using the\n",
    "`~io.TextIOBase.write` method of file objects; the standard output file\n",
    "can be referenced as `sys.stdout`. See the Library Reference for more\n",
    "information on this.)\n",
    "\n",
    "Often you'll want more control over the formatting of your output than\n",
    "simply printing space-separated values. There are several ways to format\n",
    "output.\n",
    "\n",
    "-   To use [formatted string literals](tut-f-strings.ipynb), begin a\n",
    "    string with `f` or `F` before the opening quotation mark or triple\n",
    "    quotation mark. Inside this string, you can write a Python\n",
    "    expression between `{` and `}` characters that can refer to\n",
    "    variables or literal values."
   ]
  },
  {
   "cell_type": "code",
   "execution_count": null,
   "id": "26f8e637",
   "metadata": {},
   "outputs": [
    {
     "data": {
      "text/plain": [
       "'Results of the 2016 Referendum'"
      ]
     },
     "execution_count": 1,
     "metadata": {},
     "output_type": "execute_result"
    }
   ],
   "source": [
    "    year = 2016\n",
    "    event = 'Referendum'\n",
    "    f'Results of the {year} {event}'"
   ]
  },
  {
   "cell_type": "markdown",
   "id": "676df420",
   "metadata": {},
   "source": [
    "-   The `str.format` method of strings requires more manual effort.\n",
    "    You'll still use `{` and `}` to mark where a variable will be\n",
    "    substituted and can provide detailed formatting directives, but\n",
    "    you'll also need to provide the information to be formatted. In the\n",
    "    following code block there are two examples of how to format\n",
    "    variables:"
   ]
  },
  {
   "cell_type": "code",
   "execution_count": null,
   "id": "0bfe6508",
   "metadata": {},
   "outputs": [
    {
     "data": {
      "text/plain": [
       "' 42572654 YES votes  49.67%'"
      ]
     },
     "execution_count": 1,
     "metadata": {},
     "output_type": "execute_result"
    }
   ],
   "source": [
    "    yes_votes = 42_572_654\n",
    "    total_votes = 85_705_149\n",
    "    percentage = yes_votes / total_votes\n",
    "    '{:-9} YES votes  {:2.2%}'.format(yes_votes, percentage)"
   ]
  },
  {
   "cell_type": "markdown",
   "id": "7c76f9ec",
   "metadata": {},
   "source": [
    "\n",
    "    Notice how the `yes_votes` are padded with spaces and a negative\n",
    "    sign only for negative numbers. The example also prints `percentage`\n",
    "    multiplied by 100, with 2 decimal places and followed by a percent\n",
    "    sign (see [formatspec](formatspec.ipynb) for details).\n"
   ]
  },
  {
   "cell_type": "markdown",
   "id": "e77e1c67",
   "metadata": {},
   "source": [
    "-   Finally, you can do all the string handling yourself by using string\n",
    "    slicing and concatenation operations to create any layout you can\n",
    "    imagine. The string type has some methods that perform useful\n",
    "    operations for padding strings to a given column width.\n",
    "\n",
    "When you don't need fancy output but just want a quick display of some\n",
    "variables for debugging purposes, you can convert any value to a string\n",
    "with the `repr` or `str` functions.\n",
    "\n",
    "The `str` function is meant to return representations of values which\n",
    "are fairly human-readable, while `repr` is meant to generate\n",
    "representations which can be read by the interpreter (or will force a\n",
    "`SyntaxError` if there is no equivalent syntax). For objects which don't\n",
    "have a particular representation for human consumption, `str` will\n",
    "return the same value as `repr`. Many values, such as numbers or\n",
    "structures like lists and dictionaries, have the same representation\n",
    "using either function. Strings, in particular, have two distinct\n",
    "representations.\n",
    "\n",
    "Some examples:"
   ]
  },
  {
   "cell_type": "code",
   "execution_count": null,
   "id": "f5a4f30f",
   "metadata": {},
   "outputs": [
    {
     "data": {
      "text/plain": [
       "'Hello, world.'"
      ]
     },
     "execution_count": 1,
     "metadata": {},
     "output_type": "execute_result"
    }
   ],
   "source": [
    "s = 'Hello, world.'\n",
    "str(s)"
   ]
  },
  {
   "cell_type": "code",
   "execution_count": null,
   "id": "bc22ba99",
   "metadata": {},
   "outputs": [
    {
     "data": {
      "text/plain": [
       "\"'Hello, world.'\""
      ]
     },
     "execution_count": 1,
     "metadata": {},
     "output_type": "execute_result"
    }
   ],
   "source": [
    "repr(s)"
   ]
  },
  {
   "cell_type": "code",
   "execution_count": null,
   "id": "aee15bbc",
   "metadata": {},
   "outputs": [
    {
     "data": {
      "text/plain": [
       "'0.14285714285714285'"
      ]
     },
     "execution_count": 1,
     "metadata": {},
     "output_type": "execute_result"
    }
   ],
   "source": [
    "str(1/7)"
   ]
  },
  {
   "cell_type": "code",
   "execution_count": null,
   "id": "17ff14d5",
   "metadata": {},
   "outputs": [
    {
     "data": {
      "text/plain": [
       "The value of x is 32.5, and y is 40000..."
      ]
     },
     "execution_count": 1,
     "metadata": {},
     "output_type": "execute_result"
    }
   ],
   "source": [
    "x = 10 * 3.25\n",
    "y = 200 * 200\n",
    "s = 'The value of x is ' + repr(x) + ', and y is ' + repr(y) + '...'\n",
    "print(s)"
   ]
  },
  {
   "cell_type": "code",
   "execution_count": null,
   "id": "7c294b3f",
   "metadata": {},
   "outputs": [
    {
     "data": {
      "text/plain": [
       "'hello, world\\n'"
      ]
     },
     "execution_count": 1,
     "metadata": {},
     "output_type": "execute_result"
    }
   ],
   "source": [
    "# The repr() of a string adds string quotes and backslashes:\n",
    "hello = 'hello, world\\n'\n",
    "hellos = repr(hello)\n",
    "print(hellos)"
   ]
  },
  {
   "cell_type": "code",
   "execution_count": null,
   "id": "65c1e77b",
   "metadata": {},
   "outputs": [
    {
     "data": {
      "text/plain": [
       "\"(32.5, 40000, ('spam', 'eggs'))\""
      ]
     },
     "execution_count": 1,
     "metadata": {},
     "output_type": "execute_result"
    }
   ],
   "source": [
    "# The argument to repr() may be any Python object:\n",
    "repr((x, y, ('spam', 'eggs')))"
   ]
  },
  {
   "cell_type": "markdown",
   "id": "800bb336",
   "metadata": {},
   "source": [
    "The `string` module contains a `~string.Template` class that offers yet\n",
    "another way to substitute values into strings, using placeholders like\n",
    "`$x` and replacing them with values from a dictionary, but offers much\n",
    "less control of the formatting.\n",
    "\n",
    "### Formatted String Literals\n",
    "\n",
    "[Formatted string literals](f-strings.ipynb) (also called f-strings for\n",
    "short) let you include the value of Python expressions inside a string\n",
    "by prefixing the string with `f` or `F` and writing expressions as\n",
    "`{expression}`.\n",
    "\n",
    "An optional format specifier can follow the expression. This allows\n",
    "greater control over how the value is formatted. The following example\n",
    "rounds pi to three places after the decimal:"
   ]
  },
  {
   "cell_type": "code",
   "execution_count": null,
   "id": "0a7efd54",
   "metadata": {},
   "outputs": [
    {
     "data": {
      "text/plain": [
       "The value of pi is approximately 3.142."
      ]
     },
     "execution_count": 1,
     "metadata": {},
     "output_type": "execute_result"
    }
   ],
   "source": [
    "import math\n",
    "print(f'The value of pi is approximately {math.pi:.3f}.')"
   ]
  },
  {
   "cell_type": "markdown",
   "id": "550020c7",
   "metadata": {},
   "source": [
    "Passing an integer after the `':'` will cause that field to be a minimum\n",
    "number of characters wide. This is useful for making columns line up. :"
   ]
  },
  {
   "cell_type": "code",
   "execution_count": null,
   "id": "711b03e6",
   "metadata": {},
   "outputs": [
    {
     "data": {
      "text/plain": [
       "Sjoerd     ==>       4127\n",
       "Jack       ==>       4098\n",
       "Dcab       ==>       7678"
      ]
     },
     "execution_count": 1,
     "metadata": {},
     "output_type": "execute_result"
    }
   ],
   "source": [
    "table = {'Sjoerd': 4127, 'Jack': 4098, 'Dcab': 7678}\n",
    "for name, phone in table.items():\n",
    "    print(f'{name:10} ==> {phone:10d}')"
   ]
  },
  {
   "cell_type": "markdown",
   "id": "db4c2191",
   "metadata": {},
   "source": [
    "Other modifiers can be used to convert the value before it is formatted.\n",
    "`'!a'` applies `ascii`, `'!s'` applies `str`, and `'!r'` applies `repr`\n",
    ":"
   ]
  },
  {
   "cell_type": "code",
   "execution_count": null,
   "id": "f68d2da0",
   "metadata": {},
   "outputs": [
    {
     "data": {
      "text/plain": [
       "My hovercraft is full of eels."
      ]
     },
     "execution_count": 1,
     "metadata": {},
     "output_type": "execute_result"
    }
   ],
   "source": [
    "animals = 'eels'\n",
    "print(f'My hovercraft is full of {animals}.')"
   ]
  },
  {
   "cell_type": "code",
   "execution_count": null,
   "id": "54d34597",
   "metadata": {},
   "outputs": [
    {
     "data": {
      "text/plain": [
       "My hovercraft is full of 'eels'."
      ]
     },
     "execution_count": 1,
     "metadata": {},
     "output_type": "execute_result"
    }
   ],
   "source": [
    "print(f'My hovercraft is full of {animals!r}.')"
   ]
  },
  {
   "cell_type": "markdown",
   "id": "9152c8f3",
   "metadata": {},
   "source": [
    "The `=` specifier can be used to expand an expression to the text of the\n",
    "expression, an equal sign, then the representation of the evaluated\n",
    "expression:\n",
    "\n",
    "> \\>\\>\\> bugs = 'roaches' \\>\\>\\> count = 13 \\>\\>\\> area = 'living room'\n",
    "> \\>\\>\\> print(f'Debugging {bugs=} {count=} {area=}') Debugging\n",
    "> bugs='roaches' count=13 area='living room'\n",
    "\n",
    "See [self-documenting expressions](bpo-36817-whatsnew.ipynb) for more\n",
    "information on the `=` specifier. For a reference on these format\n",
    "specifications, see the reference guide for the\n",
    "[formatspec](formatspec.ipynb).\n",
    "\n",
    "### The String format() Method\n",
    "\n",
    "Basic usage of the `str.format` method looks like this:"
   ]
  },
  {
   "cell_type": "code",
   "execution_count": null,
   "id": "28ab6d6b",
   "metadata": {},
   "outputs": [
    {
     "data": {
      "text/plain": [
       "We are the knights who say \"Ni!\""
      ]
     },
     "execution_count": 1,
     "metadata": {},
     "output_type": "execute_result"
    }
   ],
   "source": [
    "print('We are the {} who say \"{}!\"'.format('knights', 'Ni'))"
   ]
  },
  {
   "cell_type": "markdown",
   "id": "520385dd",
   "metadata": {},
   "source": [
    "The brackets and characters within them (called format fields) are\n",
    "replaced with the objects passed into the `str.format` method. A number\n",
    "in the brackets can be used to refer to the position of the object\n",
    "passed into the `str.format` method. :"
   ]
  },
  {
   "cell_type": "code",
   "execution_count": null,
   "id": "6f04af18",
   "metadata": {},
   "outputs": [
    {
     "data": {
      "text/plain": [
       "spam and eggs"
      ]
     },
     "execution_count": 1,
     "metadata": {},
     "output_type": "execute_result"
    }
   ],
   "source": [
    "print('{0} and {1}'.format('spam', 'eggs'))"
   ]
  },
  {
   "cell_type": "code",
   "execution_count": null,
   "id": "d43a0a8b",
   "metadata": {},
   "outputs": [
    {
     "data": {
      "text/plain": [
       "eggs and spam"
      ]
     },
     "execution_count": 1,
     "metadata": {},
     "output_type": "execute_result"
    }
   ],
   "source": [
    "print('{1} and {0}'.format('spam', 'eggs'))"
   ]
  },
  {
   "cell_type": "markdown",
   "id": "07bcf559",
   "metadata": {},
   "source": [
    "If keyword arguments are used in the `str.format` method, their values\n",
    "are referred to by using the name of the argument. :"
   ]
  },
  {
   "cell_type": "code",
   "execution_count": null,
   "id": "1226de8f",
   "metadata": {},
   "outputs": [
    {
     "data": {
      "text/plain": [
       "This spam is absolutely horrible."
      ]
     },
     "execution_count": 1,
     "metadata": {},
     "output_type": "execute_result"
    }
   ],
   "source": [
    "print('This {food} is {adjective}.'.format(\n",
    "      food='spam', adjective='absolutely horrible'))"
   ]
  },
  {
   "cell_type": "markdown",
   "id": "c7692963",
   "metadata": {},
   "source": [
    "Positional and keyword arguments can be arbitrarily combined:"
   ]
  },
  {
   "cell_type": "code",
   "execution_count": null,
   "id": "c2c0fbfd",
   "metadata": {},
   "outputs": [
    {
     "data": {
      "text/plain": [
       "The story of Bill, Manfred, and Georg."
      ]
     },
     "execution_count": 1,
     "metadata": {},
     "output_type": "execute_result"
    }
   ],
   "source": [
    "print('The story of {0}, {1}, and {other}.'.format('Bill', 'Manfred',\n",
    "                                                   other='Georg'))"
   ]
  },
  {
   "cell_type": "markdown",
   "id": "446541d9",
   "metadata": {},
   "source": [
    "If you have a really long format string that you don't want to split up,\n",
    "it would be nice if you could reference the variables to be formatted by\n",
    "name instead of by position. This can be done by simply passing the dict\n",
    "and using square brackets `'[]'` to access the keys. :"
   ]
  },
  {
   "cell_type": "code",
   "execution_count": null,
   "id": "de4a8fc1",
   "metadata": {},
   "outputs": [
    {
     "data": {
      "text/plain": [
       "Jack: 4098; Sjoerd: 4127; Dcab: 8637678"
      ]
     },
     "execution_count": 1,
     "metadata": {},
     "output_type": "execute_result"
    }
   ],
   "source": [
    "table = {'Sjoerd': 4127, 'Jack': 4098, 'Dcab': 8637678}\n",
    "print('Jack: {0[Jack]:d}; Sjoerd: {0[Sjoerd]:d}; '\n",
    "      'Dcab: {0[Dcab]:d}'.format(table))"
   ]
  },
  {
   "cell_type": "markdown",
   "id": "53b712e5",
   "metadata": {},
   "source": [
    "This could also be done by passing the `table` dictionary as keyword\n",
    "arguments with the `**` notation. :"
   ]
  },
  {
   "cell_type": "code",
   "execution_count": null,
   "id": "dc880f52",
   "metadata": {},
   "outputs": [
    {
     "data": {
      "text/plain": [
       "Jack: 4098; Sjoerd: 4127; Dcab: 8637678"
      ]
     },
     "execution_count": 1,
     "metadata": {},
     "output_type": "execute_result"
    }
   ],
   "source": [
    "table = {'Sjoerd': 4127, 'Jack': 4098, 'Dcab': 8637678}\n",
    "print('Jack: {Jack:d}; Sjoerd: {Sjoerd:d}; Dcab: {Dcab:d}'.format(**table))"
   ]
  },
  {
   "cell_type": "markdown",
   "id": "c56371d1",
   "metadata": {},
   "source": [
    "This is particularly useful in combination with the built-in function\n",
    "`vars`, which returns a dictionary containing all local variables:"
   ]
  },
  {
   "cell_type": "code",
   "execution_count": null,
   "id": "fb65592d",
   "metadata": {},
   "outputs": [
    {
     "data": {
      "text/plain": [
       "__name__: __main__; __doc__: None; __package__: None; __loader__: ..."
      ]
     },
     "execution_count": 1,
     "metadata": {},
     "output_type": "execute_result"
    }
   ],
   "source": [
    "table = {k: str(v) for k, v in vars().items()}\n",
    "message = \" \".join([f'{k}: ' + '{' + k +'};' for k in table.keys()])\n",
    "print(message.format(**table))"
   ]
  },
  {
   "cell_type": "markdown",
   "id": "485e61a5",
   "metadata": {},
   "source": [
    "As an example, the following lines produce a tidily aligned set of\n",
    "columns giving integers and their squares and cubes:"
   ]
  },
  {
   "cell_type": "code",
   "execution_count": null,
   "id": "7cbbd6cc",
   "metadata": {},
   "outputs": [
    {
     "data": {
      "text/plain": [
       " 1   1    1\n",
       " 2   4    8\n",
       " 3   9   27\n",
       " 4  16   64\n",
       " 5  25  125\n",
       " 6  36  216\n",
       " 7  49  343\n",
       " 8  64  512\n",
       " 9  81  729\n",
       "10 100 1000"
      ]
     },
     "execution_count": 1,
     "metadata": {},
     "output_type": "execute_result"
    }
   ],
   "source": [
    "for x in range(1, 11):\n",
    "    print('{0:2d} {1:3d} {2:4d}'.format(x, x*x, x*x*x))"
   ]
  },
  {
   "cell_type": "markdown",
   "id": "e1c13bad",
   "metadata": {},
   "source": [
    "For a complete overview of string formatting with `str.format`, see\n",
    "[formatstrings](formatstrings.ipynb).\n",
    "\n",
    "### Manual String Formatting\n",
    "\n",
    "Here's the same table of squares and cubes, formatted manually:"
   ]
  },
  {
   "cell_type": "code",
   "execution_count": null,
   "id": "34905dcb",
   "metadata": {},
   "outputs": [
    {
     "data": {
      "text/plain": [
       " 1   1    1\n",
       " 2   4    8\n",
       " 3   9   27\n",
       " 4  16   64\n",
       " 5  25  125\n",
       " 6  36  216\n",
       " 7  49  343\n",
       " 8  64  512\n",
       " 9  81  729\n",
       "10 100 1000"
      ]
     },
     "execution_count": 1,
     "metadata": {},
     "output_type": "execute_result"
    }
   ],
   "source": [
    "for x in range(1, 11):\n",
    "    print(repr(x).rjust(2), repr(x*x).rjust(3), end=' ')\n",
    "    # Note use of 'end' on previous line\n",
    "    print(repr(x*x*x).rjust(4))"
   ]
  },
  {
   "cell_type": "markdown",
   "id": "17d7fac7",
   "metadata": {},
   "source": [
    "(Note that the one space between each column was added by the way\n",
    "`print` works: it always adds spaces between its arguments.)\n",
    "\n",
    "The `str.rjust` method of string objects right-justifies a string in a\n",
    "field of a given width by padding it with spaces on the left. There are\n",
    "similar methods `str.ljust` and `str.center`. These methods do not write\n",
    "anything, they just return a new string. If the input string is too\n",
    "long, they don't truncate it, but return it unchanged; this will mess up\n",
    "your column lay-out but that's usually better than the alternative,\n",
    "which would be lying about a value. (If you really want truncation you\n",
    "can always add a slice operation, as in `x.ljust(n)[:n]`.)\n",
    "\n",
    "There is another method, `str.zfill`, which pads a numeric string on the\n",
    "left with zeros. It understands about plus and minus signs:"
   ]
  },
  {
   "cell_type": "code",
   "execution_count": null,
   "id": "65ac166a",
   "metadata": {},
   "outputs": [
    {
     "data": {
      "text/plain": [
       "'00012'"
      ]
     },
     "execution_count": 1,
     "metadata": {},
     "output_type": "execute_result"
    }
   ],
   "source": [
    "'12'.zfill(5)"
   ]
  },
  {
   "cell_type": "code",
   "execution_count": null,
   "id": "162ebccb",
   "metadata": {},
   "outputs": [
    {
     "data": {
      "text/plain": [
       "'-003.14'"
      ]
     },
     "execution_count": 1,
     "metadata": {},
     "output_type": "execute_result"
    }
   ],
   "source": [
    "'-3.14'.zfill(7)"
   ]
  },
  {
   "cell_type": "code",
   "execution_count": null,
   "id": "e608cc7e",
   "metadata": {},
   "outputs": [
    {
     "data": {
      "text/plain": [
       "'3.14159265359'"
      ]
     },
     "execution_count": 1,
     "metadata": {},
     "output_type": "execute_result"
    }
   ],
   "source": [
    "'3.14159265359'.zfill(5)"
   ]
  },
  {
   "cell_type": "markdown",
   "id": "f50c65fd",
   "metadata": {},
   "source": [
    "### Old string formatting\n",
    "\n",
    "The % operator (modulo) can also be used for string formatting. Given\n",
    "`format % values` (where *format* is a string), `%` conversion\n",
    "specifications in *format* are replaced with zero or more elements of\n",
    "*values*. This operation is commonly known as string interpolation. For\n",
    "example:"
   ]
  },
  {
   "cell_type": "code",
   "execution_count": null,
   "id": "7b29b4e8",
   "metadata": {},
   "outputs": [
    {
     "data": {
      "text/plain": [
       "The value of pi is approximately 3.142."
      ]
     },
     "execution_count": 1,
     "metadata": {},
     "output_type": "execute_result"
    }
   ],
   "source": [
    "import math\n",
    "print('The value of pi is approximately %5.3f.' % math.pi)"
   ]
  },
  {
   "cell_type": "markdown",
   "id": "c9d6242e",
   "metadata": {},
   "source": [
    "More information can be found in the\n",
    "[old-string-formatting](old-string-formatting.ipynb) section.\n",
    "\n",
    "## Reading and Writing Files\n",
    "\n",
    "pair: built-in function; open pair: object; file\n",
    "\n",
    "`open` returns a `file object`, and is most commonly used with two\n",
    "positional arguments and one keyword argument:\n",
    "`open(filename, mode, encoding=None)`"
   ]
  },
  {
   "cell_type": "code",
   "execution_count": null,
   "id": "6817353a",
   "metadata": {},
   "outputs": [],
   "source": [
    "f = open('workfile', 'w', encoding=\"utf-8\")"
   ]
  },
  {
   "cell_type": "markdown",
   "id": "0f2ffe11",
   "metadata": {},
   "source": [
    "> \\>\\>\\> print(f) \\<open file 'workfile', mode 'w' at 80a0960\\>\n",
    "\n",
    "The first argument is a string containing the filename. The second\n",
    "argument is another string containing a few characters describing the\n",
    "way in which the file will be used. *mode* can be `'r'` when the file\n",
    "will only be read, `'w'` for only writing (an existing file with the\n",
    "same name will be erased), and `'a'` opens the file for appending; any\n",
    "data written to the file is automatically added to the end. `'r+'` opens\n",
    "the file for both reading and writing. The *mode* argument is optional;\n",
    "`'r'` will be assumed if it's omitted.\n",
    "\n",
    "Normally, files are opened in `text mode`, that means, you read and\n",
    "write strings from and to the file, which are encoded in a specific\n",
    "*encoding*. If *encoding* is not specified, the default is platform\n",
    "dependent (see `open`). Because UTF-8 is the modern de-facto standard,\n",
    "`encoding=\"utf-8\"` is recommended unless you know that you need to use a\n",
    "different encoding. Appending a `'b'` to the mode opens the file in\n",
    "`binary mode`. Binary mode data is read and written as `bytes` objects.\n",
    "You can not specify *encoding* when opening file in binary mode.\n",
    "\n",
    "In text mode, the default when reading is to convert platform-specific\n",
    "line endings (`\\n` on Unix, `\\r\\n` on Windows) to just `\\n`. When\n",
    "writing in text mode, the default is to convert occurrences of `\\n` back\n",
    "to platform-specific line endings. This behind-the-scenes modification\n",
    "to file data is fine for text files, but will corrupt binary data like\n",
    "that in `JPEG` or `EXE` files. Be very careful to use binary mode when\n",
    "reading and writing such files.\n",
    "\n",
    "It is good practice to use the `with` keyword when dealing with file\n",
    "objects. The advantage is that the file is properly closed after its\n",
    "suite finishes, even if an exception is raised at some point. Using\n",
    "`!with` is also much shorter than writing equivalent `try`-`finally`\n",
    "blocks:"
   ]
  },
  {
   "cell_type": "code",
   "execution_count": null,
   "id": "43106e7c",
   "metadata": {},
   "outputs": [],
   "source": [
    "with open('workfile', encoding=\"utf-8\") as f:\n",
    "    read_data = f.read()"
   ]
  },
  {
   "cell_type": "code",
   "execution_count": null,
   "id": "eb72e2f7",
   "metadata": {},
   "outputs": [
    {
     "data": {
      "text/plain": [
       "True"
      ]
     },
     "execution_count": 1,
     "metadata": {},
     "output_type": "execute_result"
    }
   ],
   "source": [
    "# We can check that the file has been automatically closed.\n",
    "f.closed"
   ]
  },
  {
   "cell_type": "markdown",
   "id": "df60000d",
   "metadata": {},
   "source": [
    "If you're not using the `with` keyword, then you should call `f.close()`\n",
    "to close the file and immediately free up any system resources used by\n",
    "it.\n",
    "\n",
    "Warning\n",
    "\n",
    "Calling `f.write()` without using the `!with` keyword or calling\n",
    "`f.close()` **might** result in the arguments of `f.write()` not being\n",
    "completely written to the disk, even if the program exits successfully.\n",
    "\n",
    "After a file object is closed, either by a `with` statement or by\n",
    "calling `f.close()`, attempts to use the file object will automatically\n",
    "fail. :"
   ]
  },
  {
   "cell_type": "code",
   "execution_count": null,
   "id": "dcf54102",
   "metadata": {},
   "outputs": [
    {
     "data": {
      "text/plain": [
       "Traceback (most recent call last):\n",
       "  File \"<stdin>\", line 1, in <module>\n",
       "ValueError: I/O operation on closed file."
      ]
     },
     "execution_count": 1,
     "metadata": {},
     "output_type": "execute_result"
    }
   ],
   "source": [
    "f.close()\n",
    "f.read()"
   ]
  },
  {
   "cell_type": "markdown",
   "id": "8d2f34ff",
   "metadata": {},
   "source": [
    "### Methods of File Objects\n",
    "\n",
    "The rest of the examples in this section will assume that a file object\n",
    "called `f` has already been created.\n",
    "\n",
    "To read a file's contents, call `f.read(size)`, which reads some\n",
    "quantity of data and returns it as a string (in text mode) or bytes\n",
    "object (in binary mode). *size* is an optional numeric argument. When\n",
    "*size* is omitted or negative, the entire contents of the file will be\n",
    "read and returned; it's your problem if the file is twice as large as\n",
    "your machine's memory. Otherwise, at most *size* characters (in text\n",
    "mode) or *size* bytes (in binary mode) are read and returned. If the end\n",
    "of the file has been reached, `f.read()` will return an empty string\n",
    "(`''`). :"
   ]
  },
  {
   "cell_type": "code",
   "execution_count": null,
   "id": "2b6f4b53",
   "metadata": {},
   "outputs": [
    {
     "data": {
      "text/plain": [
       "'This is the entire file.\\n'"
      ]
     },
     "execution_count": 1,
     "metadata": {},
     "output_type": "execute_result"
    }
   ],
   "source": [
    "f.read()"
   ]
  },
  {
   "cell_type": "code",
   "execution_count": null,
   "id": "70123d82",
   "metadata": {},
   "outputs": [
    {
     "data": {
      "text/plain": [
       "''"
      ]
     },
     "execution_count": 1,
     "metadata": {},
     "output_type": "execute_result"
    }
   ],
   "source": [
    "f.read()"
   ]
  },
  {
   "cell_type": "markdown",
   "id": "8184936e",
   "metadata": {},
   "source": [
    "`f.readline()` reads a single line from the file; a newline character\n",
    "(`\\n`) is left at the end of the string, and is only omitted on the last\n",
    "line of the file if the file doesn't end in a newline. This makes the\n",
    "return value unambiguous; if `f.readline()` returns an empty string, the\n",
    "end of the file has been reached, while a blank line is represented by\n",
    "`'\\n'`, a string containing only a single newline. :"
   ]
  },
  {
   "cell_type": "code",
   "execution_count": null,
   "id": "4da44f19",
   "metadata": {},
   "outputs": [
    {
     "data": {
      "text/plain": [
       "'This is the first line of the file.\\n'"
      ]
     },
     "execution_count": 1,
     "metadata": {},
     "output_type": "execute_result"
    }
   ],
   "source": [
    "f.readline()"
   ]
  },
  {
   "cell_type": "code",
   "execution_count": null,
   "id": "17fc0ad3",
   "metadata": {},
   "outputs": [
    {
     "data": {
      "text/plain": [
       "'Second line of the file\\n'"
      ]
     },
     "execution_count": 1,
     "metadata": {},
     "output_type": "execute_result"
    }
   ],
   "source": [
    "f.readline()"
   ]
  },
  {
   "cell_type": "code",
   "execution_count": null,
   "id": "6023503d",
   "metadata": {},
   "outputs": [
    {
     "data": {
      "text/plain": [
       "''"
      ]
     },
     "execution_count": 1,
     "metadata": {},
     "output_type": "execute_result"
    }
   ],
   "source": [
    "f.readline()"
   ]
  },
  {
   "cell_type": "markdown",
   "id": "d31b9c51",
   "metadata": {},
   "source": [
    "For reading lines from a file, you can loop over the file object. This\n",
    "is memory efficient, fast, and leads to simple code:"
   ]
  },
  {
   "cell_type": "code",
   "execution_count": null,
   "id": "d72b4d25",
   "metadata": {},
   "outputs": [
    {
     "data": {
      "text/plain": [
       "This is the first line of the file.\n",
       "Second line of the file"
      ]
     },
     "execution_count": 1,
     "metadata": {},
     "output_type": "execute_result"
    }
   ],
   "source": [
    "for line in f:\n",
    "    print(line, end='')"
   ]
  },
  {
   "cell_type": "markdown",
   "id": "4477e778",
   "metadata": {},
   "source": [
    "If you want to read all the lines of a file in a list you can also use\n",
    "`list(f)` or `f.readlines()`.\n",
    "\n",
    "`f.write(string)` writes the contents of *string* to the file, returning\n",
    "the number of characters written. :"
   ]
  },
  {
   "cell_type": "code",
   "execution_count": null,
   "id": "7f32a405",
   "metadata": {},
   "outputs": [
    {
     "data": {
      "text/plain": [
       "15"
      ]
     },
     "execution_count": 1,
     "metadata": {},
     "output_type": "execute_result"
    }
   ],
   "source": [
    "f.write('This is a test\\n')"
   ]
  },
  {
   "cell_type": "markdown",
   "id": "712b4864",
   "metadata": {},
   "source": [
    "Other types of objects need to be converted -- either to a string (in\n",
    "text mode) or a bytes object (in binary mode) -- before writing them:"
   ]
  },
  {
   "cell_type": "code",
   "execution_count": null,
   "id": "a6b67efc",
   "metadata": {},
   "outputs": [
    {
     "data": {
      "text/plain": [
       "18"
      ]
     },
     "execution_count": 1,
     "metadata": {},
     "output_type": "execute_result"
    }
   ],
   "source": [
    "value = ('the answer', 42)\n",
    "s = str(value)  # convert the tuple to string\n",
    "f.write(s)"
   ]
  },
  {
   "cell_type": "markdown",
   "id": "2a438166",
   "metadata": {},
   "source": [
    "`f.tell()` returns an integer giving the file object's current position\n",
    "in the file represented as number of bytes from the beginning of the\n",
    "file when in binary mode and an opaque number when in text mode.\n",
    "\n",
    "To change the file object's position, use `f.seek(offset, whence)`. The\n",
    "position is computed from adding *offset* to a reference point; the\n",
    "reference point is selected by the *whence* argument. A *whence* value\n",
    "of 0 measures from the beginning of the file, 1 uses the current file\n",
    "position, and 2 uses the end of the file as the reference point.\n",
    "*whence* can be omitted and defaults to 0, using the beginning of the\n",
    "file as the reference point. :"
   ]
  },
  {
   "cell_type": "code",
   "execution_count": null,
   "id": "7b45b170",
   "metadata": {},
   "outputs": [
    {
     "data": {
      "text/plain": [
       "16"
      ]
     },
     "execution_count": 1,
     "metadata": {},
     "output_type": "execute_result"
    }
   ],
   "source": [
    "f = open('workfile', 'rb+')\n",
    "f.write(b'0123456789abcdef')"
   ]
  },
  {
   "cell_type": "code",
   "execution_count": null,
   "id": "5440eb18",
   "metadata": {},
   "outputs": [
    {
     "data": {
      "text/plain": [
       "5"
      ]
     },
     "execution_count": 1,
     "metadata": {},
     "output_type": "execute_result"
    }
   ],
   "source": [
    "f.seek(5)      # Go to the 6th byte in the file"
   ]
  },
  {
   "cell_type": "code",
   "execution_count": null,
   "id": "8e016f5f",
   "metadata": {},
   "outputs": [
    {
     "data": {
      "text/plain": [
       "b'5'"
      ]
     },
     "execution_count": 1,
     "metadata": {},
     "output_type": "execute_result"
    }
   ],
   "source": [
    "f.read(1)"
   ]
  },
  {
   "cell_type": "code",
   "execution_count": null,
   "id": "16789120",
   "metadata": {},
   "outputs": [
    {
     "data": {
      "text/plain": [
       "13"
      ]
     },
     "execution_count": 1,
     "metadata": {},
     "output_type": "execute_result"
    }
   ],
   "source": [
    "f.seek(-3, 2)  # Go to the 3rd byte before the end"
   ]
  },
  {
   "cell_type": "code",
   "execution_count": null,
   "id": "bd5e01f3",
   "metadata": {},
   "outputs": [
    {
     "data": {
      "text/plain": [
       "b'd'"
      ]
     },
     "execution_count": 1,
     "metadata": {},
     "output_type": "execute_result"
    }
   ],
   "source": [
    "f.read(1)"
   ]
  },
  {
   "cell_type": "markdown",
   "id": "b6294036",
   "metadata": {},
   "source": [
    "In text files (those opened without a `b` in the mode string), only\n",
    "seeks relative to the beginning of the file are allowed (the exception\n",
    "being seeking to the very file end with `seek(0, 2)`) and the only valid\n",
    "*offset* values are those returned from the `f.tell()`, or zero. Any\n",
    "other *offset* value produces undefined behaviour.\n",
    "\n",
    "File objects have some additional methods, such as `~io.IOBase.isatty`\n",
    "and `~io.IOBase.truncate` which are less frequently used; consult the\n",
    "Library Reference for a complete guide to file objects.\n",
    "\n",
    "### Saving structured data with `json`\n",
    "\n",
    "pair: module; json\n",
    "\n",
    "Strings can easily be written to and read from a file. Numbers take a\n",
    "bit more effort, since the `~io.TextIOBase.read` method only returns\n",
    "strings, which will have to be passed to a function like `int`, which\n",
    "takes a string like `'123'` and returns its numeric value 123. When you\n",
    "want to save more complex data types like nested lists and dictionaries,\n",
    "parsing and serializing by hand becomes complicated.\n",
    "\n",
    "Rather than having users constantly writing and debugging code to save\n",
    "complicated data types to files, Python allows you to use the popular\n",
    "data interchange format called [JSON (JavaScript Object\n",
    "Notation)](https://json.org). The standard module called `json` can take\n",
    "Python data hierarchies, and convert them to string representations;\n",
    "this process is called `serializing`. Reconstructing the data from the\n",
    "string representation is called `deserializing`. Between serializing and\n",
    "deserializing, the string representing the object may have been stored\n",
    "in a file or data, or sent over a network connection to some distant\n",
    "machine.\n",
    "\n",
    "Note\n",
    "\n",
    "The JSON format is commonly used by modern applications to allow for\n",
    "data exchange. Many programmers are already familiar with it, which\n",
    "makes it a good choice for interoperability.\n",
    "\n",
    "If you have an object `x`, you can view its JSON string representation\n",
    "with a simple line of code:"
   ]
  },
  {
   "cell_type": "code",
   "execution_count": null,
   "id": "1b3fb22b",
   "metadata": {},
   "outputs": [
    {
     "data": {
      "text/plain": [
       "'[1, \"simple\", \"list\"]'"
      ]
     },
     "execution_count": 1,
     "metadata": {},
     "output_type": "execute_result"
    }
   ],
   "source": [
    "import json\n",
    "x = [1, 'simple', 'list']\n",
    "json.dumps(x)"
   ]
  },
  {
   "cell_type": "markdown",
   "id": "6269c18e",
   "metadata": {},
   "source": [
    "Another variant of the `~json.dumps` function, called `~json.dump`,\n",
    "simply serializes the object to a `text file`. So if `f` is a\n",
    "`text file` object opened for writing, we can do this:"
   ]
  },
  {
   "cell_type": "code",
   "execution_count": null,
   "id": "2557cbb1",
   "metadata": {},
   "outputs": [],
   "source": [
    "json.dump(x, f)"
   ]
  },
  {
   "cell_type": "markdown",
   "id": "f17e0ac5",
   "metadata": {},
   "source": [
    "To decode the object again, if `f` is a `binary file` or `text file`\n",
    "object which has been opened for reading:"
   ]
  },
  {
   "cell_type": "code",
   "execution_count": null,
   "id": "c81cd4a3",
   "metadata": {},
   "outputs": [],
   "source": [
    "x = json.load(f)"
   ]
  },
  {
   "cell_type": "markdown",
   "id": "6ea316ea",
   "metadata": {},
   "source": [
    "Note\n",
    "\n",
    "JSON files must be encoded in UTF-8. Use `encoding=\"utf-8\"` when opening\n",
    "JSON file as a `text file` for both of reading and writing.\n",
    "\n",
    "This simple serialization technique can handle lists and dictionaries,\n",
    "but serializing arbitrary class instances in JSON requires a bit of\n",
    "extra effort. The reference for the `json` module contains an\n",
    "explanation of this.\n",
    "\n",
    "`pickle` - the pickle module\n",
    "\n",
    "Contrary to [JSON](tut-json.ipynb), *pickle* is a protocol which allows\n",
    "the serialization of arbitrarily complex Python objects. As such, it is\n",
    "specific to Python and cannot be used to communicate with applications\n",
    "written in other languages. It is also insecure by default:\n",
    "deserializing pickle data coming from an untrusted source can execute\n",
    "arbitrary code, if the data was crafted by a skilled attacker."
   ]
  }
 ],
 "metadata": {},
 "nbformat": 4,
 "nbformat_minor": 5
}
