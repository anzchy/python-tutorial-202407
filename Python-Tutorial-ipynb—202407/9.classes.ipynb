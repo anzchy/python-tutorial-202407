{
 "cells": [
  {
   "cell_type": "markdown",
   "id": "51b8377b",
   "metadata": {},
   "source": [
    "$$\n",
    "\\def\\CC{\\bf C}\n",
    "\\def\\QQ{\\bf Q}\n",
    "\\def\\RR{\\bf R}\n",
    "\\def\\ZZ{\\bf Z}\n",
    "\\def\\NN{\\bf N}\n",
    "$$\n",
    "# Classes\n",
    "\n",
    "Classes provide a means of bundling data and functionality together.\n",
    "Creating a new class creates a new *type* of object, allowing new\n",
    "*instances* of that type to be made. Each class instance can have\n",
    "attributes attached to it for maintaining its state. Class instances can\n",
    "also have methods (defined by its class) for modifying its state.\n",
    "\n",
    "Compared with other programming languages, Python's class mechanism adds\n",
    "classes with a minimum of new syntax and semantics. It is a mixture of\n",
    "the class mechanisms found in C++ and Modula-3. Python classes provide\n",
    "all the standard features of Object Oriented Programming: the class\n",
    "inheritance mechanism allows multiple base classes, a derived class can\n",
    "override any methods of its base class or classes, and a method can call\n",
    "the method of a base class with the same name. Objects can contain\n",
    "arbitrary amounts and kinds of data. As is true for modules, classes\n",
    "partake of the dynamic nature of Python: they are created at runtime,\n",
    "and can be modified further after creation.\n",
    "\n",
    "In C++ terminology, normally class members (including the data members)\n",
    "are *public* (except see below [tut-private](tut-private.ipynb)), and\n",
    "all member functions are *virtual*. As in Modula-3, there are no\n",
    "shorthands for referencing the object's members from its methods: the\n",
    "method function is declared with an explicit first argument representing\n",
    "the object, which is provided implicitly by the call. As in Smalltalk,\n",
    "classes themselves are objects. This provides semantics for importing\n",
    "and renaming. Unlike C++ and Modula-3, built-in types can be used as\n",
    "base classes for extension by the user. Also, like in C++, most built-in\n",
    "operators with special syntax (arithmetic operators, subscripting etc.)\n",
    "can be redefined for class instances.\n",
    "\n",
    "(Lacking universally accepted terminology to talk about classes, I will\n",
    "make occasional use of Smalltalk and C++ terms. I would use Modula-3\n",
    "terms, since its object-oriented semantics are closer to those of Python\n",
    "than C++, but I expect that few readers have heard of it.)\n",
    "\n",
    "## A Word About Names and Objects\n",
    "\n",
    "Objects have individuality, and multiple names (in multiple scopes) can\n",
    "be bound to the same object. This is known as aliasing in other\n",
    "languages. This is usually not appreciated on a first glance at Python,\n",
    "and can be safely ignored when dealing with immutable basic types\n",
    "(numbers, strings, tuples). However, aliasing has a possibly surprising\n",
    "effect on the semantics of Python code involving mutable objects such as\n",
    "lists, dictionaries, and most other types. This is usually used to the\n",
    "benefit of the program, since aliases behave like pointers in some\n",
    "respects. For example, passing an object is cheap since only a pointer\n",
    "is passed by the implementation; and if a function modifies an object\n",
    "passed as an argument, the caller will see the change --- this\n",
    "eliminates the need for two different argument passing mechanisms as in\n",
    "Pascal.\n",
    "\n",
    "## Python Scopes and Namespaces\n",
    "\n",
    "Before introducing classes, I first have to tell you something about\n",
    "Python's scope rules. Class definitions play some neat tricks with\n",
    "namespaces, and you need to know how scopes and namespaces work to fully\n",
    "understand what's going on. Incidentally, knowledge about this subject\n",
    "is useful for any advanced Python programmer.\n",
    "\n",
    "Let's begin with some definitions.\n",
    "\n",
    "A *namespace* is a mapping from names to objects. Most namespaces are\n",
    "currently implemented as Python dictionaries, but that's normally not\n",
    "noticeable in any way (except for performance), and it may change in the\n",
    "future. Examples of namespaces are: the set of built-in names\n",
    "(containing functions such as `abs`, and built-in exception names); the\n",
    "global names in a module; and the local names in a function invocation.\n",
    "In a sense the set of attributes of an object also form a namespace. The\n",
    "important thing to know about namespaces is that there is absolutely no\n",
    "relation between names in different namespaces; for instance, two\n",
    "different modules may both define a function `maximize` without\n",
    "confusion ---users of the modules must prefix it with the module name.\n",
    "\n",
    "By the way, I use the word *attribute* for any name following a dot ---\n",
    "for example, in the expression `z.real`, `real` is an attribute of the\n",
    "object `z`. Strictly speaking, references to names in modules are\n",
    "attribute references: in the expression `modname.funcname`, `modname` is\n",
    "a module object and `funcname` is an attribute of it. In this case there\n",
    "happens to be a straightforward mapping between the module's attributes\n",
    "and the global names defined in the module: they share the same\n",
    "namespace![1]\n",
    "\n",
    "Attributes may be read-only or writable. In the latter case, assignment\n",
    "to attributes is possible. Module attributes are writable: you can write\n",
    "`modname.the_answer = 42`. Writable attributes may also be deleted with\n",
    "the `del` statement. For example, `del modname.the_answer` will remove\n",
    "the attribute `!the_answer` from the object named by `modname`.\n",
    "\n",
    "Namespaces are created at different moments and have different\n",
    "lifetimes. The namespace containing the built-in names is created when\n",
    "the Python interpreter starts up, and is never deleted. The global\n",
    "namespace for a module is created when the module definition is read in;\n",
    "normally, module namespaces also last until the interpreter quits. The\n",
    "statements executed by the top-level invocation of the interpreter,\n",
    "either read from a script file or interactively, are considered part of\n",
    "a module called `__main__`, so they have their own global namespace.\n",
    "(The built-in names actually also live in a module; this is called\n",
    "`builtins`.)\n",
    "\n",
    "The local namespace for a function is created when the function is\n",
    "called, and deleted when the function returns or raises an exception\n",
    "that is not handled within the function. (Actually, forgetting would be\n",
    "a better way to describe what actually happens.) Of course, recursive\n",
    "invocations each have their own local namespace.\n",
    "\n",
    "A *scope* is a textual region of a Python program where a namespace is\n",
    "directly accessible. \"Directly accessible\" here means that an\n",
    "unqualified reference to a name attempts to find the name in the\n",
    "namespace.\n",
    "\n",
    "Although scopes are determined statically, they are used dynamically. At\n",
    "any time during execution, there are 3 or 4 nested scopes whose\n",
    "namespaces are directly accessible:\n",
    "\n",
    "-   the innermost scope, which is searched first, contains the local\n",
    "    names\n",
    "-   the scopes of any enclosing functions, which are searched starting\n",
    "    with the nearest enclosing scope, contain non-local, but also\n",
    "    non-global names\n",
    "-   the next-to-last scope contains the current module's global names\n",
    "-   the outermost scope (searched last) is the namespace containing\n",
    "    built-in names\n",
    "\n",
    "If a name is declared global, then all references and assignments go\n",
    "directly to the next-to-last scope containing the module's global names.\n",
    "To rebind variables found outside of the innermost scope, the `nonlocal`\n",
    "statement can be used; if not declared nonlocal, those variables are\n",
    "read-only (an attempt to write to such a variable will simply create a\n",
    "*new* local variable in the innermost scope, leaving the identically\n",
    "named outer variable unchanged).\n",
    "\n",
    "Usually, the local scope references the local names of the (textually)\n",
    "current function. Outside functions, the local scope references the same\n",
    "namespace as the global scope: the module's namespace. Class definitions\n",
    "place yet another namespace in the local scope.\n",
    "\n",
    "It is important to realize that scopes are determined textually: the\n",
    "global scope of a function defined in a module is that module's\n",
    "namespace, no matter from where or by what alias the function is called.\n",
    "On the other hand, the actual search for names is done dynamically, at\n",
    "run time --- however, the language definition is evolving towards static\n",
    "name resolution, at \"compile\" time, so don't rely on dynamic name\n",
    "resolution! (In fact, local variables are already determined\n",
    "statically.)\n",
    "\n",
    "A special quirk of Python is that -- if no `global` or `nonlocal`\n",
    "statement is in effect -- assignments to names always go into the\n",
    "innermost scope. Assignments do not copy data --- they just bind names\n",
    "to objects. The same is true for deletions: the statement `del x`\n",
    "removes the binding of `x` from the namespace referenced by the local\n",
    "scope. In fact, all operations that introduce new names use the local\n",
    "scope: in particular, `import` statements and function definitions bind\n",
    "the module or function name in the local scope.\n",
    "\n",
    "The `global` statement can be used to indicate that particular variables\n",
    "live in the global scope and should be rebound there; the `nonlocal`\n",
    "statement indicates that particular variables live in an enclosing scope\n",
    "and should be rebound there.\n",
    "\n",
    "### Scopes and Namespaces Example\n",
    "\n",
    "This is an example demonstrating how to reference the different scopes\n",
    "and namespaces, and how `global` and `nonlocal` affect variable binding:"
   ]
  },
  {
   "cell_type": "code",
   "execution_count": null,
   "id": "b8f74406",
   "metadata": {},
   "outputs": [],
   "source": [
    "def scope_test():\n",
    "    def do_local():\n",
    "        spam = \"local spam\"\n",
    "\n",
    "    def do_nonlocal():\n",
    "        nonlocal spam\n",
    "        spam = \"nonlocal spam\"\n",
    "\n",
    "    def do_global():\n",
    "        global spam\n",
    "        spam = \"global spam\"\n",
    "\n",
    "    spam = \"test spam\"\n",
    "    do_local()\n",
    "    print(\"After local assignment:\", spam)\n",
    "    do_nonlocal()\n",
    "    print(\"After nonlocal assignment:\", spam)\n",
    "    do_global()\n",
    "    print(\"After global assignment:\", spam)\n",
    "\n",
    "scope_test()\n",
    "print(\"In global scope:\", spam)"
   ]
  },
  {
   "cell_type": "markdown",
   "id": "3a1daff2",
   "metadata": {},
   "source": [
    "The output of the example code is:"
   ]
  },
  {
   "cell_type": "code",
   "execution_count": null,
   "id": "bfb7932c",
   "metadata": {},
   "outputs": [],
   "source": [
    "After local assignment: test spam\n",
    "After nonlocal assignment: nonlocal spam\n",
    "After global assignment: nonlocal spam\n",
    "In global scope: global spam"
   ]
  },
  {
   "cell_type": "markdown",
   "id": "135e0072",
   "metadata": {},
   "source": [
    "Note how the *local* assignment (which is default) didn't change\n",
    "*scope_test*'s binding of *spam*. The `nonlocal` assignment changed\n",
    "*scope_test*'s binding of *spam*, and the `global` assignment changed\n",
    "the module-level binding.\n",
    "\n",
    "You can also see that there was no previous binding for *spam* before\n",
    "the `global` assignment.\n",
    "\n",
    "## A First Look at Classes\n",
    "\n",
    "Classes introduce a little bit of new syntax, three new object types,\n",
    "and some new semantics.\n",
    "\n",
    "### Class Definition Syntax\n",
    "\n",
    "The simplest form of class definition looks like this:"
   ]
  },
  {
   "cell_type": "code",
   "execution_count": null,
   "id": "af89e5ae",
   "metadata": {},
   "outputs": [],
   "source": [
    "class ClassName:\n",
    "    <statement-1>\n",
    "    .\n",
    "    .\n",
    "    .\n",
    "    <statement-N>"
   ]
  },
  {
   "cell_type": "markdown",
   "id": "e3ad581d",
   "metadata": {},
   "source": [
    "Class definitions, like function definitions (`def` statements) must be\n",
    "executed before they have any effect. (You could conceivably place a\n",
    "class definition in a branch of an `if` statement, or inside a\n",
    "function.)\n",
    "\n",
    "In practice, the statements inside a class definition will usually be\n",
    "function definitions, but other statements are allowed, and sometimes\n",
    "useful --- we'll come back to this later. The function definitions\n",
    "inside a class normally have a peculiar form of argument list, dictated\n",
    "by the calling conventions for methods --- again, this is explained\n",
    "later.\n",
    "\n",
    "When a class definition is entered, a new namespace is created, and used\n",
    "as the local scope --- thus, all assignments to local variables go into\n",
    "this new namespace. In particular, function definitions bind the name of\n",
    "the new function here.\n",
    "\n",
    "When a class definition is left normally (via the end), a *class object*\n",
    "is created. This is basically a wrapper around the contents of the\n",
    "namespace created by the class definition; we'll learn more about class\n",
    "objects in the next section. The original local scope (the one in effect\n",
    "just before the class definition was entered) is reinstated, and the\n",
    "class object is bound here to the class name given in the class\n",
    "definition header (`!ClassName` in the example).\n",
    "\n",
    "### Class Objects\n",
    "\n",
    "Class objects support two kinds of operations: attribute references and\n",
    "instantiation.\n",
    "\n",
    "*Attribute references* use the standard syntax used for all attribute\n",
    "references in Python: `obj.name`. Valid attribute names are all the\n",
    "names that were in the class's namespace when the class object was\n",
    "created. So, if the class definition looked like this:"
   ]
  },
  {
   "cell_type": "code",
   "execution_count": null,
   "id": "4b17c3d1",
   "metadata": {},
   "outputs": [],
   "source": [
    "class MyClass:\n",
    "    \"\"\"A simple example class\"\"\"\n",
    "    i = 12345\n",
    "\n",
    "    def f(self):\n",
    "        return 'hello world'"
   ]
  },
  {
   "cell_type": "markdown",
   "id": "612d3ec7",
   "metadata": {},
   "source": [
    "then `MyClass.i` and `MyClass.f` are valid attribute references,\n",
    "returning an integer and a function object, respectively. Class\n",
    "attributes can also be assigned to, so you can change the value of\n",
    "`MyClass.i` by assignment. `!__doc__` is also a valid attribute,\n",
    "returning the docstring belonging to the class:\n",
    "`\"A simple example class\"`.\n",
    "\n",
    "Class *instantiation* uses function notation. Just pretend that the\n",
    "class object is a parameterless function that returns a new instance of\n",
    "the class. For example (assuming the above class):"
   ]
  },
  {
   "cell_type": "code",
   "execution_count": null,
   "id": "67e8240b",
   "metadata": {},
   "outputs": [],
   "source": [
    "x = MyClass()"
   ]
  },
  {
   "cell_type": "markdown",
   "id": "a84054c0",
   "metadata": {},
   "source": [
    "creates a new *instance* of the class and assigns this object to the\n",
    "local variable `x`.\n",
    "\n",
    "The instantiation operation (\"calling\" a class object) creates an empty\n",
    "object. Many classes like to create objects with instances customized to\n",
    "a specific initial state. Therefore a class may define a special method\n",
    "named `~object.__init__`, like this:"
   ]
  },
  {
   "cell_type": "code",
   "execution_count": null,
   "id": "537f305e",
   "metadata": {},
   "outputs": [],
   "source": [
    "def __init__(self):\n",
    "    self.data = []"
   ]
  },
  {
   "cell_type": "markdown",
   "id": "b74f8d47",
   "metadata": {},
   "source": [
    "When a class defines an `~object.__init__` method, class instantiation\n",
    "automatically invokes `!__init__` for the newly created class instance.\n",
    "So in this example, a new, initialized instance can be obtained by:"
   ]
  },
  {
   "cell_type": "code",
   "execution_count": null,
   "id": "56022e4d",
   "metadata": {},
   "outputs": [],
   "source": [
    "x = MyClass()"
   ]
  },
  {
   "cell_type": "markdown",
   "id": "c32883a6",
   "metadata": {},
   "source": [
    "Of course, the `~object.__init__` method may have arguments for greater\n",
    "flexibility. In that case, arguments given to the class instantiation\n",
    "operator are passed on to `!__init__`. For example, :"
   ]
  },
  {
   "cell_type": "code",
   "execution_count": null,
   "id": "5ef793d8",
   "metadata": {},
   "outputs": [
    {
     "data": {
      "text/plain": [
       "(3.0, -4.5)"
      ]
     },
     "execution_count": 1,
     "metadata": {},
     "output_type": "execute_result"
    }
   ],
   "source": [
    "class Complex:\n",
    "    def __init__(self, realpart, imagpart):\n",
    "        self.r = realpart\n",
    "        self.i = imagpart\n",
    "\n",
    "x = Complex(3.0, -4.5)\n",
    "x.r, x.i"
   ]
  },
  {
   "cell_type": "markdown",
   "id": "237ca1fc",
   "metadata": {},
   "source": [
    "### Instance Objects\n",
    "\n",
    "Now what can we do with instance objects? The only operations understood\n",
    "by instance objects are attribute references. There are two kinds of\n",
    "valid attribute names: data attributes and methods.\n",
    "\n",
    "*data attributes* correspond to \"instance variables\" in Smalltalk, and\n",
    "to \"data members\" in C++. Data attributes need not be declared; like\n",
    "local variables, they spring into existence when they are first assigned\n",
    "to. For example, if `x` is the instance of `!MyClass` created above, the\n",
    "following piece of code will print the value `16`, without leaving a\n",
    "trace:"
   ]
  },
  {
   "cell_type": "code",
   "execution_count": null,
   "id": "36fd5937",
   "metadata": {},
   "outputs": [],
   "source": [
    "x.counter = 1\n",
    "while x.counter < 10:\n",
    "    x.counter = x.counter * 2\n",
    "print(x.counter)\n",
    "del x.counter"
   ]
  },
  {
   "cell_type": "markdown",
   "id": "286eeb68",
   "metadata": {},
   "source": [
    "The other kind of instance attribute reference is a *method*. A method\n",
    "is a function that \"belongs to\" an object.\n",
    "\n",
    "pair: object; method\n",
    "\n",
    "Valid method names of an instance object depend on its class. By\n",
    "definition, all attributes of a class that are function objects define\n",
    "corresponding methods of its instances. So in our example, `x.f` is a\n",
    "valid method reference, since `MyClass.f` is a function, but `x.i` is\n",
    "not, since `MyClass.i` is not. But `x.f` is not the same thing as\n",
    "`MyClass.f` --- it is a *method object*, not a function object.\n",
    "\n",
    "### Method Objects\n",
    "\n",
    "Usually, a method is called right after it is bound:"
   ]
  },
  {
   "cell_type": "code",
   "execution_count": null,
   "id": "b2907a63",
   "metadata": {},
   "outputs": [],
   "source": [
    "x.f()"
   ]
  },
  {
   "cell_type": "markdown",
   "id": "6ae24605",
   "metadata": {},
   "source": [
    "In the `!MyClass` example, this will return the string `'hello world'`.\n",
    "However, it is not necessary to call a method right away: `x.f` is a\n",
    "method object, and can be stored away and called at a later time. For\n",
    "example:"
   ]
  },
  {
   "cell_type": "code",
   "execution_count": null,
   "id": "0d96933e",
   "metadata": {},
   "outputs": [],
   "source": [
    "xf = x.f\n",
    "while True:\n",
    "    print(xf())"
   ]
  },
  {
   "cell_type": "markdown",
   "id": "bed00abb",
   "metadata": {},
   "source": [
    "will continue to print `hello world` until the end of time.\n",
    "\n",
    "What exactly happens when a method is called? You may have noticed that\n",
    "`x.f()` was called without an argument above, even though the function\n",
    "definition for `!f` specified an argument. What happened to the\n",
    "argument? Surely Python raises an exception when a function that\n",
    "requires an argument is called without any --- even if the argument\n",
    "isn't actually used...\n",
    "\n",
    "Actually, you may have guessed the answer: the special thing about\n",
    "methods is that the instance object is passed as the first argument of\n",
    "the function. In our example, the call `x.f()` is exactly equivalent to\n",
    "`MyClass.f(x)`. In general, calling a method with a list of *n*\n",
    "arguments is equivalent to calling the corresponding function with an\n",
    "argument list that is created by inserting the method's instance object\n",
    "before the first argument.\n",
    "\n",
    "In general, methods work as follows. When a non-data attribute of an\n",
    "instance is referenced, the instance's class is searched. If the name\n",
    "denotes a valid class attribute that is a function object, references to\n",
    "both the instance object and the function object are packed into a\n",
    "method object. When the method object is called with an argument list, a\n",
    "new argument list is constructed from the instance object and the\n",
    "argument list, and the function object is called with this new argument\n",
    "list.\n",
    "\n",
    "### Class and Instance Variables\n",
    "\n",
    "Generally speaking, instance variables are for data unique to each\n",
    "instance and class variables are for attributes and methods shared by\n",
    "all instances of the class:"
   ]
  },
  {
   "cell_type": "code",
   "execution_count": null,
   "id": "9ef7fd6e",
   "metadata": {},
   "outputs": [],
   "source": [
    "class Dog:\n",
    "\n",
    "    kind = 'canine'         # class variable shared by all instances\n",
    "\n",
    "    def __init__(self, name):\n",
    "        self.name = name    # instance variable unique to each instance"
   ]
  },
  {
   "cell_type": "code",
   "execution_count": null,
   "id": "d7ae3782",
   "metadata": {},
   "outputs": [
    {
     "data": {
      "text/plain": [
       "'canine'"
      ]
     },
     "execution_count": 1,
     "metadata": {},
     "output_type": "execute_result"
    }
   ],
   "source": [
    "d = Dog('Fido')\n",
    "e = Dog('Buddy')\n",
    "d.kind                  # shared by all dogs"
   ]
  },
  {
   "cell_type": "code",
   "execution_count": null,
   "id": "2bd9d2de",
   "metadata": {},
   "outputs": [
    {
     "data": {
      "text/plain": [
       "'canine'"
      ]
     },
     "execution_count": 1,
     "metadata": {},
     "output_type": "execute_result"
    }
   ],
   "source": [
    "e.kind                  # shared by all dogs"
   ]
  },
  {
   "cell_type": "code",
   "execution_count": null,
   "id": "e6a9c4ea",
   "metadata": {},
   "outputs": [
    {
     "data": {
      "text/plain": [
       "'Fido'"
      ]
     },
     "execution_count": 1,
     "metadata": {},
     "output_type": "execute_result"
    }
   ],
   "source": [
    "d.name                  # unique to d"
   ]
  },
  {
   "cell_type": "code",
   "execution_count": null,
   "id": "cafd3bbb",
   "metadata": {},
   "outputs": [
    {
     "data": {
      "text/plain": [
       "'Buddy'"
      ]
     },
     "execution_count": 1,
     "metadata": {},
     "output_type": "execute_result"
    }
   ],
   "source": [
    "e.name                  # unique to e"
   ]
  },
  {
   "cell_type": "markdown",
   "id": "5a1a994c",
   "metadata": {},
   "source": [
    "As discussed in [tut-object](tut-object.ipynb), shared data can have\n",
    "possibly surprising effects with involving `mutable` objects such as\n",
    "lists and dictionaries. For example, the *tricks* list in the following\n",
    "code should not be used as a class variable because just a single list\n",
    "would be shared by all *Dog* instances:"
   ]
  },
  {
   "cell_type": "code",
   "execution_count": null,
   "id": "f1abb5d6",
   "metadata": {},
   "outputs": [],
   "source": [
    "class Dog:\n",
    "\n",
    "    tricks = []             # mistaken use of a class variable\n",
    "\n",
    "    def __init__(self, name):\n",
    "        self.name = name\n",
    "\n",
    "    def add_trick(self, trick):\n",
    "        self.tricks.append(trick)"
   ]
  },
  {
   "cell_type": "code",
   "execution_count": null,
   "id": "01f96f09",
   "metadata": {},
   "outputs": [
    {
     "data": {
      "text/plain": [
       "['roll over', 'play dead']"
      ]
     },
     "execution_count": 1,
     "metadata": {},
     "output_type": "execute_result"
    }
   ],
   "source": [
    "d = Dog('Fido')\n",
    "e = Dog('Buddy')\n",
    "d.add_trick('roll over')\n",
    "e.add_trick('play dead')\n",
    "d.tricks                # unexpectedly shared by all dogs"
   ]
  },
  {
   "cell_type": "markdown",
   "id": "2b24e60a",
   "metadata": {},
   "source": [
    "Correct design of the class should use an instance variable instead:"
   ]
  },
  {
   "cell_type": "code",
   "execution_count": null,
   "id": "b3913e07",
   "metadata": {},
   "outputs": [],
   "source": [
    "class Dog:\n",
    "\n",
    "    def __init__(self, name):\n",
    "        self.name = name\n",
    "        self.tricks = []    # creates a new empty list for each dog\n",
    "\n",
    "    def add_trick(self, trick):\n",
    "        self.tricks.append(trick)"
   ]
  },
  {
   "cell_type": "code",
   "execution_count": null,
   "id": "e171a325",
   "metadata": {},
   "outputs": [
    {
     "data": {
      "text/plain": [
       "['roll over']"
      ]
     },
     "execution_count": 1,
     "metadata": {},
     "output_type": "execute_result"
    }
   ],
   "source": [
    "d = Dog('Fido')\n",
    "e = Dog('Buddy')\n",
    "d.add_trick('roll over')\n",
    "e.add_trick('play dead')\n",
    "d.tricks"
   ]
  },
  {
   "cell_type": "code",
   "execution_count": null,
   "id": "95bce4ca",
   "metadata": {},
   "outputs": [
    {
     "data": {
      "text/plain": [
       "['play dead']"
      ]
     },
     "execution_count": 1,
     "metadata": {},
     "output_type": "execute_result"
    }
   ],
   "source": [
    "e.tricks"
   ]
  },
  {
   "cell_type": "markdown",
   "id": "0bdf5780",
   "metadata": {},
   "source": [
    "## Random Remarks\n",
    "\n",
    "If the same attribute name occurs in both an instance and in a class,\n",
    "then attribute lookup prioritizes the instance:"
   ]
  },
  {
   "cell_type": "code",
   "execution_count": null,
   "id": "2db855ce",
   "metadata": {},
   "outputs": [
    {
     "data": {
      "text/plain": [
       "storage west"
      ]
     },
     "execution_count": 1,
     "metadata": {},
     "output_type": "execute_result"
    }
   ],
   "source": [
    "class Warehouse:\n",
    "   purpose = 'storage'\n",
    "   region = 'west'\n",
    "\n",
    "w1 = Warehouse()\n",
    "print(w1.purpose, w1.region)"
   ]
  },
  {
   "cell_type": "code",
   "execution_count": null,
   "id": "6d382198",
   "metadata": {},
   "outputs": [
    {
     "data": {
      "text/plain": [
       "storage east"
      ]
     },
     "execution_count": 1,
     "metadata": {},
     "output_type": "execute_result"
    }
   ],
   "source": [
    "w2 = Warehouse()\n",
    "w2.region = 'east'\n",
    "print(w2.purpose, w2.region)"
   ]
  },
  {
   "cell_type": "markdown",
   "id": "077e9ea7",
   "metadata": {},
   "source": [
    "Data attributes may be referenced by methods as well as by ordinary\n",
    "users (\"clients\") of an object. In other words, classes are not usable\n",
    "to implement pure abstract data types. In fact, nothing in Python makes\n",
    "it possible to enforce data hiding --- it is all based upon convention.\n",
    "(On the other hand, the Python implementation, written in C, can\n",
    "completely hide implementation details and control access to an object\n",
    "if necessary; this can be used by extensions to Python written in C.)\n",
    "\n",
    "Clients should use data attributes with care --- clients may mess up\n",
    "invariants maintained by the methods by stamping on their data\n",
    "attributes. Note that clients may add data attributes of their own to an\n",
    "instance object without affecting the validity of the methods, as long\n",
    "as name conflicts are avoided ---again, a naming convention can save a\n",
    "lot of headaches here.\n",
    "\n",
    "There is no shorthand for referencing data attributes (or other\n",
    "methods!) from within methods. I find that this actually increases the\n",
    "readability of methods: there is no chance of confusing local variables\n",
    "and instance variables when glancing through a method.\n",
    "\n",
    "Often, the first argument of a method is called `self`. This is nothing\n",
    "more than a convention: the name `self` has absolutely no special\n",
    "meaning to Python. Note, however, that by not following the convention\n",
    "your code may be less readable to other Python programmers, and it is\n",
    "also conceivable that a *class browser* program might be written that\n",
    "relies upon such a convention.\n",
    "\n",
    "Any function object that is a class attribute defines a method for\n",
    "instances of that class. It is not necessary that the function\n",
    "definition is textually enclosed in the class definition: assigning a\n",
    "function object to a local variable in the class is also ok. For\n",
    "example:"
   ]
  },
  {
   "cell_type": "code",
   "execution_count": null,
   "id": "948bc791",
   "metadata": {},
   "outputs": [],
   "source": [
    "# Function defined outside the class\n",
    "def f1(self, x, y):\n",
    "    return min(x, x+y)\n",
    "\n",
    "class C:\n",
    "    f = f1\n",
    "\n",
    "    def g(self):\n",
    "        return 'hello world'\n",
    "\n",
    "    h = g"
   ]
  },
  {
   "cell_type": "markdown",
   "id": "f3f2739e",
   "metadata": {},
   "source": [
    "Now `f`, `g` and `h` are all attributes of class `!C` that refer to\n",
    "function objects, and consequently they are all methods of instances of\n",
    "`!C` --- `h` being exactly equivalent to `g`. Note that this practice\n",
    "usually only serves to confuse the reader of a program.\n",
    "\n",
    "Methods may call other methods by using method attributes of the `self`\n",
    "argument:"
   ]
  },
  {
   "cell_type": "code",
   "execution_count": null,
   "id": "23a66ced",
   "metadata": {},
   "outputs": [],
   "source": [
    "class Bag:\n",
    "    def __init__(self):\n",
    "        self.data = []\n",
    "\n",
    "    def add(self, x):\n",
    "        self.data.append(x)\n",
    "\n",
    "    def addtwice(self, x):\n",
    "        self.add(x)\n",
    "        self.add(x)"
   ]
  },
  {
   "cell_type": "markdown",
   "id": "4081beb8",
   "metadata": {},
   "source": [
    "Methods may reference global names in the same way as ordinary\n",
    "functions. The global scope associated with a method is the module\n",
    "containing its definition. (A class is never used as a global scope.)\n",
    "While one rarely encounters a good reason for using global data in a\n",
    "method, there are many legitimate uses of the global scope: for one\n",
    "thing, functions and modules imported into the global scope can be used\n",
    "by methods, as well as functions and classes defined in it. Usually, the\n",
    "class containing the method is itself defined in this global scope, and\n",
    "in the next section we'll find some good reasons why a method would want\n",
    "to reference its own class.\n",
    "\n",
    "Each value is an object, and therefore has a *class* (also called its\n",
    "*type*). It is stored as `object.__class__`.\n",
    "\n",
    "## Inheritance\n",
    "\n",
    "Of course, a language feature would not be worthy of the name \"class\"\n",
    "without supporting inheritance. The syntax for a derived class\n",
    "definition looks like this:"
   ]
  },
  {
   "cell_type": "code",
   "execution_count": null,
   "id": "26beee44",
   "metadata": {},
   "outputs": [],
   "source": [
    "class DerivedClassName(BaseClassName):\n",
    "    <statement-1>\n",
    "    .\n",
    "    .\n",
    "    .\n",
    "    <statement-N>"
   ]
  },
  {
   "cell_type": "markdown",
   "id": "c7879a35",
   "metadata": {},
   "source": [
    "The name `!BaseClassName` must be defined in a namespace accessible from\n",
    "the scope containing the derived class definition. In place of a base\n",
    "class name, other arbitrary expressions are also allowed. This can be\n",
    "useful, for example, when the base class is defined in another module:"
   ]
  },
  {
   "cell_type": "code",
   "execution_count": null,
   "id": "4b128252",
   "metadata": {},
   "outputs": [],
   "source": [
    "class DerivedClassName(modname.BaseClassName):"
   ]
  },
  {
   "cell_type": "markdown",
   "id": "350b86c3",
   "metadata": {},
   "source": [
    "Execution of a derived class definition proceeds the same as for a base\n",
    "class. When the class object is constructed, the base class is\n",
    "remembered. This is used for resolving attribute references: if a\n",
    "requested attribute is not found in the class, the search proceeds to\n",
    "look in the base class. This rule is applied recursively if the base\n",
    "class itself is derived from some other class.\n",
    "\n",
    "There's nothing special about instantiation of derived classes:\n",
    "`DerivedClassName()` creates a new instance of the class. Method\n",
    "references are resolved as follows: the corresponding class attribute is\n",
    "searched, descending down the chain of base classes if necessary, and\n",
    "the method reference is valid if this yields a function object.\n",
    "\n",
    "Derived classes may override methods of their base classes. Because\n",
    "methods have no special privileges when calling other methods of the\n",
    "same object, a method of a base class that calls another method defined\n",
    "in the same base class may end up calling a method of a derived class\n",
    "that overrides it. (For C++ programmers: all methods in Python are\n",
    "effectively `virtual`.)\n",
    "\n",
    "An overriding method in a derived class may in fact want to extend\n",
    "rather than simply replace the base class method of the same name. There\n",
    "is a simple way to call the base class method directly: just call\n",
    "`BaseClassName.methodname(self, arguments)`. This is occasionally useful\n",
    "to clients as well. (Note that this only works if the base class is\n",
    "accessible as `BaseClassName` in the global scope.)\n",
    "\n",
    "Python has two built-in functions that work with inheritance:\n",
    "\n",
    "-   Use `isinstance` to check an instance's type: `isinstance(obj, int)`\n",
    "    will be `True` only if `obj.__class__` is `int` or some class\n",
    "    derived from `int`.\n",
    "-   Use `issubclass` to check class inheritance: `issubclass(bool, int)`\n",
    "    is `True` since `bool` is a subclass of `int`. However,\n",
    "    `issubclass(float, int)` is `False` since `float` is not a subclass\n",
    "    of `int`.\n",
    "\n",
    "### Multiple Inheritance\n",
    "\n",
    "Python supports a form of multiple inheritance as well. A class\n",
    "definition with multiple base classes looks like this:"
   ]
  },
  {
   "cell_type": "code",
   "execution_count": null,
   "id": "9ea6aa96",
   "metadata": {},
   "outputs": [],
   "source": [
    "class DerivedClassName(Base1, Base2, Base3):\n",
    "    <statement-1>\n",
    "    .\n",
    "    .\n",
    "    .\n",
    "    <statement-N>"
   ]
  },
  {
   "cell_type": "markdown",
   "id": "9d9d8559",
   "metadata": {},
   "source": [
    "For most purposes, in the simplest cases, you can think of the search\n",
    "for attributes inherited from a parent class as depth-first,\n",
    "left-to-right, not searching twice in the same class where there is an\n",
    "overlap in the hierarchy. Thus, if an attribute is not found in\n",
    "`!DerivedClassName`, it is searched for in `!Base1`, then (recursively)\n",
    "in the base classes of `!Base1`, and if it was not found there, it was\n",
    "searched for in `!Base2`, and so on.\n",
    "\n",
    "In fact, it is slightly more complex than that; the method resolution\n",
    "order changes dynamically to support cooperative calls to `super`. This\n",
    "approach is known in some other multiple-inheritance languages as\n",
    "call-next-method and is more powerful than the super call found in\n",
    "single-inheritance languages.\n",
    "\n",
    "Dynamic ordering is necessary because all cases of multiple inheritance\n",
    "exhibit one or more diamond relationships (where at least one of the\n",
    "parent classes can be accessed through multiple paths from the\n",
    "bottommost class). For example, all classes inherit from `object`, so\n",
    "any case of multiple inheritance provides more than one path to reach\n",
    "`object`. To keep the base classes from being accessed more than once,\n",
    "the dynamic algorithm linearizes the search order in a way that\n",
    "preserves the left-to-right ordering specified in each class, that calls\n",
    "each parent only once, and that is monotonic (meaning that a class can\n",
    "be subclassed without affecting the precedence order of its parents).\n",
    "Taken together, these properties make it possible to design reliable and\n",
    "extensible classes with multiple inheritance. For more detail, see\n",
    "`python_2.3_mro`.\n",
    "\n",
    "## Private Variables\n",
    "\n",
    "\"Private\" instance variables that cannot be accessed except from inside\n",
    "an object don't exist in Python. However, there is a convention that is\n",
    "followed by most Python code: a name prefixed with an underscore (e.g.\n",
    "`_spam`) should be treated as a non-public part of the API (whether it\n",
    "is a function, a method or a data member). It should be considered an\n",
    "implementation detail and subject to change without notice.\n",
    "\n",
    "pair: name; mangling\n",
    "\n",
    "Since there is a valid use-case for class-private members (namely to\n",
    "avoid name clashes of names with names defined by subclasses), there is\n",
    "limited support for such a mechanism, called `name mangling`. Any\n",
    "identifier of the form `__spam` (at least two leading underscores, at\n",
    "most one trailing underscore) is textually replaced with\n",
    "`_classname__spam`, where `classname` is the current class name with\n",
    "leading underscore(s) stripped. This mangling is done without regard to\n",
    "the syntactic position of the identifier, as long as it occurs within\n",
    "the definition of a class.\n",
    "\n",
    "The [private name mangling specifications](private-name-mangling.ipynb)\n",
    "for details and special cases.\n",
    "\n",
    "Name mangling is helpful for letting subclasses override methods without\n",
    "breaking intraclass method calls. For example:"
   ]
  },
  {
   "cell_type": "code",
   "execution_count": null,
   "id": "17c09bc4",
   "metadata": {},
   "outputs": [],
   "source": [
    "class Mapping:\n",
    "    def __init__(self, iterable):\n",
    "        self.items_list = []\n",
    "        self.__update(iterable)\n",
    "\n",
    "    def update(self, iterable):\n",
    "        for item in iterable:\n",
    "            self.items_list.append(item)\n",
    "\n",
    "    __update = update   # private copy of original update() method\n",
    "\n",
    "class MappingSubclass(Mapping):\n",
    "\n",
    "    def update(self, keys, values):\n",
    "        # provides new signature for update()\n",
    "        # but does not break __init__()\n",
    "        for item in zip(keys, values):\n",
    "            self.items_list.append(item)"
   ]
  },
  {
   "cell_type": "markdown",
   "id": "ec417592",
   "metadata": {},
   "source": [
    "The above example would work even if `MappingSubclass` were to introduce\n",
    "a `__update` identifier since it is replaced with `_Mapping__update` in\n",
    "the `Mapping` class and `_MappingSubclass__update` in the\n",
    "`MappingSubclass` class respectively.\n",
    "\n",
    "Note that the mangling rules are designed mostly to avoid accidents; it\n",
    "still is possible to access or modify a variable that is considered\n",
    "private. This can even be useful in special circumstances, such as in\n",
    "the debugger.\n",
    "\n",
    "Notice that code passed to `exec()` or `eval()` does not consider the\n",
    "classname of the invoking class to be the current class; this is similar\n",
    "to the effect of the `global` statement, the effect of which is likewise\n",
    "restricted to code that is byte-compiled together. The same restriction\n",
    "applies to `getattr()`, `setattr()` and `delattr()`, as well as when\n",
    "referencing `__dict__` directly.\n",
    "\n",
    "## Odds and Ends\n",
    "\n",
    "Sometimes it is useful to have a data type similar to the Pascal\n",
    "\"record\" or C \"struct\", bundling together a few named data items. The\n",
    "idiomatic approach is to use `dataclasses` for this purpose:"
   ]
  },
  {
   "cell_type": "code",
   "execution_count": null,
   "id": "d13090d5",
   "metadata": {},
   "outputs": [],
   "source": [
    "from dataclasses import dataclass\n",
    "\n",
    "@dataclass\n",
    "class Employee:\n",
    "    name: str\n",
    "    dept: str\n",
    "    salary: int"
   ]
  },
  {
   "cell_type": "code",
   "execution_count": null,
   "id": "d2e33090",
   "metadata": {},
   "outputs": [
    {
     "data": {
      "text/plain": [
       "'computer lab'"
      ]
     },
     "execution_count": 1,
     "metadata": {},
     "output_type": "execute_result"
    }
   ],
   "source": [
    "john = Employee('john', 'computer lab', 1000)\n",
    "john.dept"
   ]
  },
  {
   "cell_type": "code",
   "execution_count": null,
   "id": "c2953feb",
   "metadata": {},
   "outputs": [
    {
     "data": {
      "text/plain": [
       "1000"
      ]
     },
     "execution_count": 1,
     "metadata": {},
     "output_type": "execute_result"
    }
   ],
   "source": [
    "john.salary"
   ]
  },
  {
   "cell_type": "markdown",
   "id": "55a58af6",
   "metadata": {},
   "source": [
    "A piece of Python code that expects a particular abstract data type can\n",
    "often be passed a class that emulates the methods of that data type\n",
    "instead. For instance, if you have a function that formats some data\n",
    "from a file object, you can define a class with methods\n",
    "`~io.TextIOBase.read` and `~io.TextIOBase.readline` that get the data\n",
    "from a string buffer instead, and pass it as an argument.\n",
    "\n",
    "[Instance method objects](instance-methods.ipynb) have attributes, too:\n",
    "`m.__self__ <method.__self__>` is the instance object with the method\n",
    "`!m`, and `m.__func__ <method.__func__>` is the [function\n",
    "object](user-defined-funcs.ipynb) corresponding to the method.\n",
    "\n",
    "## Iterators\n",
    "\n",
    "By now you have probably noticed that most container objects can be\n",
    "looped over using a `for` statement:"
   ]
  },
  {
   "cell_type": "code",
   "execution_count": null,
   "id": "acfbe330",
   "metadata": {},
   "outputs": [],
   "source": [
    "for element in [1, 2, 3]:\n",
    "    print(element)\n",
    "for element in (1, 2, 3):\n",
    "    print(element)\n",
    "for key in {'one':1, 'two':2}:\n",
    "    print(key)\n",
    "for char in \"123\":\n",
    "    print(char)\n",
    "for line in open(\"myfile.txt\"):\n",
    "    print(line, end='')"
   ]
  },
  {
   "cell_type": "markdown",
   "id": "14b9c1dc",
   "metadata": {},
   "source": [
    "This style of access is clear, concise, and convenient. The use of\n",
    "iterators pervades and unifies Python. Behind the scenes, the `for`\n",
    "statement calls `iter` on the container object. The function returns an\n",
    "iterator object that defines the method `~iterator.__next__` which\n",
    "accesses elements in the container one at a time. When there are no more\n",
    "elements, `~iterator.__next__` raises a `StopIteration` exception which\n",
    "tells the `!for` loop to terminate. You can call the\n",
    "`~iterator.__next__` method using the `next` built-in function; this\n",
    "example shows how it all works:"
   ]
  },
  {
   "cell_type": "code",
   "execution_count": null,
   "id": "ec0afa58",
   "metadata": {},
   "outputs": [
    {
     "data": {
      "text/plain": [
       "<str_iterator object at 0x10c90e650>"
      ]
     },
     "execution_count": 1,
     "metadata": {},
     "output_type": "execute_result"
    }
   ],
   "source": [
    "s = 'abc'\n",
    "it = iter(s)\n",
    "it"
   ]
  },
  {
   "cell_type": "code",
   "execution_count": null,
   "id": "88904d31",
   "metadata": {},
   "outputs": [
    {
     "data": {
      "text/plain": [
       "'a'"
      ]
     },
     "execution_count": 1,
     "metadata": {},
     "output_type": "execute_result"
    }
   ],
   "source": [
    "next(it)"
   ]
  },
  {
   "cell_type": "code",
   "execution_count": null,
   "id": "623f7f93",
   "metadata": {},
   "outputs": [
    {
     "data": {
      "text/plain": [
       "'b'"
      ]
     },
     "execution_count": 1,
     "metadata": {},
     "output_type": "execute_result"
    }
   ],
   "source": [
    "next(it)"
   ]
  },
  {
   "cell_type": "code",
   "execution_count": null,
   "id": "d15be461",
   "metadata": {},
   "outputs": [
    {
     "data": {
      "text/plain": [
       "'c'"
      ]
     },
     "execution_count": 1,
     "metadata": {},
     "output_type": "execute_result"
    }
   ],
   "source": [
    "next(it)"
   ]
  },
  {
   "cell_type": "code",
   "execution_count": null,
   "id": "77850c81",
   "metadata": {},
   "outputs": [
    {
     "data": {
      "text/plain": [
       "Traceback (most recent call last):\n",
       "  File \"<stdin>\", line 1, in <module>\n",
       "    next(it)\n",
       "StopIteration"
      ]
     },
     "execution_count": 1,
     "metadata": {},
     "output_type": "execute_result"
    }
   ],
   "source": [
    "next(it)"
   ]
  },
  {
   "cell_type": "markdown",
   "id": "6ad791ad",
   "metadata": {},
   "source": [
    "Having seen the mechanics behind the iterator protocol, it is easy to\n",
    "add iterator behavior to your classes. Define an `~container.__iter__`\n",
    "method which returns an object with a `~iterator.__next__` method. If\n",
    "the class defines `!__next__`, then `!__iter__` can just return `self` :"
   ]
  },
  {
   "cell_type": "code",
   "execution_count": null,
   "id": "f3cf262a",
   "metadata": {},
   "outputs": [],
   "source": [
    "class Reverse:\n",
    "    \"\"\"Iterator for looping over a sequence backwards.\"\"\"\n",
    "    def __init__(self, data):\n",
    "        self.data = data\n",
    "        self.index = len(data)\n",
    "\n",
    "    def __iter__(self):\n",
    "        return self\n",
    "\n",
    "    def __next__(self):\n",
    "        if self.index == 0:\n",
    "            raise StopIteration\n",
    "        self.index = self.index - 1\n",
    "        return self.data[self.index]"
   ]
  },
  {
   "cell_type": "code",
   "execution_count": null,
   "id": "78265080",
   "metadata": {},
   "outputs": [
    {
     "data": {
      "text/plain": [
       "<__main__.Reverse object at 0x00A1DB50>"
      ]
     },
     "execution_count": 1,
     "metadata": {},
     "output_type": "execute_result"
    }
   ],
   "source": [
    "rev = Reverse('spam')\n",
    "iter(rev)"
   ]
  },
  {
   "cell_type": "code",
   "execution_count": null,
   "id": "79e8f62f",
   "metadata": {},
   "outputs": [
    {
     "data": {
      "text/plain": [
       "m\n",
       "a\n",
       "p\n",
       "s"
      ]
     },
     "execution_count": 1,
     "metadata": {},
     "output_type": "execute_result"
    }
   ],
   "source": [
    "for char in rev:\n",
    "    print(char)"
   ]
  },
  {
   "cell_type": "markdown",
   "id": "512494a4",
   "metadata": {},
   "source": [
    "## Generators\n",
    "\n",
    "`Generators <generator>` are a simple and powerful tool for creating\n",
    "iterators. They are written like regular functions but use the `yield`\n",
    "statement whenever they want to return data. Each time `next` is called\n",
    "on it, the generator resumes where it left off (it remembers all the\n",
    "data values and which statement was last executed). An example shows\n",
    "that generators can be trivially easy to create:"
   ]
  },
  {
   "cell_type": "code",
   "execution_count": null,
   "id": "6c246f3b",
   "metadata": {},
   "outputs": [],
   "source": [
    "def reverse(data):\n",
    "    for index in range(len(data)-1, -1, -1):\n",
    "        yield data[index]"
   ]
  },
  {
   "cell_type": "code",
   "execution_count": null,
   "id": "3753b0c8",
   "metadata": {},
   "outputs": [
    {
     "data": {
      "text/plain": [
       "f\n",
       "l\n",
       "o\n",
       "g"
      ]
     },
     "execution_count": 1,
     "metadata": {},
     "output_type": "execute_result"
    }
   ],
   "source": [
    "for char in reverse('golf'):\n",
    "    print(char)"
   ]
  },
  {
   "cell_type": "markdown",
   "id": "cdd39b3a",
   "metadata": {},
   "source": [
    "Anything that can be done with generators can also be done with\n",
    "class-based iterators as described in the previous section. What makes\n",
    "generators so compact is that the `~iterator.__iter__` and\n",
    "`~generator.__next__` methods are created automatically.\n",
    "\n",
    "Another key feature is that the local variables and execution state are\n",
    "automatically saved between calls. This made the function easier to\n",
    "write and much more clear than an approach using instance variables like\n",
    "`self.index` and `self.data`.\n",
    "\n",
    "In addition to automatic method creation and saving program state, when\n",
    "generators terminate, they automatically raise `StopIteration`. In\n",
    "combination, these features make it easy to create iterators with no\n",
    "more effort than writing a regular function.\n",
    "\n",
    "## Generator Expressions\n",
    "\n",
    "Some simple generators can be coded succinctly as expressions using a\n",
    "syntax similar to list comprehensions but with parentheses instead of\n",
    "square brackets. These expressions are designed for situations where the\n",
    "generator is used right away by an enclosing function. Generator\n",
    "expressions are more compact but less versatile than full generator\n",
    "definitions and tend to be more memory friendly than equivalent list\n",
    "comprehensions.\n",
    "\n",
    "Examples:"
   ]
  },
  {
   "cell_type": "code",
   "execution_count": null,
   "id": "5e22cce4",
   "metadata": {},
   "outputs": [
    {
     "data": {
      "text/plain": [
       "285\n"
      ]
     },
     "execution_count": 1,
     "metadata": {},
     "output_type": "execute_result"
    }
   ],
   "source": [
    "sum(i*i for i in range(10))                 # sum of squares"
   ]
  },
  {
   "cell_type": "code",
   "execution_count": null,
   "id": "7621dfce",
   "metadata": {},
   "outputs": [
    {
     "data": {
      "text/plain": [
       "260\n"
      ]
     },
     "execution_count": 1,
     "metadata": {},
     "output_type": "execute_result"
    }
   ],
   "source": [
    "xvec = [10, 20, 30]\n",
    "yvec = [7, 5, 3]\n",
    "sum(x*y for x,y in zip(xvec, yvec))         # dot product"
   ]
  },
  {
   "cell_type": "code",
   "execution_count": null,
   "id": "e464a963",
   "metadata": {},
   "outputs": [],
   "source": [
    "unique_words = set(word for line in page  for word in line.split())"
   ]
  },
  {
   "cell_type": "code",
   "execution_count": null,
   "id": "408c5cdb",
   "metadata": {},
   "outputs": [],
   "source": [
    "valedictorian = max((student.gpa, student.name) for student in graduates)"
   ]
  },
  {
   "cell_type": "code",
   "execution_count": null,
   "id": "84547d82",
   "metadata": {},
   "outputs": [
    {
     "data": {
      "text/plain": [
       "['f', 'l', 'o', 'g']"
      ]
     },
     "execution_count": 1,
     "metadata": {},
     "output_type": "execute_result"
    }
   ],
   "source": [
    "data = 'golf'\n",
    "list(data[i] for i in range(len(data)-1, -1, -1))"
   ]
  },
  {
   "cell_type": "markdown",
   "id": "272dae2b",
   "metadata": {},
   "source": [
    "**Footnotes**\n",
    "\n",
    "[1] Except for one thing. Module objects have a secret read-only\n",
    "attribute called `~object.__dict__` which returns the dictionary used to\n",
    "implement the module's namespace; the name `~object.__dict__` is an\n",
    "attribute but not a global name. Obviously, using this violates the\n",
    "abstraction of namespace implementation, and should be restricted to\n",
    "things like post-mortem debuggers."
   ]
  }
 ],
 "metadata": {},
 "nbformat": 4,
 "nbformat_minor": 5
}
