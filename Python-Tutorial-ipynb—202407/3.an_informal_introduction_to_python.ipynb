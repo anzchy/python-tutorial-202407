{
 "cells": [
  {
   "cell_type": "markdown",
   "id": "b0cd4e77",
   "metadata": {},
   "source": [
    "$$\n",
    "\\def\\CC{\\bf C}\n",
    "\\def\\QQ{\\bf Q}\n",
    "\\def\\RR{\\bf R}\n",
    "\\def\\ZZ{\\bf Z}\n",
    "\\def\\NN{\\bf N}\n",
    "$$\n",
    "# An Informal Introduction to Python\n",
    "\n",
    "In the following examples, input and output are distinguished by the\n",
    "presence or absence of prompts (`>>>` and `...`): to repeat the example,\n",
    "you must type everything after the prompt, when the prompt appears;\n",
    "lines that do not begin with a prompt are output from the interpreter.\n",
    "Note that a secondary prompt on a line by itself in an example means you\n",
    "must type a blank line; this is used to end a multi-line command.\n",
    "\n",
    "html\n",
    "\n",
    "You can toggle the display of prompts and output by clicking on `>>>` in\n",
    "the upper-right corner of an example box. If you hide the prompts and\n",
    "output for an example, then you can easily copy and paste the input\n",
    "lines into your interpreter.\n",
    "\n",
    "single: \\# (hash); comment\n",
    "\n",
    "Many of the examples in this manual, even those entered at the\n",
    "interactive prompt, include comments. Comments in Python start with the\n",
    "hash character, `#`, and extend to the end of the physical line. A\n",
    "comment may appear at the start of a line or following whitespace or\n",
    "code, but not within a string literal. A hash character within a string\n",
    "literal is just a hash character. Since comments are to clarify code and\n",
    "are not interpreted by Python, they may be omitted when typing in\n",
    "examples.\n",
    "\n",
    "Some examples:"
   ]
  },
  {
   "cell_type": "code",
   "execution_count": null,
   "id": "00b1d290",
   "metadata": {},
   "outputs": [],
   "source": [
    "# this is the first comment\n",
    "spam = 1  # and this is the second comment\n",
    "          # ... and now a third!\n",
    "text = \"# This is not a comment because it's inside quotes.\""
   ]
  },
  {
   "cell_type": "markdown",
   "id": "58a28bb8",
   "metadata": {},
   "source": [
    "## Using Python as a Calculator\n",
    "\n",
    "Let's try some simple Python commands. Start the interpreter and wait\n",
    "for the primary prompt, `>>>`. (It shouldn't take long.)\n",
    "\n",
    "### Numbers\n",
    "\n",
    "The interpreter acts as a simple calculator: you can type an expression\n",
    "at it and it will write the value. Expression syntax is straightforward:\n",
    "the operators `+`, `-`, `*` and `/` can be used to perform arithmetic;\n",
    "parentheses (`()`) can be used for grouping. For example:"
   ]
  },
  {
   "cell_type": "code",
   "execution_count": null,
   "id": "74842524",
   "metadata": {},
   "outputs": [
    {
     "data": {
      "text/plain": [
       "4"
      ]
     },
     "execution_count": 1,
     "metadata": {},
     "output_type": "execute_result"
    }
   ],
   "source": [
    "2 + 2"
   ]
  },
  {
   "cell_type": "code",
   "execution_count": null,
   "id": "8dc3b087",
   "metadata": {},
   "outputs": [
    {
     "data": {
      "text/plain": [
       "20"
      ]
     },
     "execution_count": 1,
     "metadata": {},
     "output_type": "execute_result"
    }
   ],
   "source": [
    "50 - 5*6"
   ]
  },
  {
   "cell_type": "code",
   "execution_count": null,
   "id": "7f3bc770",
   "metadata": {},
   "outputs": [
    {
     "data": {
      "text/plain": [
       "5.0"
      ]
     },
     "execution_count": 1,
     "metadata": {},
     "output_type": "execute_result"
    }
   ],
   "source": [
    "(50 - 5*6) / 4"
   ]
  },
  {
   "cell_type": "code",
   "execution_count": null,
   "id": "bee93a5a",
   "metadata": {},
   "outputs": [
    {
     "data": {
      "text/plain": [
       "1.6"
      ]
     },
     "execution_count": 1,
     "metadata": {},
     "output_type": "execute_result"
    }
   ],
   "source": [
    "8 / 5  # division always returns a floating-point number"
   ]
  },
  {
   "cell_type": "markdown",
   "id": "482950fd",
   "metadata": {},
   "source": [
    "The integer numbers (e.g. `2`, `4`, `20`) have type `int`, the ones with\n",
    "a fractional part (e.g. `5.0`, `1.6`) have type `float`. We will see\n",
    "more about numeric types later in the tutorial.\n",
    "\n",
    "Division (`/`) always returns a float. To do `floor division` and get an\n",
    "integer result you can use the `//` operator; to calculate the remainder\n",
    "you can use `%` :"
   ]
  },
  {
   "cell_type": "code",
   "execution_count": null,
   "id": "cd6cc64a",
   "metadata": {},
   "outputs": [
    {
     "data": {
      "text/plain": [
       "5.666666666666667\n",
       ">>>"
      ]
     },
     "execution_count": 1,
     "metadata": {},
     "output_type": "execute_result"
    }
   ],
   "source": [
    "17 / 3  # classic division returns a float"
   ]
  },
  {
   "cell_type": "code",
   "execution_count": null,
   "id": "74aecad0",
   "metadata": {},
   "outputs": [
    {
     "data": {
      "text/plain": [
       "5"
      ]
     },
     "execution_count": 1,
     "metadata": {},
     "output_type": "execute_result"
    }
   ],
   "source": [
    "17 // 3  # floor division discards the fractional part"
   ]
  },
  {
   "cell_type": "code",
   "execution_count": null,
   "id": "ad682c7a",
   "metadata": {},
   "outputs": [
    {
     "data": {
      "text/plain": [
       "2"
      ]
     },
     "execution_count": 1,
     "metadata": {},
     "output_type": "execute_result"
    }
   ],
   "source": [
    "17 % 3  # the % operator returns the remainder of the division"
   ]
  },
  {
   "cell_type": "code",
   "execution_count": null,
   "id": "f621793e",
   "metadata": {},
   "outputs": [
    {
     "data": {
      "text/plain": [
       "17"
      ]
     },
     "execution_count": 1,
     "metadata": {},
     "output_type": "execute_result"
    }
   ],
   "source": [
    "5 * 3 + 2  # floored quotient * divisor + remainder"
   ]
  },
  {
   "cell_type": "markdown",
   "id": "cdf66436",
   "metadata": {},
   "source": [
    "With Python, it is possible to use the `**` operator to calculate\n",
    "powers[1]:"
   ]
  },
  {
   "cell_type": "code",
   "execution_count": null,
   "id": "95a20f44",
   "metadata": {},
   "outputs": [
    {
     "data": {
      "text/plain": [
       "25"
      ]
     },
     "execution_count": 1,
     "metadata": {},
     "output_type": "execute_result"
    }
   ],
   "source": [
    "5 ** 2  # 5 squared"
   ]
  },
  {
   "cell_type": "code",
   "execution_count": null,
   "id": "39b8890d",
   "metadata": {},
   "outputs": [
    {
     "data": {
      "text/plain": [
       "128"
      ]
     },
     "execution_count": 1,
     "metadata": {},
     "output_type": "execute_result"
    }
   ],
   "source": [
    "2 ** 7  # 2 to the power of 7"
   ]
  },
  {
   "cell_type": "markdown",
   "id": "fb070dc6",
   "metadata": {},
   "source": [
    "The equal sign (`=`) is used to assign a value to a variable.\n",
    "Afterwards, no result is displayed before the next interactive prompt:"
   ]
  },
  {
   "cell_type": "code",
   "execution_count": null,
   "id": "4150c28c",
   "metadata": {},
   "outputs": [
    {
     "data": {
      "text/plain": [
       "900"
      ]
     },
     "execution_count": 1,
     "metadata": {},
     "output_type": "execute_result"
    }
   ],
   "source": [
    "width = 20\n",
    "height = 5 * 9\n",
    "width * height"
   ]
  },
  {
   "cell_type": "markdown",
   "id": "7b9cc214",
   "metadata": {},
   "source": [
    "If a variable is not \"defined\" (assigned a value), trying to use it will\n",
    "give you an error:"
   ]
  },
  {
   "cell_type": "code",
   "execution_count": null,
   "id": "d53cf23c",
   "metadata": {},
   "outputs": [
    {
     "data": {
      "text/plain": [
       "Traceback (most recent call last):\n",
       "  File \"<stdin>\", line 1, in <module>\n",
       "NameError: name 'n' is not defined"
      ]
     },
     "execution_count": 1,
     "metadata": {},
     "output_type": "execute_result"
    }
   ],
   "source": [
    "n  # try to access an undefined variable"
   ]
  },
  {
   "cell_type": "markdown",
   "id": "b6c316be",
   "metadata": {},
   "source": [
    "There is full support for floating point; operators with mixed type\n",
    "operands convert the integer operand to floating point:"
   ]
  },
  {
   "cell_type": "code",
   "execution_count": null,
   "id": "351d01c5",
   "metadata": {},
   "outputs": [
    {
     "data": {
      "text/plain": [
       "14.0"
      ]
     },
     "execution_count": 1,
     "metadata": {},
     "output_type": "execute_result"
    }
   ],
   "source": [
    "4 * 3.75 - 1"
   ]
  },
  {
   "cell_type": "markdown",
   "id": "96ff42f5",
   "metadata": {},
   "source": [
    "In interactive mode, the last printed expression is assigned to the\n",
    "variable `_`. This means that when you are using Python as a desk\n",
    "calculator, it is somewhat easier to continue calculations, for example:"
   ]
  },
  {
   "cell_type": "code",
   "execution_count": null,
   "id": "4eb4c324",
   "metadata": {},
   "outputs": [
    {
     "data": {
      "text/plain": [
       "12.5625"
      ]
     },
     "execution_count": 1,
     "metadata": {},
     "output_type": "execute_result"
    }
   ],
   "source": [
    "tax = 12.5 / 100\n",
    "price = 100.50\n",
    "price * tax"
   ]
  },
  {
   "cell_type": "code",
   "execution_count": null,
   "id": "92e2d297",
   "metadata": {},
   "outputs": [
    {
     "data": {
      "text/plain": [
       "113.0625"
      ]
     },
     "execution_count": 1,
     "metadata": {},
     "output_type": "execute_result"
    }
   ],
   "source": [
    "price + _"
   ]
  },
  {
   "cell_type": "code",
   "execution_count": null,
   "id": "a7ffd081",
   "metadata": {},
   "outputs": [
    {
     "data": {
      "text/plain": [
       "113.06"
      ]
     },
     "execution_count": 1,
     "metadata": {},
     "output_type": "execute_result"
    }
   ],
   "source": [
    "round(_, 2)"
   ]
  },
  {
   "cell_type": "markdown",
   "id": "a56dc121",
   "metadata": {},
   "source": [
    "This variable should be treated as read-only by the user. Don't\n",
    "explicitly assign a value to it --- you would create an independent\n",
    "local variable with the same name masking the built-in variable with its\n",
    "magic behavior.\n",
    "\n",
    "In addition to `int` and `float`, Python supports other types of\n",
    "numbers, such as `~decimal.Decimal` and `~fractions.Fraction`. Python\n",
    "also has built-in support for [complex numbers](typesnumeric.ipynb), and\n",
    "uses the `j` or `J` suffix to indicate the imaginary part (e.g. `3+5j`).\n",
    "\n",
    "### Text\n",
    "\n",
    "Python can manipulate text (represented by type `str`, so-called\n",
    "\"strings\") as well as numbers. This includes characters \"`!`\", words\n",
    "\"`rabbit`\", names \"`Paris`\", sentences \"`Got your back.`\", etc.\n",
    "\"`Yay! :)`\". They can be enclosed in single quotes (`'...'`) or double\n",
    "quotes (`\"...\"`) with the same result[2].\n",
    "\n",
    "> \\>\\>\\> 'spam eggs' \\# single quotes 'spam eggs' \\>\\>\\> \"Paris rabbit\n",
    "> got your back :)! Yay!\" \\# double quotes 'Paris rabbit got your back\n",
    "> :)! Yay!' \\>\\>\\> '1975' \\# digits and numerals enclosed in quotes are\n",
    "> also strings '1975'\n",
    "\n",
    "To quote a quote, we need to \"escape\" it, by preceding it with `\\`.\n",
    "Alternatively, we can use the other type of quotation marks:"
   ]
  },
  {
   "cell_type": "code",
   "execution_count": null,
   "id": "0237f1fc",
   "metadata": {},
   "outputs": [
    {
     "data": {
      "text/plain": [
       "\"doesn't\""
      ]
     },
     "execution_count": 1,
     "metadata": {},
     "output_type": "execute_result"
    }
   ],
   "source": [
    "'doesn\\'t'  # use \\' to escape the single quote..."
   ]
  },
  {
   "cell_type": "code",
   "execution_count": null,
   "id": "586b88b2",
   "metadata": {},
   "outputs": [
    {
     "data": {
      "text/plain": [
       "\"doesn't\""
      ]
     },
     "execution_count": 1,
     "metadata": {},
     "output_type": "execute_result"
    }
   ],
   "source": [
    "\"doesn't\"  # ...or use double quotes instead"
   ]
  },
  {
   "cell_type": "code",
   "execution_count": null,
   "id": "85acd31a",
   "metadata": {},
   "outputs": [
    {
     "data": {
      "text/plain": [
       "'\"Yes,\" they said.'"
      ]
     },
     "execution_count": 1,
     "metadata": {},
     "output_type": "execute_result"
    }
   ],
   "source": [
    "'\"Yes,\" they said.'"
   ]
  },
  {
   "cell_type": "code",
   "execution_count": null,
   "id": "1501d5a0",
   "metadata": {},
   "outputs": [
    {
     "data": {
      "text/plain": [
       "'\"Yes,\" they said.'"
      ]
     },
     "execution_count": 1,
     "metadata": {},
     "output_type": "execute_result"
    }
   ],
   "source": [
    "\"\\\"Yes,\\\" they said.\""
   ]
  },
  {
   "cell_type": "code",
   "execution_count": null,
   "id": "a88e9272",
   "metadata": {},
   "outputs": [
    {
     "data": {
      "text/plain": [
       "'\"Isn\\'t,\" they said.'"
      ]
     },
     "execution_count": 1,
     "metadata": {},
     "output_type": "execute_result"
    }
   ],
   "source": [
    "'\"Isn\\'t,\" they said.'"
   ]
  },
  {
   "cell_type": "markdown",
   "id": "bf878a75",
   "metadata": {},
   "source": [
    "In the Python shell, the string definition and output string can look\n",
    "different. The `print` function produces a more readable output, by\n",
    "omitting the enclosing quotes and by printing escaped and special\n",
    "characters:"
   ]
  },
  {
   "cell_type": "code",
   "execution_count": null,
   "id": "7649b07d",
   "metadata": {},
   "outputs": [
    {
     "data": {
      "text/plain": [
       "'First line.\\nSecond line.'"
      ]
     },
     "execution_count": 1,
     "metadata": {},
     "output_type": "execute_result"
    }
   ],
   "source": [
    "s = 'First line.\\nSecond line.'  # \\n means newline\n",
    "s  # without print(), special characters are included in the string"
   ]
  },
  {
   "cell_type": "code",
   "execution_count": null,
   "id": "f3d6d39b",
   "metadata": {},
   "outputs": [
    {
     "data": {
      "text/plain": [
       "First line.\n",
       "Second line."
      ]
     },
     "execution_count": 1,
     "metadata": {},
     "output_type": "execute_result"
    }
   ],
   "source": [
    "print(s)  # with print(), special characters are interpreted, so \\n produces new line"
   ]
  },
  {
   "cell_type": "markdown",
   "id": "55161c83",
   "metadata": {},
   "source": [
    "If you don't want characters prefaced by `\\` to be interpreted as\n",
    "special characters, you can use *raw strings* by adding an `r` before\n",
    "the first quote:"
   ]
  },
  {
   "cell_type": "code",
   "execution_count": null,
   "id": "905c1233",
   "metadata": {},
   "outputs": [
    {
     "data": {
      "text/plain": [
       "C:\\some\n",
       "ame"
      ]
     },
     "execution_count": 1,
     "metadata": {},
     "output_type": "execute_result"
    }
   ],
   "source": [
    "print('C:\\some\\name')  # here \\n means newline!"
   ]
  },
  {
   "cell_type": "code",
   "execution_count": null,
   "id": "69e970e6",
   "metadata": {},
   "outputs": [
    {
     "data": {
      "text/plain": [
       "C:\\some\\name"
      ]
     },
     "execution_count": 1,
     "metadata": {},
     "output_type": "execute_result"
    }
   ],
   "source": [
    "print(r'C:\\some\\name')  # note the r before the quote"
   ]
  },
  {
   "cell_type": "markdown",
   "id": "c793c9f9",
   "metadata": {},
   "source": [
    "There is one subtle aspect to raw strings: a raw string may not end in\n",
    "an odd number of `\\` characters; see [the FAQ\n",
    "entry](faq-programming-raw-string-backslash.ipynb) for more information\n",
    "and workarounds.\n",
    "\n",
    "String literals can span multiple lines. One way is using triple-quotes:\n",
    "`\"\"\"...\"\"\"` or `'''...'''`. End of lines are automatically included in\n",
    "the string, but it's possible to prevent this by adding a `\\` at the end\n",
    "of the line. The following example:"
   ]
  },
  {
   "cell_type": "code",
   "execution_count": null,
   "id": "d158105b",
   "metadata": {},
   "outputs": [],
   "source": [
    "print(\"\"\"\\\n",
    "Usage: thingy [OPTIONS]\n",
    "     -h                        Display this usage message\n",
    "     -H hostname               Hostname to connect to\n",
    "\"\"\")"
   ]
  },
  {
   "cell_type": "markdown",
   "id": "b3802f4b",
   "metadata": {},
   "source": [
    "produces the following output (note that the initial newline is not\n",
    "included):"
   ]
  },
  {
   "cell_type": "code",
   "execution_count": null,
   "id": "2455eb65",
   "metadata": {},
   "outputs": [],
   "source": [
    "Usage: thingy [OPTIONS]\n",
    "     -h                        Display this usage message\n",
    "     -H hostname               Hostname to connect to"
   ]
  },
  {
   "cell_type": "markdown",
   "id": "a7fb51c7",
   "metadata": {},
   "source": [
    "Strings can be concatenated (glued together) with the `+` operator, and\n",
    "repeated with `*` :"
   ]
  },
  {
   "cell_type": "code",
   "execution_count": null,
   "id": "6cdc939a",
   "metadata": {},
   "outputs": [
    {
     "data": {
      "text/plain": [
       "'unununium'"
      ]
     },
     "execution_count": 1,
     "metadata": {},
     "output_type": "execute_result"
    }
   ],
   "source": [
    "# 3 times 'un', followed by 'ium'\n",
    "3 * 'un' + 'ium'"
   ]
  },
  {
   "cell_type": "markdown",
   "id": "fb74aab3",
   "metadata": {},
   "source": [
    "Two or more *string literals* (i.e. the ones enclosed between quotes)\n",
    "next to each other are automatically concatenated. :"
   ]
  },
  {
   "cell_type": "code",
   "execution_count": null,
   "id": "a1a0d367",
   "metadata": {},
   "outputs": [
    {
     "data": {
      "text/plain": [
       "'Python'"
      ]
     },
     "execution_count": 1,
     "metadata": {},
     "output_type": "execute_result"
    }
   ],
   "source": [
    "'Py' 'thon'"
   ]
  },
  {
   "cell_type": "markdown",
   "id": "f70841bb",
   "metadata": {},
   "source": [
    "This feature is particularly useful when you want to break long strings:"
   ]
  },
  {
   "cell_type": "code",
   "execution_count": null,
   "id": "b4369865",
   "metadata": {},
   "outputs": [
    {
     "data": {
      "text/plain": [
       "'Put several strings within parentheses to have them joined together.'"
      ]
     },
     "execution_count": 1,
     "metadata": {},
     "output_type": "execute_result"
    }
   ],
   "source": [
    "text = ('Put several strings within parentheses '\n",
    "        'to have them joined together.')\n",
    "text"
   ]
  },
  {
   "cell_type": "markdown",
   "id": "88526fa2",
   "metadata": {},
   "source": [
    "This only works with two literals though, not with variables or\n",
    "expressions:"
   ]
  },
  {
   "cell_type": "code",
   "execution_count": null,
   "id": "7ae7dae9",
   "metadata": {},
   "outputs": [
    {
     "data": {
      "text/plain": [
       "  File \"<stdin>\", line 1\n",
       "    prefix 'thon'\n",
       "           ^^^^^^\n",
       "SyntaxError: invalid syntax"
      ]
     },
     "execution_count": 1,
     "metadata": {},
     "output_type": "execute_result"
    }
   ],
   "source": [
    "prefix = 'Py'\n",
    "prefix 'thon'  # can't concatenate a variable and a string literal"
   ]
  },
  {
   "cell_type": "code",
   "execution_count": null,
   "id": "e0d53ece",
   "metadata": {},
   "outputs": [
    {
     "data": {
      "text/plain": [
       "  File \"<stdin>\", line 1\n",
       "    ('un' * 3) 'ium'\n",
       "               ^^^^^\n",
       "SyntaxError: invalid syntax"
      ]
     },
     "execution_count": 1,
     "metadata": {},
     "output_type": "execute_result"
    }
   ],
   "source": [
    "('un' * 3) 'ium'"
   ]
  },
  {
   "cell_type": "markdown",
   "id": "79482c4a",
   "metadata": {},
   "source": [
    "If you want to concatenate variables or a variable and a literal, use\n",
    "`+` :"
   ]
  },
  {
   "cell_type": "code",
   "execution_count": null,
   "id": "5f546167",
   "metadata": {},
   "outputs": [
    {
     "data": {
      "text/plain": [
       "'Python'"
      ]
     },
     "execution_count": 1,
     "metadata": {},
     "output_type": "execute_result"
    }
   ],
   "source": [
    "prefix + 'thon'"
   ]
  },
  {
   "cell_type": "markdown",
   "id": "de04dd45",
   "metadata": {},
   "source": [
    "Strings can be *indexed* (subscripted), with the first character having\n",
    "index 0. There is no separate character type; a character is simply a\n",
    "string of size one:"
   ]
  },
  {
   "cell_type": "code",
   "execution_count": null,
   "id": "4ec8a28d",
   "metadata": {},
   "outputs": [
    {
     "data": {
      "text/plain": [
       "'P'"
      ]
     },
     "execution_count": 1,
     "metadata": {},
     "output_type": "execute_result"
    }
   ],
   "source": [
    "word = 'Python'\n",
    "word[0]  # character in position 0"
   ]
  },
  {
   "cell_type": "code",
   "execution_count": null,
   "id": "a5da98a7",
   "metadata": {},
   "outputs": [
    {
     "data": {
      "text/plain": [
       "'n'"
      ]
     },
     "execution_count": 1,
     "metadata": {},
     "output_type": "execute_result"
    }
   ],
   "source": [
    "word[5]  # character in position 5"
   ]
  },
  {
   "cell_type": "markdown",
   "id": "05430cdd",
   "metadata": {},
   "source": [
    "Indices may also be negative numbers, to start counting from the right:"
   ]
  },
  {
   "cell_type": "code",
   "execution_count": null,
   "id": "3e9326c0",
   "metadata": {},
   "outputs": [
    {
     "data": {
      "text/plain": [
       "'n'"
      ]
     },
     "execution_count": 1,
     "metadata": {},
     "output_type": "execute_result"
    }
   ],
   "source": [
    "word[-1]  # last character"
   ]
  },
  {
   "cell_type": "code",
   "execution_count": null,
   "id": "4055d32e",
   "metadata": {},
   "outputs": [
    {
     "data": {
      "text/plain": [
       "'o'"
      ]
     },
     "execution_count": 1,
     "metadata": {},
     "output_type": "execute_result"
    }
   ],
   "source": [
    "word[-2]  # second-last character"
   ]
  },
  {
   "cell_type": "code",
   "execution_count": null,
   "id": "dfdb2d53",
   "metadata": {},
   "outputs": [
    {
     "data": {
      "text/plain": [
       "'P'"
      ]
     },
     "execution_count": 1,
     "metadata": {},
     "output_type": "execute_result"
    }
   ],
   "source": [
    "word[-6]"
   ]
  },
  {
   "cell_type": "markdown",
   "id": "ec889087",
   "metadata": {},
   "source": [
    "Note that since -0 is the same as 0, negative indices start from -1.\n",
    "\n",
    "In addition to indexing, *slicing* is also supported. While indexing is\n",
    "used to obtain individual characters, *slicing* allows you to obtain a\n",
    "substring:"
   ]
  },
  {
   "cell_type": "code",
   "execution_count": null,
   "id": "059ad75a",
   "metadata": {},
   "outputs": [
    {
     "data": {
      "text/plain": [
       "'Py'"
      ]
     },
     "execution_count": 1,
     "metadata": {},
     "output_type": "execute_result"
    }
   ],
   "source": [
    "word[0:2]  # characters from position 0 (included) to 2 (excluded)"
   ]
  },
  {
   "cell_type": "code",
   "execution_count": null,
   "id": "d3455ddb",
   "metadata": {},
   "outputs": [
    {
     "data": {
      "text/plain": [
       "'tho'"
      ]
     },
     "execution_count": 1,
     "metadata": {},
     "output_type": "execute_result"
    }
   ],
   "source": [
    "word[2:5]  # characters from position 2 (included) to 5 (excluded)"
   ]
  },
  {
   "cell_type": "markdown",
   "id": "ffb65b8f",
   "metadata": {},
   "source": [
    "Slice indices have useful defaults; an omitted first index defaults to\n",
    "zero, an omitted second index defaults to the size of the string being\n",
    "sliced. :"
   ]
  },
  {
   "cell_type": "code",
   "execution_count": null,
   "id": "fd7d1d82",
   "metadata": {},
   "outputs": [
    {
     "data": {
      "text/plain": [
       "'Py'"
      ]
     },
     "execution_count": 1,
     "metadata": {},
     "output_type": "execute_result"
    }
   ],
   "source": [
    "word[:2]   # character from the beginning to position 2 (excluded)"
   ]
  },
  {
   "cell_type": "code",
   "execution_count": null,
   "id": "55dbd227",
   "metadata": {},
   "outputs": [
    {
     "data": {
      "text/plain": [
       "'on'"
      ]
     },
     "execution_count": 1,
     "metadata": {},
     "output_type": "execute_result"
    }
   ],
   "source": [
    "word[4:]   # characters from position 4 (included) to the end"
   ]
  },
  {
   "cell_type": "code",
   "execution_count": null,
   "id": "b6b4d000",
   "metadata": {},
   "outputs": [
    {
     "data": {
      "text/plain": [
       "'on'"
      ]
     },
     "execution_count": 1,
     "metadata": {},
     "output_type": "execute_result"
    }
   ],
   "source": [
    "word[-2:]  # characters from the second-last (included) to the end"
   ]
  },
  {
   "cell_type": "markdown",
   "id": "0ab1f7d4",
   "metadata": {},
   "source": [
    "Note how the start is always included, and the end always excluded. This\n",
    "makes sure that `s[:i] + s[i:]` is always equal to `s` :"
   ]
  },
  {
   "cell_type": "code",
   "execution_count": null,
   "id": "f77ef80a",
   "metadata": {},
   "outputs": [
    {
     "data": {
      "text/plain": [
       "'Python'"
      ]
     },
     "execution_count": 1,
     "metadata": {},
     "output_type": "execute_result"
    }
   ],
   "source": [
    "word[:2] + word[2:]"
   ]
  },
  {
   "cell_type": "code",
   "execution_count": null,
   "id": "d6e3b2e2",
   "metadata": {},
   "outputs": [
    {
     "data": {
      "text/plain": [
       "'Python'"
      ]
     },
     "execution_count": 1,
     "metadata": {},
     "output_type": "execute_result"
    }
   ],
   "source": [
    "word[:4] + word[4:]"
   ]
  },
  {
   "cell_type": "markdown",
   "id": "7b739ae0",
   "metadata": {},
   "source": [
    "One way to remember how slices work is to think of the indices as\n",
    "pointing *between* characters, with the left edge of the first character\n",
    "numbered 0. Then the right edge of the last character of a string of *n*\n",
    "characters has index *n*, for example:"
   ]
  },
  {
   "cell_type": "code",
   "execution_count": null,
   "id": "a389f8e1",
   "metadata": {},
   "outputs": [],
   "source": [
    "+---+---+---+---+---+---+\n",
    "| P | y | t | h | o | n |\n",
    "+---+---+---+---+---+---+\n",
    "0   1   2   3   4   5   6\n",
    "-6  -5  -4  -3  -2  -1"
   ]
  },
  {
   "cell_type": "markdown",
   "id": "24280f66",
   "metadata": {},
   "source": [
    "The first row of numbers gives the position of the indices 0...6 in the\n",
    "string; the second row gives the corresponding negative indices. The\n",
    "slice from *i* to *j* consists of all characters between the edges\n",
    "labeled *i* and *j*, respectively.\n",
    "\n",
    "For non-negative indices, the length of a slice is the difference of the\n",
    "indices, if both are within bounds. For example, the length of\n",
    "`word[1:3]` is 2.\n",
    "\n",
    "Attempting to use an index that is too large will result in an error:"
   ]
  },
  {
   "cell_type": "code",
   "execution_count": null,
   "id": "2ab33568",
   "metadata": {},
   "outputs": [
    {
     "data": {
      "text/plain": [
       "Traceback (most recent call last):\n",
       "  File \"<stdin>\", line 1, in <module>\n",
       "IndexError: string index out of range"
      ]
     },
     "execution_count": 1,
     "metadata": {},
     "output_type": "execute_result"
    }
   ],
   "source": [
    "word[42]  # the word only has 6 characters"
   ]
  },
  {
   "cell_type": "markdown",
   "id": "0a595bdd",
   "metadata": {},
   "source": [
    "However, out of range slice indexes are handled gracefully when used for\n",
    "slicing:"
   ]
  },
  {
   "cell_type": "code",
   "execution_count": null,
   "id": "65130a4c",
   "metadata": {},
   "outputs": [
    {
     "data": {
      "text/plain": [
       "'on'"
      ]
     },
     "execution_count": 1,
     "metadata": {},
     "output_type": "execute_result"
    }
   ],
   "source": [
    "word[4:42]"
   ]
  },
  {
   "cell_type": "code",
   "execution_count": null,
   "id": "863a2221",
   "metadata": {},
   "outputs": [
    {
     "data": {
      "text/plain": [
       "''"
      ]
     },
     "execution_count": 1,
     "metadata": {},
     "output_type": "execute_result"
    }
   ],
   "source": [
    "word[42:]"
   ]
  },
  {
   "cell_type": "markdown",
   "id": "6af00a35",
   "metadata": {},
   "source": [
    "Python strings cannot be changed --- they are `immutable`. Therefore,\n",
    "assigning to an indexed position in the string results in an error:"
   ]
  },
  {
   "cell_type": "code",
   "execution_count": null,
   "id": "f312de27",
   "metadata": {},
   "outputs": [
    {
     "data": {
      "text/plain": [
       "Traceback (most recent call last):\n",
       "  File \"<stdin>\", line 1, in <module>\n",
       "TypeError: 'str' object does not support item assignment"
      ]
     },
     "execution_count": 1,
     "metadata": {},
     "output_type": "execute_result"
    }
   ],
   "source": [
    "word[0] = 'J'"
   ]
  },
  {
   "cell_type": "code",
   "execution_count": null,
   "id": "6af8caa3",
   "metadata": {},
   "outputs": [
    {
     "data": {
      "text/plain": [
       "Traceback (most recent call last):\n",
       "  File \"<stdin>\", line 1, in <module>\n",
       "TypeError: 'str' object does not support item assignment"
      ]
     },
     "execution_count": 1,
     "metadata": {},
     "output_type": "execute_result"
    }
   ],
   "source": [
    "word[2:] = 'py'"
   ]
  },
  {
   "cell_type": "markdown",
   "id": "9abfbe9a",
   "metadata": {},
   "source": [
    "If you need a different string, you should create a new one:"
   ]
  },
  {
   "cell_type": "code",
   "execution_count": null,
   "id": "eaf0a943",
   "metadata": {},
   "outputs": [
    {
     "data": {
      "text/plain": [
       "'Jython'"
      ]
     },
     "execution_count": 1,
     "metadata": {},
     "output_type": "execute_result"
    }
   ],
   "source": [
    "'J' + word[1:]"
   ]
  },
  {
   "cell_type": "code",
   "execution_count": null,
   "id": "9925bb79",
   "metadata": {},
   "outputs": [
    {
     "data": {
      "text/plain": [
       "'Pypy'"
      ]
     },
     "execution_count": 1,
     "metadata": {},
     "output_type": "execute_result"
    }
   ],
   "source": [
    "word[:2] + 'py'"
   ]
  },
  {
   "cell_type": "markdown",
   "id": "35bfe9bb",
   "metadata": {},
   "source": [
    "The built-in function `len` returns the length of a string:"
   ]
  },
  {
   "cell_type": "code",
   "execution_count": null,
   "id": "a70f98a3",
   "metadata": {},
   "outputs": [
    {
     "data": {
      "text/plain": [
       "34"
      ]
     },
     "execution_count": 1,
     "metadata": {},
     "output_type": "execute_result"
    }
   ],
   "source": [
    "s = 'supercalifragilisticexpialidocious'\n",
    "len(s)"
   ]
  },
  {
   "cell_type": "markdown",
   "id": "e954b53d",
   "metadata": {},
   "source": [
    "[textseq](textseq.ipynb)  \n",
    "Strings are examples of *sequence types*, and support the common\n",
    "operations supported by such types.\n",
    "\n",
    "[string-methods](string-methods.ipynb)  \n",
    "Strings support a large number of methods for basic transformations and\n",
    "searching.\n",
    "\n",
    "[f-strings](f-strings.ipynb)  \n",
    "String literals that have embedded expressions.\n",
    "\n",
    "[formatstrings](formatstrings.ipynb)  \n",
    "Information about string formatting with `str.format`.\n",
    "\n",
    "[old-string-formatting](old-string-formatting.ipynb)  \n",
    "The old formatting operations invoked when strings are the left operand\n",
    "of the `%` operator are described in more detail here.\n",
    "\n",
    "### Lists\n",
    "\n",
    "Python knows a number of *compound* data types, used to group together\n",
    "other values. The most versatile is the *list*, which can be written as\n",
    "a list of comma-separated values (items) between square brackets. Lists\n",
    "might contain items of different types, but usually the items all have\n",
    "the same type. :"
   ]
  },
  {
   "cell_type": "code",
   "execution_count": null,
   "id": "988d99a5",
   "metadata": {},
   "outputs": [
    {
     "data": {
      "text/plain": [
       "[1, 4, 9, 16, 25]"
      ]
     },
     "execution_count": 1,
     "metadata": {},
     "output_type": "execute_result"
    }
   ],
   "source": [
    "squares = [1, 4, 9, 16, 25]\n",
    "squares"
   ]
  },
  {
   "cell_type": "markdown",
   "id": "2c3e810b",
   "metadata": {},
   "source": [
    "Like strings (and all other built-in `sequence` types), lists can be\n",
    "indexed and sliced:"
   ]
  },
  {
   "cell_type": "code",
   "execution_count": null,
   "id": "94a6789b",
   "metadata": {},
   "outputs": [
    {
     "data": {
      "text/plain": [
       "1"
      ]
     },
     "execution_count": 1,
     "metadata": {},
     "output_type": "execute_result"
    }
   ],
   "source": [
    "squares[0]  # indexing returns the item"
   ]
  },
  {
   "cell_type": "code",
   "execution_count": null,
   "id": "57b39c41",
   "metadata": {},
   "outputs": [
    {
     "data": {
      "text/plain": [
       "25"
      ]
     },
     "execution_count": 1,
     "metadata": {},
     "output_type": "execute_result"
    }
   ],
   "source": [
    "squares[-1]"
   ]
  },
  {
   "cell_type": "code",
   "execution_count": null,
   "id": "3499a0be",
   "metadata": {},
   "outputs": [
    {
     "data": {
      "text/plain": [
       "[9, 16, 25]"
      ]
     },
     "execution_count": 1,
     "metadata": {},
     "output_type": "execute_result"
    }
   ],
   "source": [
    "squares[-3:]  # slicing returns a new list"
   ]
  },
  {
   "cell_type": "markdown",
   "id": "6efdc457",
   "metadata": {},
   "source": [
    "Lists also support operations like concatenation:"
   ]
  },
  {
   "cell_type": "code",
   "execution_count": null,
   "id": "0869c021",
   "metadata": {},
   "outputs": [
    {
     "data": {
      "text/plain": [
       "[1, 4, 9, 16, 25, 36, 49, 64, 81, 100]"
      ]
     },
     "execution_count": 1,
     "metadata": {},
     "output_type": "execute_result"
    }
   ],
   "source": [
    "squares + [36, 49, 64, 81, 100]"
   ]
  },
  {
   "cell_type": "markdown",
   "id": "cb84f8fe",
   "metadata": {},
   "source": [
    "Unlike strings, which are `immutable`, lists are a `mutable` type, i.e.\n",
    "it is possible to change their content:"
   ]
  },
  {
   "cell_type": "code",
   "execution_count": null,
   "id": "8c8b815c",
   "metadata": {},
   "outputs": [
    {
     "data": {
      "text/plain": [
       "64"
      ]
     },
     "execution_count": 1,
     "metadata": {},
     "output_type": "execute_result"
    }
   ],
   "source": [
    "cubes = [1, 8, 27, 65, 125]  # something's wrong here\n",
    "4 ** 3  # the cube of 4 is 64, not 65!"
   ]
  },
  {
   "cell_type": "code",
   "execution_count": null,
   "id": "8c52015d",
   "metadata": {},
   "outputs": [
    {
     "data": {
      "text/plain": [
       "[1, 8, 27, 64, 125]"
      ]
     },
     "execution_count": 1,
     "metadata": {},
     "output_type": "execute_result"
    }
   ],
   "source": [
    "cubes[3] = 64  # replace the wrong value\n",
    "cubes"
   ]
  },
  {
   "cell_type": "markdown",
   "id": "f61ddd74",
   "metadata": {},
   "source": [
    "You can also add new items at the end of the list, by using the\n",
    "`!list.append` *method* (we will see more about methods later):"
   ]
  },
  {
   "cell_type": "code",
   "execution_count": null,
   "id": "6b4ffcd2",
   "metadata": {},
   "outputs": [
    {
     "data": {
      "text/plain": [
       "[1, 8, 27, 64, 125, 216, 343]"
      ]
     },
     "execution_count": 1,
     "metadata": {},
     "output_type": "execute_result"
    }
   ],
   "source": [
    "cubes.append(216)  # add the cube of 6\n",
    "cubes.append(7 ** 3)  # and the cube of 7\n",
    "cubes"
   ]
  },
  {
   "cell_type": "markdown",
   "id": "2772dddc",
   "metadata": {},
   "source": [
    "Simple assignment in Python never copies data. When you assign a list to\n",
    "a variable, the variable refers to the *existing list*. Any changes you\n",
    "make to the list through one variable will be seen through all other\n",
    "variables that refer to it.:"
   ]
  },
  {
   "cell_type": "code",
   "execution_count": null,
   "id": "b54a8e36",
   "metadata": {},
   "outputs": [
    {
     "data": {
      "text/plain": [
       "True"
      ]
     },
     "execution_count": 1,
     "metadata": {},
     "output_type": "execute_result"
    }
   ],
   "source": [
    "rgb = [\"Red\", \"Green\", \"Blue\"]\n",
    "rgba = rgb\n",
    "id(rgb) == id(rgba)  # they reference the same object"
   ]
  },
  {
   "cell_type": "code",
   "execution_count": null,
   "id": "5eb3261e",
   "metadata": {},
   "outputs": [
    {
     "data": {
      "text/plain": [
       "[\"Red\", \"Green\", \"Blue\", \"Alph\"]"
      ]
     },
     "execution_count": 1,
     "metadata": {},
     "output_type": "execute_result"
    }
   ],
   "source": [
    "rgba.append(\"Alph\")\n",
    "rgb"
   ]
  },
  {
   "cell_type": "markdown",
   "id": "9d3db23a",
   "metadata": {},
   "source": [
    "All slice operations return a new list containing the requested\n",
    "elements. This means that the following slice returns a [shallow\n",
    "copy](shallow_vs_deep_copy.ipynb) of the list:"
   ]
  },
  {
   "cell_type": "code",
   "execution_count": null,
   "id": "d09b97b1",
   "metadata": {},
   "outputs": [
    {
     "data": {
      "text/plain": [
       "[\"Red\", \"Green\", \"Blue\", \"Alpha\"]"
      ]
     },
     "execution_count": 1,
     "metadata": {},
     "output_type": "execute_result"
    }
   ],
   "source": [
    "correct_rgba = rgba[:]\n",
    "correct_rgba[-1] = \"Alpha\"\n",
    "correct_rgba"
   ]
  },
  {
   "cell_type": "code",
   "execution_count": null,
   "id": "2eeabb4e",
   "metadata": {},
   "outputs": [
    {
     "data": {
      "text/plain": [
       "[\"Red\", \"Green\", \"Blue\", \"Alph\"]"
      ]
     },
     "execution_count": 1,
     "metadata": {},
     "output_type": "execute_result"
    }
   ],
   "source": [
    "rgba"
   ]
  },
  {
   "cell_type": "markdown",
   "id": "1205d85e",
   "metadata": {},
   "source": [
    "Assignment to slices is also possible, and this can even change the size\n",
    "of the list or clear it entirely:"
   ]
  },
  {
   "cell_type": "code",
   "execution_count": null,
   "id": "5b5465a1",
   "metadata": {},
   "outputs": [
    {
     "data": {
      "text/plain": [
       "['a', 'b', 'c', 'd', 'e', 'f', 'g']"
      ]
     },
     "execution_count": 1,
     "metadata": {},
     "output_type": "execute_result"
    }
   ],
   "source": [
    "letters = ['a', 'b', 'c', 'd', 'e', 'f', 'g']\n",
    "letters"
   ]
  },
  {
   "cell_type": "code",
   "execution_count": null,
   "id": "6c37ae11",
   "metadata": {},
   "outputs": [
    {
     "data": {
      "text/plain": [
       "['a', 'b', 'C', 'D', 'E', 'f', 'g']"
      ]
     },
     "execution_count": 1,
     "metadata": {},
     "output_type": "execute_result"
    }
   ],
   "source": [
    "# replace some values\n",
    "letters[2:5] = ['C', 'D', 'E']\n",
    "letters"
   ]
  },
  {
   "cell_type": "code",
   "execution_count": null,
   "id": "bde3ed06",
   "metadata": {},
   "outputs": [
    {
     "data": {
      "text/plain": [
       "['a', 'b', 'f', 'g']"
      ]
     },
     "execution_count": 1,
     "metadata": {},
     "output_type": "execute_result"
    }
   ],
   "source": [
    "# now remove them\n",
    "letters[2:5] = []\n",
    "letters"
   ]
  },
  {
   "cell_type": "code",
   "execution_count": null,
   "id": "15a23416",
   "metadata": {},
   "outputs": [
    {
     "data": {
      "text/plain": [
       "[]"
      ]
     },
     "execution_count": 1,
     "metadata": {},
     "output_type": "execute_result"
    }
   ],
   "source": [
    "# clear the list by replacing all the elements with an empty list\n",
    "letters[:] = []\n",
    "letters"
   ]
  },
  {
   "cell_type": "markdown",
   "id": "458d929d",
   "metadata": {},
   "source": [
    "The built-in function `len` also applies to lists:"
   ]
  },
  {
   "cell_type": "code",
   "execution_count": null,
   "id": "e6abd8b4",
   "metadata": {},
   "outputs": [
    {
     "data": {
      "text/plain": [
       "4"
      ]
     },
     "execution_count": 1,
     "metadata": {},
     "output_type": "execute_result"
    }
   ],
   "source": [
    "letters = ['a', 'b', 'c', 'd']\n",
    "len(letters)"
   ]
  },
  {
   "cell_type": "markdown",
   "id": "d71d3764",
   "metadata": {},
   "source": [
    "It is possible to nest lists (create lists containing other lists), for\n",
    "example:"
   ]
  },
  {
   "cell_type": "code",
   "execution_count": null,
   "id": "b762908e",
   "metadata": {},
   "outputs": [
    {
     "data": {
      "text/plain": [
       "[['a', 'b', 'c'], [1, 2, 3]]"
      ]
     },
     "execution_count": 1,
     "metadata": {},
     "output_type": "execute_result"
    }
   ],
   "source": [
    "a = ['a', 'b', 'c']\n",
    "n = [1, 2, 3]\n",
    "x = [a, n]\n",
    "x"
   ]
  },
  {
   "cell_type": "code",
   "execution_count": null,
   "id": "ddc57bea",
   "metadata": {},
   "outputs": [
    {
     "data": {
      "text/plain": [
       "['a', 'b', 'c']"
      ]
     },
     "execution_count": 1,
     "metadata": {},
     "output_type": "execute_result"
    }
   ],
   "source": [
    "x[0]"
   ]
  },
  {
   "cell_type": "code",
   "execution_count": null,
   "id": "987a7b9f",
   "metadata": {},
   "outputs": [
    {
     "data": {
      "text/plain": [
       "'b'"
      ]
     },
     "execution_count": 1,
     "metadata": {},
     "output_type": "execute_result"
    }
   ],
   "source": [
    "x[0][1]"
   ]
  },
  {
   "cell_type": "markdown",
   "id": "e2dc488b",
   "metadata": {},
   "source": [
    "## First Steps Towards Programming\n",
    "\n",
    "Of course, we can use Python for more complicated tasks than adding two\n",
    "and two together. For instance, we can write an initial sub-sequence of\n",
    "the [Fibonacci series](https://en.wikipedia.org/wiki/Fibonacci_sequence)\n",
    "as follows:"
   ]
  },
  {
   "cell_type": "code",
   "execution_count": null,
   "id": "f9ebdd00",
   "metadata": {},
   "outputs": [
    {
     "data": {
      "text/plain": [
       "0\n",
       "1\n",
       "1\n",
       "2\n",
       "3\n",
       "5\n",
       "8"
      ]
     },
     "execution_count": 1,
     "metadata": {},
     "output_type": "execute_result"
    }
   ],
   "source": [
    "# Fibonacci series:\n",
    "# the sum of two elements defines the next\n",
    "a, b = 0, 1\n",
    "while a < 10:\n",
    "    print(a)\n",
    "    a, b = b, a+b"
   ]
  },
  {
   "cell_type": "markdown",
   "id": "958b946e",
   "metadata": {},
   "source": [
    "This example introduces several new features.\n",
    "\n",
    "-   The first line contains a *multiple assignment*: the variables `a`\n",
    "    and `b` simultaneously get the new values 0 and 1. On the last line\n",
    "    this is used again, demonstrating that the expressions on the\n",
    "    right-hand side are all evaluated first before any of the\n",
    "    assignments take place. The right-hand side expressions are\n",
    "    evaluated from the left to the right.\n",
    "\n",
    "-   The `while` loop executes as long as the condition (here: `a < 10`)\n",
    "    remains true. In Python, like in C, any non-zero integer value is\n",
    "    true; zero is false. The condition may also be a string or list\n",
    "    value, in fact any sequence; anything with a non-zero length is\n",
    "    true, empty sequences are false. The test used in the example is a\n",
    "    simple comparison. The standard comparison operators are written the\n",
    "    same as in C: `<` (less than), `>` (greater than), `==` (equal to),\n",
    "    `<=` (less than or equal to), `>=` (greater than or equal to) and\n",
    "    `!=` (not equal to).\n",
    "\n",
    "-   The *body* of the loop is *indented*: indentation is Python's way of\n",
    "    grouping statements. At the interactive prompt, you have to type a\n",
    "    tab or space(s) for each indented line. In practice you will prepare\n",
    "    more complicated input for Python with a text editor; all decent\n",
    "    text editors have an auto-indent facility. When a compound statement\n",
    "    is entered interactively, it must be followed by a blank line to\n",
    "    indicate completion (since the parser cannot guess when you have\n",
    "    typed the last line). Note that each line within a basic block must\n",
    "    be indented by the same amount.\n",
    "\n",
    "-   The `print` function writes the value of the argument(s) it is\n",
    "    given. It differs from just writing the expression you want to write\n",
    "    (as we did earlier in the calculator examples) in the way it handles\n",
    "    multiple arguments, floating-point quantities, and strings. Strings\n",
    "    are printed without quotes, and a space is inserted between items,\n",
    "    so you can format things nicely, like this:"
   ]
  },
  {
   "cell_type": "code",
   "execution_count": null,
   "id": "7ef58a0b",
   "metadata": {},
   "outputs": [
    {
     "data": {
      "text/plain": [
       "The value of i is 65536"
      ]
     },
     "execution_count": 1,
     "metadata": {},
     "output_type": "execute_result"
    }
   ],
   "source": [
    "    i = 256*256\n",
    "    print('The value of i is', i)"
   ]
  },
  {
   "cell_type": "markdown",
   "id": "3232e0a1",
   "metadata": {},
   "source": [
    "\n",
    "    The keyword argument *end* can be used to avoid the newline after\n",
    "    the output, or end the output with a different string:\n",
    "```{.python .input}\n",
    "    a, b = 0, 1\n",
    "    while a < 1000:\n",
    "        print(a, end=',')\n",
    "        a, b = b, a+b\n",
    "```\n",
    "```{.json .output}\n",
    "    [{\"data\": {\"text/plain\": \"0,1,1,2,3,5,8,13,21,34,55,89,144,233,377,610,987,\"}, \"execution_count\": 1, \"metadata\": {}, \"output_type\": \"execute_result\"}]\n",
    "```\n"
   ]
  },
  {
   "cell_type": "markdown",
   "id": "4fed3be7",
   "metadata": {},
   "source": [
    "**Footnotes**\n",
    "\n",
    "[1] Since `**` has higher precedence than `-`, `-3**2` will be\n",
    "interpreted as `-(3**2)` and thus result in `-9`. To avoid this and get\n",
    "`9`, you can use `(-3)**2`.\n",
    "\n",
    "[2] Unlike other languages, special characters such as `\\n` have the\n",
    "same meaning with both single (`'...'`) and double (`\"...\"`) quotes. The\n",
    "only difference between the two is that within single quotes you don't\n",
    "need to escape `\"` (but you have to escape `\\'`) and vice versa."
   ]
  }
 ],
 "metadata": {},
 "nbformat": 4,
 "nbformat_minor": 5
}
